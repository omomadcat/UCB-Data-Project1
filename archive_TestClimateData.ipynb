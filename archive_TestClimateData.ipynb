{
 "cells": [
  {
   "cell_type": "code",
   "execution_count": 61,
   "metadata": {},
   "outputs": [],
   "source": [
    "import requests\n",
    "import os\n",
    "import json\n",
    "import pandas as pd\n",
    "import pprint\n",
    "\n",
    "from dotenv import load_dotenv"
   ]
  },
  {
   "cell_type": "code",
   "execution_count": 62,
   "metadata": {},
   "outputs": [],
   "source": [
    " # Load environment variables from .env file\n",
    "load_dotenv()\n",
    "\n",
    "# Get the API key\n",
    "api_key = os.getenv('NOAA_CLIMATE_DATA')\n",
    "token = api_key"
   ]
  },
  {
   "cell_type": "code",
   "execution_count": 63,
   "metadata": {},
   "outputs": [],
   "source": [
    "def get_weather_data(token, location_id, start_date, end_date, data_type):\n",
    "    url = \"https://www.ncdc.noaa.gov/cdo-web/api/v2/data\"\n",
    "    headers = {\n",
    "        'token': token\n",
    "    }\n",
    "    params = {\n",
    "        'datasetid': 'GSOY',  # Global Summary of the Month\n",
    "        'locationid': location_id,  # Location ID for the city\n",
    "        'startdate': start_date,\n",
    "        'enddate': end_date,\n",
    "        'datatypeid': data_type,\n",
    "        'units': 'standard',  # Use 'standard' for Fahrenheit, inches, etc.\n",
    "        'limit': 1000  # Adjust as needed\n",
    "    }\n",
    "\n",
    "    response = requests.get(url, headers=headers, params=params)\n",
    "    \n",
    "    if response.status_code == 200:\n",
    "        return response.json()\n",
    "    else:\n",
    "        return response.status_code, response.text"
   ]
  },
  {
   "cell_type": "code",
   "execution_count": 64,
   "metadata": {},
   "outputs": [
    {
     "name": "stdout",
     "output_type": "stream",
     "text": [
      "         date            station  DP10  DP1X  DT32   DX70   DX90   PRCP  TAVG  \\\n",
      "0  1995-01-01  GHCND:AG000060390   3.0   0.0  12.0  238.0  122.0   1.61  71.5   \n",
      "1  1996-01-01  GHCND:AG000060390   8.0   0.0   0.0  342.0  149.0   2.36  72.0   \n",
      "2  1997-01-01  GHCND:AG000060390  26.0   1.0   0.0  285.0  160.0  16.37  71.6   \n",
      "3  1998-01-01  GHCND:AG000060390   5.0   0.0   1.0  332.0  176.0   1.30  72.8   \n",
      "\n",
      "   TMAX  \n",
      "0  81.3  \n",
      "1  84.8  \n",
      "2  89.4  \n",
      "3  85.3  \n"
     ]
    }
   ],
   "source": [
    "\n",
    "# Example usage\n",
    "location_id = \"FIPS:AG\"  # FIPS code for Albania\n",
    "start_date = '1995-01-01'\n",
    "end_date = '2000-12-31'\n",
    "data_type = [\"DP10\", \"DP1X\", \"DT32\", \"DX70\", \"DX90\", \"PRCP\", \"RHAV\", \"TAVG\", 'TMAX']  # Example data type (Average Temperature)\n",
    "\n",
    "weather_data = get_weather_data(token, location_id, start_date, end_date, data_type)\n",
    "\n",
    "# Check if the response is successful or not\n",
    "if isinstance(weather_data, tuple):\n",
    "    # Error case\n",
    "    print(\"Error occurred: Status Code:\", weather_data[0], \"Message:\", weather_data[1])\n",
    "else:\n",
    "    # Success case\n",
    "    # Parse the JSON strings into dictionaries\n",
    "    metadata = weather_data[\"metadata\"]\n",
    "    results = weather_data[\"results\"]\n",
    "\n",
    "    # Create an empty DataFrame\n",
    "    df = pd.DataFrame()\n",
    "\n",
    "    # Iterate over each result\n",
    "    for result in results:\n",
    "        date = result[\"date\"][:10]  # Extract date portion\n",
    "        datatype = result[\"datatype\"]\n",
    "        value = result[\"value\"]\n",
    "        station = result[\"station\"]\n",
    "        \n",
    "        # Check if the date already exists in the DataFrame\n",
    "        if date not in df.index:\n",
    "            df.loc[date, \"station\"] = station\n",
    "        \n",
    "        # Add the value to the corresponding cell\n",
    "        df.loc[date, datatype] = value\n",
    "\n",
    "    # Reset index to make date a column\n",
    "    df.reset_index(inplace=True)\n",
    "    # Rename the 'index' column to 'date'\n",
    "    df.rename(columns={\"index\": \"date\"}, inplace=True)\n",
    "\n",
    "    print(df)\n",
    "    \n",
    "    # Constructing filename\n",
    "filename = f\"{location_id}_{start_date}_{end_date}_weather_data.csv\"\n",
    "        \n",
    "# Export the final dataframe to a CSV file with the constructed filename\n",
    "df.to_csv(filename, index=False)"
   ]
  },
  {
   "cell_type": "code",
   "execution_count": null,
   "metadata": {},
   "outputs": [],
   "source": []
  }
 ],
 "metadata": {
  "kernelspec": {
   "display_name": "class_env",
   "language": "python",
   "name": "python3"
  },
  "language_info": {
   "codemirror_mode": {
    "name": "ipython",
    "version": 3
   },
   "file_extension": ".py",
   "mimetype": "text/x-python",
   "name": "python",
   "nbconvert_exporter": "python",
   "pygments_lexer": "ipython3",
   "version": "3.12.3"
  }
 },
 "nbformat": 4,
 "nbformat_minor": 2
}
