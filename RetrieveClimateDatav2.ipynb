{
 "cells": [
  {
   "cell_type": "code",
   "execution_count": 1,
   "metadata": {},
   "outputs": [],
   "source": [
    "import requests\n",
    "import os\n",
    "import json\n",
    "import numpy as np\n",
    "import pandas as pd\n",
    "from datetime import datetime, timedelta\n",
    "\n",
    "from dotenv import load_dotenv"
   ]
  },
  {
   "cell_type": "code",
   "execution_count": 2,
   "metadata": {},
   "outputs": [],
   "source": [
    " # Load environment variables from .env file\n",
    "load_dotenv()\n",
    "\n",
    "# Get the API key\n",
    "api_key = os.getenv('NOAA_CLIMATE_DATA')\n",
    "token = api_key"
   ]
  },
  {
   "cell_type": "code",
   "execution_count": 3,
   "metadata": {},
   "outputs": [],
   "source": [
    "def get_weather_data(token, location_id, start_date, end_date, data_type):\n",
    "    url = \"https://www.ncdc.noaa.gov/cdo-web/api/v2/data\"\n",
    "    headers = {\n",
    "        'token': token\n",
    "    }\n",
    "    params = {\n",
    "        'datasetid': 'GSOY',  # Global Historical Climatology Network - GSOM is monthly, GSOY is yearly\n",
    "        'locationid': f'FIPS:{location_id}',  # Location ID for country\n",
    "        'startdate': start_date,\n",
    "        'enddate': end_date,\n",
    "        'datatypeid': data_type,\n",
    "        'units': 'standard',  # Use 'standard' for Fahrenheit, inches, etc.\n",
    "        'limit': 1000  # Adjust as needed\n",
    "    }\n",
    "\n",
    "    response = requests.get(url, headers=headers, params=params)\n",
    "    print(response)\n",
    "    \n",
    "    if response.status_code == 200:\n",
    "        return response.json()\n",
    "    else:\n",
    "        return response.status_code, response.text\n",
    "\n"
   ]
  },
  {
   "cell_type": "code",
   "execution_count": 4,
   "metadata": {},
   "outputs": [],
   "source": [
    "# list of dates\n",
    "start_dates = [\n",
    "    '1995-01-01', '2000-01-01', '2005-01-01', '2010-01-01',\n",
    "    '2015-01-01', '2020-01-01', '2023-01-01'\n",
    "]\n",
    "\n",
    "\n",
    "\n",
    "end_dates = [  \n",
    "    '1999-12-31', '2004-12-31', '2009-12-31', '2014-12-31',\n",
    "    '2019-12-31', '2023-12-31'\n",
    "]\n",
    "\n",
    "# Date types to get\n",
    "data_types = [\"DP10\", \"DP1X\", \"DT32\", \"DX70\", \"DX90\", \"PRCP\", \"RHAV\", \"TAVG\", 'TMAX']"
   ]
  },
  {
   "cell_type": "code",
   "execution_count": 5,
   "metadata": {},
   "outputs": [
    {
     "name": "stdout",
     "output_type": "stream",
     "text": [
      "  Code\n",
      "0   AE\n",
      "1   AF\n",
      "2   AG\n",
      "3   AJ\n",
      "4   AL\n"
     ]
    }
   ],
   "source": [
    "# Load country codes to data frame\n",
    "codes_path = 'Resources/ghcnd_country_codes.csv'\n",
    "code_country_df = pd.read_csv(codes_path, sep=',', header=0)\n",
    "location_ids = code_country_df['Code'].tolist()\n",
    "print(code_country_df.head())"
   ]
  },
  {
   "cell_type": "code",
   "execution_count": 6,
   "metadata": {},
   "outputs": [
    {
     "name": "stdout",
     "output_type": "stream",
     "text": [
      "<Response [200]>\n",
      "<Response [200]>\n",
      "<Response [200]>\n",
      "<Response [200]>\n",
      "<Response [200]>\n",
      "<Response [200]>\n",
      "<Response [200]>\n",
      "<Response [200]>\n",
      "<Response [503]>\n",
      "Error occurred: Status Code: 503 Message: <!DOCTYPE HTML PUBLIC \"-//IETF//DTD HTML 2.0//EN\">\n",
      "<html><head>\n",
      "<title>503 Service Unavailable</title>\n",
      "</head><body>\n",
      "<h1>Service Unavailable</h1>\n",
      "<p>The server is temporarily unable to service your\n",
      "request due to maintenance downtime or capacity\n",
      "problems. Please try again later.</p>\n",
      "<p>Additionally, a 503 Service Unavailable\n",
      "error was encountered while trying to use an ErrorDocument to handle the request.</p>\n",
      "</body></html>\n",
      "\n"
     ]
    },
    {
     "ename": "AttributeError",
     "evalue": "'tuple' object has no attribute 'get'",
     "output_type": "error",
     "traceback": [
      "\u001b[0;31m---------------------------------------------------------------------------\u001b[0m",
      "\u001b[0;31mAttributeError\u001b[0m                            Traceback (most recent call last)",
      "Cell \u001b[0;32mIn[6], line 15\u001b[0m\n\u001b[1;32m     11\u001b[0m         \u001b[38;5;28mprint\u001b[39m(\u001b[38;5;124m\"\u001b[39m\u001b[38;5;124mError occurred: Status Code:\u001b[39m\u001b[38;5;124m\"\u001b[39m, weather_data[\u001b[38;5;241m0\u001b[39m], \u001b[38;5;124m\"\u001b[39m\u001b[38;5;124mMessage:\u001b[39m\u001b[38;5;124m\"\u001b[39m, weather_data[\u001b[38;5;241m1\u001b[39m])\n\u001b[1;32m     12\u001b[0m \u001b[38;5;28;01melse\u001b[39;00m:\n\u001b[1;32m     13\u001b[0m     \u001b[38;5;66;03m# Success case\u001b[39;00m\n\u001b[1;32m     14\u001b[0m     \u001b[38;5;66;03m# Check if the response contains any data\u001b[39;00m\n\u001b[0;32m---> 15\u001b[0m     \u001b[38;5;28;01mif\u001b[39;00m \u001b[43mweather_data\u001b[49m\u001b[38;5;241;43m.\u001b[39;49m\u001b[43mget\u001b[49m(\u001b[38;5;124m\"\u001b[39m\u001b[38;5;124mresults\u001b[39m\u001b[38;5;124m\"\u001b[39m):\n\u001b[1;32m     16\u001b[0m         \u001b[38;5;66;03m# Parse the JSON strings into dictionaries\u001b[39;00m\n\u001b[1;32m     17\u001b[0m         results \u001b[38;5;241m=\u001b[39m weather_data[\u001b[38;5;124m\"\u001b[39m\u001b[38;5;124mresults\u001b[39m\u001b[38;5;124m\"\u001b[39m]\n\u001b[1;32m     19\u001b[0m         \u001b[38;5;66;03m# Create an empty DataFrame\u001b[39;00m\n",
      "\u001b[0;31mAttributeError\u001b[0m: 'tuple' object has no attribute 'get'"
     ]
    }
   ],
   "source": [
    "# Loop through each country and date range\n",
    "for location_id in location_ids:\n",
    "    for start_date, end_date in zip(start_dates, end_dates):\n",
    "\n",
    "        for data_type in data_types:\n",
    "            weather_data = get_weather_data(token, location_id, start_date, end_date, data_type)\n",
    "            \n",
    "            # Check if the response is successful or not\n",
    "            if isinstance(weather_data, tuple):\n",
    "                # Error case\n",
    "                print(\"Error occurred: Status Code:\", weather_data[0], \"Message:\", weather_data[1])\n",
    "        else:\n",
    "            # Success case\n",
    "            # Check if the response contains any data\n",
    "            if weather_data.get(\"results\"):\n",
    "                # Parse the JSON strings into dictionaries\n",
    "                results = weather_data[\"results\"]\n",
    "\n",
    "                # Create an empty DataFrame\n",
    "                columns = [\"station\", \"date\"] + data_types\n",
    "                df = pd.DataFrame(columns=columns)\n",
    "\n",
    "                # Iterate over each result\n",
    "                for result in results:\n",
    "                    date = result[\"date\"][:10]  # Extract date portion\n",
    "                    datatype = result[\"datatype\"]\n",
    "                    value = result[\"value\"]\n",
    "                    station = result[\"station\"]\n",
    "        \n",
    "                    # Check if the date already exists in the DataFrame\n",
    "                    if date not in df.index:\n",
    "                        df.loc[date, \"station\"] = station\n",
    "        \n",
    "                    # Add the value to the corresponding cell\n",
    "                    df.loc[date, datatype] = value\n",
    "\n",
    "                # Reset index to make date a column\n",
    "                df.reset_index(inplace=True)\n",
    "                # Rename the 'index' column to 'date'\n",
    "                df.rename(columns={\"index\": \"date\"}, inplace=True)\n",
    "\n",
    "                print(df)\n",
    "    \n",
    "            # Constructing filename\n",
    "            filename = f\"ClimateData/{location_id}_{start_date}_{end_date}_weather_data.csv\"\n",
    "        \n",
    "            # Export the final dataframe to a CSV file with the constructed filename\n",
    "            df.to_csv(filename, index=False)"
   ]
  }
 ],
 "metadata": {
  "kernelspec": {
   "display_name": "class_env",
   "language": "python",
   "name": "python3"
  },
  "language_info": {
   "codemirror_mode": {
    "name": "ipython",
    "version": 3
   },
   "file_extension": ".py",
   "mimetype": "text/x-python",
   "name": "python",
   "nbconvert_exporter": "python",
   "pygments_lexer": "ipython3",
   "version": "3.12.3"
  }
 },
 "nbformat": 4,
 "nbformat_minor": 2
}
