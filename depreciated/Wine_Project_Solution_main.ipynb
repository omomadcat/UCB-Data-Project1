{
 "cells": [
  {
   "cell_type": "code",
   "execution_count": 1,
   "metadata": {},
   "outputs": [],
   "source": [
    "# Import necessary libraries\n",
    "import pandas as pd\n",
    "import matplotlib.pyplot as plt\n",
    "from matplotlib.ticker import FuncFormatter\n",
    "import seaborn as sns\n",
    "import numpy as np\n",
    "from scipy import stats\n",
    "import geopandas as gpd\n",
    "import plotly.express as px\n",
    "import nbformat"
   ]
  },
  {
   "cell_type": "code",
   "execution_count": 2,
   "metadata": {},
   "outputs": [
    {
     "data": {
      "text/html": [
       "<div>\n",
       "<style scoped>\n",
       "    .dataframe tbody tr th:only-of-type {\n",
       "        vertical-align: middle;\n",
       "    }\n",
       "\n",
       "    .dataframe tbody tr th {\n",
       "        vertical-align: top;\n",
       "    }\n",
       "\n",
       "    .dataframe thead th {\n",
       "        text-align: right;\n",
       "    }\n",
       "</style>\n",
       "<table border=\"1\" class=\"dataframe\">\n",
       "  <thead>\n",
       "    <tr style=\"text-align: right;\">\n",
       "      <th></th>\n",
       "      <th>Continent</th>\n",
       "      <th>Region/Country</th>\n",
       "      <th>Product</th>\n",
       "      <th>Variable</th>\n",
       "      <th>Year</th>\n",
       "      <th>Unit</th>\n",
       "      <th>Quantity</th>\n",
       "      <th>Country_Code</th>\n",
       "      <th>DP10</th>\n",
       "      <th>DP1X</th>\n",
       "      <th>...</th>\n",
       "      <th>DX90</th>\n",
       "      <th>EMNT</th>\n",
       "      <th>EMXP</th>\n",
       "      <th>EMXT</th>\n",
       "      <th>HTDD</th>\n",
       "      <th>MNPN</th>\n",
       "      <th>MXPN</th>\n",
       "      <th>PRCP</th>\n",
       "      <th>TAVG</th>\n",
       "      <th>TMAX</th>\n",
       "    </tr>\n",
       "  </thead>\n",
       "  <tbody>\n",
       "    <tr>\n",
       "      <th>0</th>\n",
       "      <td>Asia</td>\n",
       "      <td>Afghanistan</td>\n",
       "      <td>Wine</td>\n",
       "      <td>Consumption</td>\n",
       "      <td>1995</td>\n",
       "      <td>1000 hl</td>\n",
       "      <td>0</td>\n",
       "      <td>AF</td>\n",
       "      <td>0</td>\n",
       "      <td>0</td>\n",
       "      <td>...</td>\n",
       "      <td>0</td>\n",
       "      <td>0.0</td>\n",
       "      <td>0.0</td>\n",
       "      <td>0.0</td>\n",
       "      <td>0</td>\n",
       "      <td>0</td>\n",
       "      <td>0</td>\n",
       "      <td>0.0</td>\n",
       "      <td>0.0</td>\n",
       "      <td>0.0</td>\n",
       "    </tr>\n",
       "    <tr>\n",
       "      <th>1</th>\n",
       "      <td>Asia</td>\n",
       "      <td>Afghanistan</td>\n",
       "      <td>Wine</td>\n",
       "      <td>Imports</td>\n",
       "      <td>1995</td>\n",
       "      <td>1000 hl</td>\n",
       "      <td>0</td>\n",
       "      <td>AF</td>\n",
       "      <td>0</td>\n",
       "      <td>0</td>\n",
       "      <td>...</td>\n",
       "      <td>0</td>\n",
       "      <td>0.0</td>\n",
       "      <td>0.0</td>\n",
       "      <td>0.0</td>\n",
       "      <td>0</td>\n",
       "      <td>0</td>\n",
       "      <td>0</td>\n",
       "      <td>0.0</td>\n",
       "      <td>0.0</td>\n",
       "      <td>0.0</td>\n",
       "    </tr>\n",
       "    <tr>\n",
       "      <th>2</th>\n",
       "      <td>Asia</td>\n",
       "      <td>Afghanistan</td>\n",
       "      <td>Wine</td>\n",
       "      <td>Production</td>\n",
       "      <td>1995</td>\n",
       "      <td>1000 hl</td>\n",
       "      <td>0</td>\n",
       "      <td>AF</td>\n",
       "      <td>0</td>\n",
       "      <td>0</td>\n",
       "      <td>...</td>\n",
       "      <td>0</td>\n",
       "      <td>0.0</td>\n",
       "      <td>0.0</td>\n",
       "      <td>0.0</td>\n",
       "      <td>0</td>\n",
       "      <td>0</td>\n",
       "      <td>0</td>\n",
       "      <td>0.0</td>\n",
       "      <td>0.0</td>\n",
       "      <td>0.0</td>\n",
       "    </tr>\n",
       "    <tr>\n",
       "      <th>3</th>\n",
       "      <td>Asia</td>\n",
       "      <td>Afghanistan</td>\n",
       "      <td>Wine</td>\n",
       "      <td>Consumption</td>\n",
       "      <td>1996</td>\n",
       "      <td>1000 hl</td>\n",
       "      <td>0</td>\n",
       "      <td>AF</td>\n",
       "      <td>0</td>\n",
       "      <td>0</td>\n",
       "      <td>...</td>\n",
       "      <td>0</td>\n",
       "      <td>0.0</td>\n",
       "      <td>0.0</td>\n",
       "      <td>0.0</td>\n",
       "      <td>0</td>\n",
       "      <td>0</td>\n",
       "      <td>0</td>\n",
       "      <td>0.0</td>\n",
       "      <td>0.0</td>\n",
       "      <td>0.0</td>\n",
       "    </tr>\n",
       "    <tr>\n",
       "      <th>4</th>\n",
       "      <td>Asia</td>\n",
       "      <td>Afghanistan</td>\n",
       "      <td>Wine</td>\n",
       "      <td>Imports</td>\n",
       "      <td>1996</td>\n",
       "      <td>1000 hl</td>\n",
       "      <td>0</td>\n",
       "      <td>AF</td>\n",
       "      <td>0</td>\n",
       "      <td>0</td>\n",
       "      <td>...</td>\n",
       "      <td>0</td>\n",
       "      <td>0.0</td>\n",
       "      <td>0.0</td>\n",
       "      <td>0.0</td>\n",
       "      <td>0</td>\n",
       "      <td>0</td>\n",
       "      <td>0</td>\n",
       "      <td>0.0</td>\n",
       "      <td>0.0</td>\n",
       "      <td>0.0</td>\n",
       "    </tr>\n",
       "  </tbody>\n",
       "</table>\n",
       "<p>5 rows × 22 columns</p>\n",
       "</div>"
      ],
      "text/plain": [
       "  Continent Region/Country Product     Variable  Year     Unit  Quantity  \\\n",
       "0      Asia    Afghanistan    Wine  Consumption  1995  1000 hl         0   \n",
       "1      Asia    Afghanistan    Wine      Imports  1995  1000 hl         0   \n",
       "2      Asia    Afghanistan    Wine   Production  1995  1000 hl         0   \n",
       "3      Asia    Afghanistan    Wine  Consumption  1996  1000 hl         0   \n",
       "4      Asia    Afghanistan    Wine      Imports  1996  1000 hl         0   \n",
       "\n",
       "  Country_Code  DP10  DP1X  ...  DX90  EMNT  EMXP  EMXT  HTDD  MNPN  MXPN  \\\n",
       "0           AF     0     0  ...     0   0.0   0.0   0.0     0     0     0   \n",
       "1           AF     0     0  ...     0   0.0   0.0   0.0     0     0     0   \n",
       "2           AF     0     0  ...     0   0.0   0.0   0.0     0     0     0   \n",
       "3           AF     0     0  ...     0   0.0   0.0   0.0     0     0     0   \n",
       "4           AF     0     0  ...     0   0.0   0.0   0.0     0     0     0   \n",
       "\n",
       "   PRCP  TAVG  TMAX  \n",
       "0   0.0   0.0   0.0  \n",
       "1   0.0   0.0   0.0  \n",
       "2   0.0   0.0   0.0  \n",
       "3   0.0   0.0   0.0  \n",
       "4   0.0   0.0   0.0  \n",
       "\n",
       "[5 rows x 22 columns]"
      ]
     },
     "execution_count": 2,
     "metadata": {},
     "output_type": "execute_result"
    }
   ],
   "source": [
    "# Step 1: Load data from Excel file\n",
    "file_path = r'Resources/Wine_Country_Weather_Data_adj.xlsx' \n",
    "wine_country_weather_data_df = pd.read_excel(file_path, sheet_name='Table')\n",
    "\n",
    "# Step 2: Display the first few rows of the DataFrame to verify loading\n",
    "wine_country_weather_data_df.head()"
   ]
  },
  {
   "cell_type": "code",
   "execution_count": 3,
   "metadata": {},
   "outputs": [
    {
     "data": {
      "text/html": [
       "<div>\n",
       "<style scoped>\n",
       "    .dataframe tbody tr th:only-of-type {\n",
       "        vertical-align: middle;\n",
       "    }\n",
       "\n",
       "    .dataframe tbody tr th {\n",
       "        vertical-align: top;\n",
       "    }\n",
       "\n",
       "    .dataframe thead th {\n",
       "        text-align: right;\n",
       "    }\n",
       "</style>\n",
       "<table border=\"1\" class=\"dataframe\">\n",
       "  <thead>\n",
       "    <tr style=\"text-align: right;\">\n",
       "      <th></th>\n",
       "      <th>DataType</th>\n",
       "      <th>Definition</th>\n",
       "    </tr>\n",
       "  </thead>\n",
       "  <tbody>\n",
       "    <tr>\n",
       "      <th>0</th>\n",
       "      <td>DP10</td>\n",
       "      <td>Number of days with &gt;= 0.1 inch</td>\n",
       "    </tr>\n",
       "    <tr>\n",
       "      <th>1</th>\n",
       "      <td>DP1X</td>\n",
       "      <td>Number of days with &gt;= 1.00 inch</td>\n",
       "    </tr>\n",
       "    <tr>\n",
       "      <th>2</th>\n",
       "      <td>DT32</td>\n",
       "      <td>Number of days with maximum temperature &lt;= 32 degrees Fa...</td>\n",
       "    </tr>\n",
       "    <tr>\n",
       "      <th>3</th>\n",
       "      <td>DX70</td>\n",
       "      <td>Number of days with maximum temperature &gt;= 70 degrees Fa...</td>\n",
       "    </tr>\n",
       "    <tr>\n",
       "      <th>4</th>\n",
       "      <td>DX90</td>\n",
       "      <td>Number of days with maximum temperature &gt;= 90 degrees Fa...</td>\n",
       "    </tr>\n",
       "    <tr>\n",
       "      <th>5</th>\n",
       "      <td>EMNT</td>\n",
       "      <td>Extreme minimum temperature for month. Lowest daily mini...</td>\n",
       "    </tr>\n",
       "    <tr>\n",
       "      <th>6</th>\n",
       "      <td>EMXP</td>\n",
       "      <td>Highest daily total of precipitation in the month. Given...</td>\n",
       "    </tr>\n",
       "    <tr>\n",
       "      <th>7</th>\n",
       "      <td>EMXT</td>\n",
       "      <td>Extreme maximum temperature for month. Highest daily max...</td>\n",
       "    </tr>\n",
       "    <tr>\n",
       "      <th>8</th>\n",
       "      <td>HTDD</td>\n",
       "      <td>Heating Degree Days. Computed when daily average tempera...</td>\n",
       "    </tr>\n",
       "    <tr>\n",
       "      <th>9</th>\n",
       "      <td>MNPN</td>\n",
       "      <td>Monthly Mean Minimum Temperature of evaporation pan wate...</td>\n",
       "    </tr>\n",
       "    <tr>\n",
       "      <th>10</th>\n",
       "      <td>MXPN</td>\n",
       "      <td>Monthly Mean Maximum Temperature of evaporation pan wate...</td>\n",
       "    </tr>\n",
       "    <tr>\n",
       "      <th>11</th>\n",
       "      <td>PRCP</td>\n",
       "      <td>Total Monthly Precipitation. Given in inches or millime...</td>\n",
       "    </tr>\n",
       "    <tr>\n",
       "      <th>12</th>\n",
       "      <td>TAVG</td>\n",
       "      <td>Average Monthly Temperature. Computed by adding the unro...</td>\n",
       "    </tr>\n",
       "    <tr>\n",
       "      <th>13</th>\n",
       "      <td>TMAX</td>\n",
       "      <td>Monthly Maximum Temperature. Average of daily maximum te...</td>\n",
       "    </tr>\n",
       "  </tbody>\n",
       "</table>\n",
       "</div>"
      ],
      "text/plain": [
       "   DataType                                                   Definition\n",
       "0      DP10                              Number of days with >= 0.1 inch\n",
       "1      DP1X                             Number of days with >= 1.00 inch\n",
       "2      DT32  Number of days with maximum temperature <= 32 degrees Fa...\n",
       "3      DX70  Number of days with maximum temperature >= 70 degrees Fa...\n",
       "4      DX90  Number of days with maximum temperature >= 90 degrees Fa...\n",
       "5      EMNT  Extreme minimum temperature for month. Lowest daily mini...\n",
       "6      EMXP  Highest daily total of precipitation in the month. Given...\n",
       "7      EMXT  Extreme maximum temperature for month. Highest daily max...\n",
       "8      HTDD  Heating Degree Days. Computed when daily average tempera...\n",
       "9      MNPN  Monthly Mean Minimum Temperature of evaporation pan wate...\n",
       "10     MXPN  Monthly Mean Maximum Temperature of evaporation pan wate...\n",
       "11     PRCP   Total Monthly Precipitation. Given in inches or millime...\n",
       "12     TAVG  Average Monthly Temperature. Computed by adding the unro...\n",
       "13     TMAX  Monthly Maximum Temperature. Average of daily maximum te..."
      ]
     },
     "execution_count": 3,
     "metadata": {},
     "output_type": "execute_result"
    }
   ],
   "source": [
    "# Load data from Excel file\n",
    "file_path = r'Resources/Wine_Country_Weather_Data_adj.xlsx' \n",
    "glossary_df = pd.read_excel(file_path, sheet_name='Glossary')\n",
    "\n",
    "# Adjust display options to show entire strings\n",
    "pd.set_option('display.max_colwidth', 60)\n",
    "\n",
    "# Display the first few rows of the glossary dataframe\n",
    "glossary_df"
   ]
  },
  {
   "cell_type": "code",
   "execution_count": 4,
   "metadata": {},
   "outputs": [
    {
     "data": {
      "text/html": [
       "<div>\n",
       "<style scoped>\n",
       "    .dataframe tbody tr th:only-of-type {\n",
       "        vertical-align: middle;\n",
       "    }\n",
       "\n",
       "    .dataframe tbody tr th {\n",
       "        vertical-align: top;\n",
       "    }\n",
       "\n",
       "    .dataframe thead th {\n",
       "        text-align: right;\n",
       "    }\n",
       "</style>\n",
       "<table border=\"1\" class=\"dataframe\">\n",
       "  <thead>\n",
       "    <tr style=\"text-align: right;\">\n",
       "      <th></th>\n",
       "      <th>Continent</th>\n",
       "      <th>Region/Country</th>\n",
       "      <th>Product</th>\n",
       "      <th>Variable</th>\n",
       "      <th>Year</th>\n",
       "      <th>Unit</th>\n",
       "      <th>Quantity</th>\n",
       "      <th>Quantity_gallons</th>\n",
       "      <th>Country_Code</th>\n",
       "      <th>DP10</th>\n",
       "      <th>...</th>\n",
       "      <th>DX90</th>\n",
       "      <th>EMNT</th>\n",
       "      <th>EMXP</th>\n",
       "      <th>EMXT</th>\n",
       "      <th>HTDD</th>\n",
       "      <th>MNPN</th>\n",
       "      <th>MXPN</th>\n",
       "      <th>PRCP</th>\n",
       "      <th>TAVG</th>\n",
       "      <th>TMAX</th>\n",
       "    </tr>\n",
       "  </thead>\n",
       "  <tbody>\n",
       "    <tr>\n",
       "      <th>0</th>\n",
       "      <td>Asia</td>\n",
       "      <td>Afghanistan</td>\n",
       "      <td>Wine</td>\n",
       "      <td>Consumption</td>\n",
       "      <td>1995</td>\n",
       "      <td>1000 hl</td>\n",
       "      <td>0</td>\n",
       "      <td>0.0</td>\n",
       "      <td>AF</td>\n",
       "      <td>0</td>\n",
       "      <td>...</td>\n",
       "      <td>0</td>\n",
       "      <td>0.0</td>\n",
       "      <td>0.0</td>\n",
       "      <td>0.0</td>\n",
       "      <td>0</td>\n",
       "      <td>0</td>\n",
       "      <td>0</td>\n",
       "      <td>0.0</td>\n",
       "      <td>0.0</td>\n",
       "      <td>0.0</td>\n",
       "    </tr>\n",
       "    <tr>\n",
       "      <th>1</th>\n",
       "      <td>Asia</td>\n",
       "      <td>Afghanistan</td>\n",
       "      <td>Wine</td>\n",
       "      <td>Imports</td>\n",
       "      <td>1995</td>\n",
       "      <td>1000 hl</td>\n",
       "      <td>0</td>\n",
       "      <td>0.0</td>\n",
       "      <td>AF</td>\n",
       "      <td>0</td>\n",
       "      <td>...</td>\n",
       "      <td>0</td>\n",
       "      <td>0.0</td>\n",
       "      <td>0.0</td>\n",
       "      <td>0.0</td>\n",
       "      <td>0</td>\n",
       "      <td>0</td>\n",
       "      <td>0</td>\n",
       "      <td>0.0</td>\n",
       "      <td>0.0</td>\n",
       "      <td>0.0</td>\n",
       "    </tr>\n",
       "    <tr>\n",
       "      <th>2</th>\n",
       "      <td>Asia</td>\n",
       "      <td>Afghanistan</td>\n",
       "      <td>Wine</td>\n",
       "      <td>Production</td>\n",
       "      <td>1995</td>\n",
       "      <td>1000 hl</td>\n",
       "      <td>0</td>\n",
       "      <td>0.0</td>\n",
       "      <td>AF</td>\n",
       "      <td>0</td>\n",
       "      <td>...</td>\n",
       "      <td>0</td>\n",
       "      <td>0.0</td>\n",
       "      <td>0.0</td>\n",
       "      <td>0.0</td>\n",
       "      <td>0</td>\n",
       "      <td>0</td>\n",
       "      <td>0</td>\n",
       "      <td>0.0</td>\n",
       "      <td>0.0</td>\n",
       "      <td>0.0</td>\n",
       "    </tr>\n",
       "    <tr>\n",
       "      <th>3</th>\n",
       "      <td>Asia</td>\n",
       "      <td>Afghanistan</td>\n",
       "      <td>Wine</td>\n",
       "      <td>Consumption</td>\n",
       "      <td>1996</td>\n",
       "      <td>1000 hl</td>\n",
       "      <td>0</td>\n",
       "      <td>0.0</td>\n",
       "      <td>AF</td>\n",
       "      <td>0</td>\n",
       "      <td>...</td>\n",
       "      <td>0</td>\n",
       "      <td>0.0</td>\n",
       "      <td>0.0</td>\n",
       "      <td>0.0</td>\n",
       "      <td>0</td>\n",
       "      <td>0</td>\n",
       "      <td>0</td>\n",
       "      <td>0.0</td>\n",
       "      <td>0.0</td>\n",
       "      <td>0.0</td>\n",
       "    </tr>\n",
       "    <tr>\n",
       "      <th>4</th>\n",
       "      <td>Asia</td>\n",
       "      <td>Afghanistan</td>\n",
       "      <td>Wine</td>\n",
       "      <td>Imports</td>\n",
       "      <td>1996</td>\n",
       "      <td>1000 hl</td>\n",
       "      <td>0</td>\n",
       "      <td>0.0</td>\n",
       "      <td>AF</td>\n",
       "      <td>0</td>\n",
       "      <td>...</td>\n",
       "      <td>0</td>\n",
       "      <td>0.0</td>\n",
       "      <td>0.0</td>\n",
       "      <td>0.0</td>\n",
       "      <td>0</td>\n",
       "      <td>0</td>\n",
       "      <td>0</td>\n",
       "      <td>0.0</td>\n",
       "      <td>0.0</td>\n",
       "      <td>0.0</td>\n",
       "    </tr>\n",
       "  </tbody>\n",
       "</table>\n",
       "<p>5 rows × 23 columns</p>\n",
       "</div>"
      ],
      "text/plain": [
       "  Continent Region/Country Product     Variable  Year     Unit  Quantity  \\\n",
       "0      Asia    Afghanistan    Wine  Consumption  1995  1000 hl         0   \n",
       "1      Asia    Afghanistan    Wine      Imports  1995  1000 hl         0   \n",
       "2      Asia    Afghanistan    Wine   Production  1995  1000 hl         0   \n",
       "3      Asia    Afghanistan    Wine  Consumption  1996  1000 hl         0   \n",
       "4      Asia    Afghanistan    Wine      Imports  1996  1000 hl         0   \n",
       "\n",
       "   Quantity_gallons Country_Code  DP10  ...  DX90  EMNT  EMXP  EMXT  HTDD  \\\n",
       "0               0.0           AF     0  ...     0   0.0   0.0   0.0     0   \n",
       "1               0.0           AF     0  ...     0   0.0   0.0   0.0     0   \n",
       "2               0.0           AF     0  ...     0   0.0   0.0   0.0     0   \n",
       "3               0.0           AF     0  ...     0   0.0   0.0   0.0     0   \n",
       "4               0.0           AF     0  ...     0   0.0   0.0   0.0     0   \n",
       "\n",
       "   MNPN  MXPN  PRCP  TAVG  TMAX  \n",
       "0     0     0   0.0   0.0   0.0  \n",
       "1     0     0   0.0   0.0   0.0  \n",
       "2     0     0   0.0   0.0   0.0  \n",
       "3     0     0   0.0   0.0   0.0  \n",
       "4     0     0   0.0   0.0   0.0  \n",
       "\n",
       "[5 rows x 23 columns]"
      ]
     },
     "execution_count": 4,
     "metadata": {},
     "output_type": "execute_result"
    }
   ],
   "source": [
    "# Convert quantity from 1000hl to gallons\n",
    "# Assuming the quantity column is named 'quantity' and it is in '1000hl'\n",
    "# 1 hectoliter (hl) is approximately 26.4172 gallons\n",
    "# Therefore, 1000 hl is 1000 * 26.4172 gallons\n",
    "\n",
    "conversion_factor = 26.4172\n",
    "wine_country_weather_data_df['Quantity_gallons'] = wine_country_weather_data_df['Quantity'].astype(float) * 1000 * conversion_factor\n",
    "\n",
    "# Reorder columns to place 'Quantity_Gallons' right after 'Quantity'\n",
    "columns = list(wine_country_weather_data_df.columns)\n",
    "quantity_index = columns.index('Quantity')\n",
    "columns.insert(quantity_index + 1, columns.pop(columns.index('Quantity_gallons')))\n",
    "wine_country_weather_data_final_df = wine_country_weather_data_df[columns]\n",
    "\n",
    "# Remove blank records where country_code is blank\n",
    "wine_country_weather_data_final_df = wine_country_weather_data_final_df[wine_country_weather_data_final_df['Country_Code'].notna()].reset_index(drop=True)\n",
    "\n",
    "# Display the modified dataframe\n",
    "# print(wine_country_weather_data_final_df.head())\n",
    "wine_country_weather_data_final_df.head()"
   ]
  },
  {
   "cell_type": "markdown",
   "metadata": {},
   "source": [
    "Total wine production for all countries combined from 1995 to 2023"
   ]
  },
  {
   "cell_type": "code",
   "execution_count": 5,
   "metadata": {},
   "outputs": [
    {
     "data": {
      "image/png": "[encoded data removed]",
      "text/plain": [
       "<Figure size 1200x800 with 1 Axes>"
      ]
     },
     "metadata": {},
     "output_type": "display_data"
    }
   ],
   "source": [
    "# Filter the data to include only wine production records\n",
    "wine_production_df = wine_country_weather_data_final_df[wine_country_weather_data_final_df['Variable'] == 'Production']\n",
    "\n",
    "# Group by Year and sum the Quantity_gallons\n",
    "wine_production_by_year = wine_production_df.groupby('Year')['Quantity_gallons'].sum().reset_index()\n",
    "\n",
    "# Convert the Quantity_gallons to millions\n",
    "wine_production_by_year['Quantity_gallons_million'] = wine_production_by_year['Quantity_gallons'] / 1e6\n",
    "\n",
    "# Define a function to format the y-axis values with thousand commas\n",
    "def millions_formatter(x, pos):\n",
    "    return f'{x:,.0f}'\n",
    "\n",
    "# Create the line plot\n",
    "plt.figure(figsize=(12, 8))\n",
    "plt.plot(wine_production_by_year['Year'], wine_production_by_year['Quantity_gallons_million'], marker='o', linestyle='-', color='darkblue')\n",
    "\n",
    "# Customize the plot\n",
    "plt.xlabel('Year')\n",
    "plt.ylabel('Total Wine Production (Million Gallons)')\n",
    "plt.title('Total Wine Production from 1995 to 2023')\n",
    "plt.gca().yaxis.set_major_formatter(FuncFormatter(millions_formatter))\n",
    "plt.grid(True)\n",
    "plt.tight_layout()\n",
    "\n",
    "# Show the plot\n",
    "plt.show()"
   ]
  },
  {
   "cell_type": "markdown",
   "metadata": {},
   "source": [
    "Map of total wine production by country in 1995"
   ]
  },
  {
   "cell_type": "code",
   "execution_count": 6,
   "metadata": {},
   "outputs": [
    {
     "data": {
      "application/vnd.plotly.v1+json": {
       "config": {
        "plotlyServerURL": "https://plot.ly"
       },
       "data": [
        {
         "coloraxis": "coloraxis",
         "geo": "geo",
         "hovertemplate": "<b>%{hovertext}</b><br><br>Region/Country=%{location}<br>Total Wine Production (Gallons)=%{z}<extra></extra>",
         "hovertext": [
          "Afghanistan",
          "Albania",
          "Algeria",
          "American Samoa",
          "Angola",
          "Antigua and Barbuda",
          "Argentina",
          "Armenia",
          "Australia",
          "Austria",
          "Azerbaijan",
          "Bahamas",
          "Bahrain",
          "Bangladesh",
          "Barbados",
          "Belarus",
          "Belgium",
          "Belize",
          "Benin",
          "Bermuda",
          "Bolivia",
          "Bosnia and Herzegovina",
          "Botswana",
          "Brazil",
          "Brunei Darussalam",
          "Bulgaria",
          "Burkina Faso",
          "Burundi",
          "Cambodia",
          "Cameroon",
          "Canada",
          "Cayman Islands",
          "Central African Republic",
          "Chad",
          "Chile",
          "China, mainland",
          "Colombia",
          "Congo",
          "Congo (the Democratic Republic of the)",
          "Cook Islands",
          "Costa Rica",
          "Croatia",
          "Cuba",
          "Cyprus",
          "Czech Republic",
          "Côte d'Ivoire",
          "Dominica",
          "Dominican Republic",
          "Ecuador",
          "Egypt",
          "El Salvador",
          "Equatorial Guinea",
          "Eritrea",
          "Estonia",
          "Ethiopia",
          "Fiji",
          "Finland",
          "France",
          "French Guiana",
          "French Polynesia",
          "Gabon",
          "Gambia",
          "Georgia",
          "Germany",
          "Ghana",
          "Greece",
          "Greenland",
          "Guadeloupe",
          "Guam",
          "Guinea",
          "Guinea-Bissau",
          "Guyana",
          "Honduras",
          "Hungary",
          "Indonesia",
          "Iran",
          "Iraq",
          "Ireland",
          "Israel",
          "Italy",
          "Jamaica",
          "Japan",
          "Jordan",
          "Kazakhstan",
          "Kenya",
          "Kiribati",
          "Korea (the Democratic People's Republic of)",
          "Korea (the Republic of)",
          "Kuwait",
          "Kyrgyzstan",
          "Lao People's Democratic Republic",
          "Latvia",
          "Lebanon",
          "Lesotho",
          "Liberia",
          "Libya",
          "Lithuania",
          "Luxemburg",
          "Madagascar",
          "Malawi",
          "Malaysia",
          "Maldives",
          "Mali",
          "Malta",
          "Marshall Islands",
          "Martinique",
          "Mauritania",
          "Mauritius",
          "Mexico",
          "Micronesia",
          "Moldova",
          "Mongolia",
          "Morocco",
          "Mozambique",
          "Namibia",
          "Nepal",
          "Netherlands Antilles",
          "New Caledonia",
          "New Zealand",
          "Nicaragua",
          "Niger",
          "Nigeria",
          "Niue",
          "Norfolk Island",
          "Norway",
          "Oman",
          "Pakistan",
          "Palau",
          "Panama",
          "Papua New Guinea",
          "Paraguay",
          "Peru",
          "Philippines",
          "Poland",
          "Portugal",
          "Qatar",
          "Republic of North Macedonia",
          "Reunion island",
          "Romania",
          "Russia",
          "Rwanda",
          "Saint Helena",
          "Saint Lucia",
          "Saint Pierre And Miquelon",
          "Saudi Arabia",
          "Senegal",
          "Serbia And Montenegro",
          "Seychelles",
          "Sierra Leone",
          "Singapore",
          "Slovakia",
          "Slovenia",
          "Solomon Islands",
          "South Africa",
          "South Sudan",
          "Spain",
          "Sri Lanka",
          "Suriname",
          "Sweden",
          "Switzerland",
          "Syrian Arab Republic",
          "Tajikistan",
          "Tanzania, the United Republic of",
          "Thailand",
          "Togo",
          "Tonga",
          "Trinidad and Tobago",
          "Tunisia",
          "Turkmenistan",
          "Tuvalu",
          "Uganda",
          "Ukraine",
          "United Arab Emirates",
          "United Kingdom",
          "United States of America",
          "Uruguay",
          "Uzbekistan",
          "Vanuatu",
          "Venezuela",
          "Vietnam",
          "Zambia",
          "Zimbabwe"
         ],
         "locationmode": "country names",
         "locations": [
          "Afghanistan",
          "Albania",
          "Algeria",
          "American Samoa",
          "Angola",
          "Antigua and Barbuda",
          "Argentina",
          "Armenia",
          "Australia",
          "Austria",
          "Azerbaijan",
          "Bahamas",
          "Bahrain",
          "Bangladesh",
          "Barbados",
          "Belarus",
          "Belgium",
          "Belize",
          "Benin",
          "Bermuda",
          "Bolivia",
          "Bosnia and Herzegovina",
          "Botswana",
          "Brazil",
          "Brunei Darussalam",
          "Bulgaria",
          "Burkina Faso",
          "Burundi",
          "Cambodia",
          "Cameroon",
          "Canada",
          "Cayman Islands",
          "Central African Republic",
          "Chad",
          "Chile",
          "China, mainland",
          "Colombia",
          "Congo",
          "Congo (the Democratic Republic of the)",
          "Cook Islands",
          "Costa Rica",
          "Croatia",
          "Cuba",
          "Cyprus",
          "Czech Republic",
          "Côte d'Ivoire",
          "Dominica",
          "Dominican Republic",
          "Ecuador",
          "Egypt",
          "El Salvador",
          "Equatorial Guinea",
          "Eritrea",
          "Estonia",
          "Ethiopia",
          "Fiji",
          "Finland",
          "France",
          "French Guiana",
          "French Polynesia",
          "Gabon",
          "Gambia",
          "Georgia",
          "Germany",
          "Ghana",
          "Greece",
          "Greenland",
          "Guadeloupe",
          "Guam",
          "Guinea",
          "Guinea-Bissau",
          "Guyana",
          "Honduras",
          "Hungary",
          "Indonesia",
          "Iran",
          "Iraq",
          "Ireland",
          "Israel",
          "Italy",
          "Jamaica",
          "Japan",
          "Jordan",
          "Kazakhstan",
          "Kenya",
          "Kiribati",
          "Korea (the Democratic People's Republic of)",
          "Korea (the Republic of)",
          "Kuwait",
          "Kyrgyzstan",
          "Lao People's Democratic Republic",
          "Latvia",
          "Lebanon",
          "Lesotho",
          "Liberia",
          "Libya",
          "Lithuania",
          "Luxemburg",
          "Madagascar",
          "Malawi",
          "Malaysia",
          "Maldives",
          "Mali",
          "Malta",
          "Marshall Islands",
          "Martinique",
          "Mauritania",
          "Mauritius",
          "Mexico",
          "Micronesia",
          "Moldova",
          "Mongolia",
          "Morocco",
          "Mozambique",
          "Namibia",
          "Nepal",
          "Netherlands Antilles",
          "New Caledonia",
          "New Zealand",
          "Nicaragua",
          "Niger",
          "Nigeria",
          "Niue",
          "Norfolk Island",
          "Norway",
          "Oman",
          "Pakistan",
          "Palau",
          "Panama",
          "Papua New Guinea",
          "Paraguay",
          "Peru",
          "Philippines",
          "Poland",
          "Portugal",
          "Qatar",
          "Republic of North Macedonia",
          "Reunion island",
          "Romania",
          "Russia",
          "Rwanda",
          "Saint Helena",
          "Saint Lucia",
          "Saint Pierre And Miquelon",
          "Saudi Arabia",
          "Senegal",
          "Serbia And Montenegro",
          "Seychelles",
          "Sierra Leone",
          "Singapore",
          "Slovakia",
          "Slovenia",
          "Solomon Islands",
          "South Africa",
          "South Sudan",
          "Spain",
          "Sri Lanka",
          "Suriname",
          "Sweden",
          "Switzerland",
          "Syrian Arab Republic",
          "Tajikistan",
          "Tanzania, the United Republic of",
          "Thailand",
          "Togo",
          "Tonga",
          "Trinidad and Tobago",
          "Tunisia",
          "Turkmenistan",
          "Tuvalu",
          "Uganda",
          "Ukraine",
          "United Arab Emirates",
          "United Kingdom",
          "United States of America",
          "Uruguay",
          "Uzbekistan",
          "Vanuatu",
          "Venezuela",
          "Vietnam",
          "Zambia",
          "Zimbabwe"
         ],
         "name": "",
         "type": "choropleth",
         "z": [
          0,
          4464506.8,
          15084221.200000001,
          0,
          0,
          0,
          434378019.6,
          2747388.8000000003,
          132825681.60000001,
          58883938.800000004,
          1875621.2000000002,
          0,
          0,
          0,
          0,
          2694554.4,
          26417.2,
          0,
          0,
          0,
          528344,
          898184.8,
          0,
          82633001.60000001,
          0,
          69767825.2,
          0,
          0,
          0,
          0,
          9378106,
          0,
          0,
          0,
          83584020.8,
          184920400,
          0,
          0,
          0,
          0,
          0,
          47154702,
          0,
          14661546,
          12125494.8,
          0,
          0,
          0,
          0,
          686847.2000000001,
          0,
          0,
          0,
          369840.8,
          264172,
          0,
          0,
          1435880488.8,
          0,
          0,
          0,
          0,
          54155260,
          224810372,
          0,
          101468465.2,
          0,
          0,
          0,
          0,
          0,
          0,
          0,
          86886170.8,
          0,
          0,
          0,
          0,
          3222898.4,
          1471490874.4,
          0,
          17224014.400000002,
          0,
          3222898.4,
          0,
          0,
          0,
          0,
          0,
          686847.2000000001,
          0,
          1241608.4000000001,
          7925160,
          0,
          0,
          0,
          290589.2,
          3962580,
          2324713.6,
          0,
          0,
          0,
          0,
          845350.4,
          0,
          0,
          0,
          0,
          38727615.2,
          0,
          78300580.8,
          0,
          4570175.600000001,
          0,
          0,
          0,
          0,
          0,
          14899300.8,
          0,
          0,
          0,
          0,
          0,
          0,
          0,
          0,
          0,
          52834.4,
          0,
          2034124.4000000001,
          2800223.2,
          0,
          0,
          191656786,
          0,
          24066069.2,
          0,
          177523584,
          56796980,
          0,
          0,
          0,
          0,
          0,
          0,
          0,
          0,
          0,
          0,
          17488186.400000002,
          20631833.2,
          0,
          220293030.8,
          0,
          551485467.2,
          0,
          0,
          0,
          31198713.200000003,
          52834.4,
          2509634,
          0,
          0,
          0,
          0,
          0,
          7713822.4,
          12997262.4,
          0,
          0,
          49135992,
          0,
          475509.60000000003,
          493156289.6,
          22507454.400000002,
          21926276,
          0,
          0,
          0,
          0,
          396258
         ]
        }
       ],
       "layout": {
        "coloraxis": {
         "colorbar": {
          "title": {
           "text": "Total Wine Production (Gallons)"
          }
         },
         "colorscale": [
          [
           0,
           "rgb(255,247,236)"
          ],
          [
           0.125,
           "rgb(254,232,200)"
          ],
          [
           0.25,
           "rgb(253,212,158)"
          ],
          [
           0.375,
           "rgb(253,187,132)"
          ],
          [
           0.5,
           "rgb(252,141,89)"
          ],
          [
           0.625,
           "rgb(239,101,72)"
          ],
          [
           0.75,
           "rgb(215,48,31)"
          ],
          [
           0.875,
           "rgb(179,0,0)"
          ],
          [
           1,
           "rgb(127,0,0)"
          ]
         ]
        },
        "geo": {
         "center": {},
         "domain": {
          "x": [
           0,
           1
          ],
          "y": [
           0,
           1
          ]
         },
         "projection": {
          "type": "equirectangular"
         },
         "showcoastlines": false,
         "showframe": false
        },
        "legend": {
         "tracegroupgap": 0
        },
        "margin": {
         "b": 0,
         "l": 0,
         "r": 0,
         "t": 30
        },
        "template": {
         "data": {
          "bar": [
           {
            "error_x": {
             "color": "#2a3f5f"
            },
            "error_y": {
             "color": "#2a3f5f"
            },
            "marker": {
             "line": {
              "color": "#E5ECF6",
              "width": 0.5
             },
             "pattern": {
              "fillmode": "overlay",
              "size": 10,
              "solidity": 0.2
             }
            },
            "type": "bar"
           }
          ],
          "barpolar": [
           {
            "marker": {
             "line": {
              "color": "#E5ECF6",
              "width": 0.5
             },
             "pattern": {
              "fillmode": "overlay",
              "size": 10,
              "solidity": 0.2
             }
            },
            "type": "barpolar"
           }
          ],
          "carpet": [
           {
            "aaxis": {
             "endlinecolor": "#2a3f5f",
             "gridcolor": "white",
             "linecolor": "white",
             "minorgridcolor": "white",
             "startlinecolor": "#2a3f5f"
            },
            "baxis": {
             "endlinecolor": "#2a3f5f",
             "gridcolor": "white",
             "linecolor": "white",
             "minorgridcolor": "white",
             "startlinecolor": "#2a3f5f"
            },
            "type": "carpet"
           }
          ],
          "choropleth": [
           {
            "colorbar": {
             "outlinewidth": 0,
             "ticks": ""
            },
            "type": "choropleth"
           }
          ],
          "contour": [
           {
            "colorbar": {
             "outlinewidth": 0,
             "ticks": ""
            },
            "colorscale": [
             [
              0,
              "#0d0887"
             ],
             [
              0.1111111111111111,
              "#46039f"
             ],
             [
              0.2222222222222222,
              "#7201a8"
             ],
             [
              0.3333333333333333,
              "#9c179e"
             ],
             [
              0.4444444444444444,
              "#bd3786"
             ],
             [
              0.5555555555555556,
              "#d8576b"
             ],
             [
              0.6666666666666666,
              "#ed7953"
             ],
             [
              0.7777777777777778,
              "#fb9f3a"
             ],
             [
              0.8888888888888888,
              "#fdca26"
             ],
             [
              1,
              "#f0f921"
             ]
            ],
            "type": "contour"
           }
          ],
          "contourcarpet": [
           {
            "colorbar": {
             "outlinewidth": 0,
             "ticks": ""
            },
            "type": "contourcarpet"
           }
          ],
          "heatmap": [
           {
            "colorbar": {
             "outlinewidth": 0,
             "ticks": ""
            },
            "colorscale": [
             [
              0,
              "#0d0887"
             ],
             [
              0.1111111111111111,
              "#46039f"
             ],
             [
              0.2222222222222222,
              "#7201a8"
             ],
             [
              0.3333333333333333,
              "#9c179e"
             ],
             [
              0.4444444444444444,
              "#bd3786"
             ],
             [
              0.5555555555555556,
              "#d8576b"
             ],
             [
              0.6666666666666666,
              "#ed7953"
             ],
             [
              0.7777777777777778,
              "#fb9f3a"
             ],
             [
              0.8888888888888888,
              "#fdca26"
             ],
             [
              1,
              "#f0f921"
             ]
            ],
            "type": "heatmap"
           }
          ],
          "heatmapgl": [
           {
            "colorbar": {
             "outlinewidth": 0,
             "ticks": ""
            },
            "colorscale": [
             [
              0,
              "#0d0887"
             ],
             [
              0.1111111111111111,
              "#46039f"
             ],
             [
              0.2222222222222222,
              "#7201a8"
             ],
             [
              0.3333333333333333,
              "#9c179e"
             ],
             [
              0.4444444444444444,
              "#bd3786"
             ],
             [
              0.5555555555555556,
              "#d8576b"
             ],
             [
              0.6666666666666666,
              "#ed7953"
             ],
             [
              0.7777777777777778,
              "#fb9f3a"
             ],
             [
              0.8888888888888888,
              "#fdca26"
             ],
             [
              1,
              "#f0f921"
             ]
            ],
            "type": "heatmapgl"
           }
          ],
          "histogram": [
           {
            "marker": {
             "pattern": {
              "fillmode": "overlay",
              "size": 10,
              "solidity": 0.2
             }
            },
            "type": "histogram"
           }
          ],
          "histogram2d": [
           {
            "colorbar": {
             "outlinewidth": 0,
             "ticks": ""
            },
            "colorscale": [
             [
              0,
              "#0d0887"
             ],
             [
              0.1111111111111111,
              "#46039f"
             ],
             [
              0.2222222222222222,
              "#7201a8"
             ],
             [
              0.3333333333333333,
              "#9c179e"
             ],
             [
              0.4444444444444444,
              "#bd3786"
             ],
             [
              0.5555555555555556,
              "#d8576b"
             ],
             [
              0.6666666666666666,
              "#ed7953"
             ],
             [
              0.7777777777777778,
              "#fb9f3a"
             ],
             [
              0.8888888888888888,
              "#fdca26"
             ],
             [
              1,
              "#f0f921"
             ]
            ],
            "type": "histogram2d"
           }
          ],
          "histogram2dcontour": [
           {
            "colorbar": {
             "outlinewidth": 0,
             "ticks": ""
            },
            "colorscale": [
             [
              0,
              "#0d0887"
             ],
             [
              0.1111111111111111,
              "#46039f"
             ],
             [
              0.2222222222222222,
              "#7201a8"
             ],
             [
              0.3333333333333333,
              "#9c179e"
             ],
             [
              0.4444444444444444,
              "#bd3786"
             ],
             [
              0.5555555555555556,
              "#d8576b"
             ],
             [
              0.6666666666666666,
              "#ed7953"
             ],
             [
              0.7777777777777778,
              "#fb9f3a"
             ],
             [
              0.8888888888888888,
              "#fdca26"
             ],
             [
              1,
              "#f0f921"
             ]
            ],
            "type": "histogram2dcontour"
           }
          ],
          "mesh3d": [
           {
            "colorbar": {
             "outlinewidth": 0,
             "ticks": ""
            },
            "type": "mesh3d"
           }
          ],
          "parcoords": [
           {
            "line": {
             "colorbar": {
              "outlinewidth": 0,
              "ticks": ""
             }
            },
            "type": "parcoords"
           }
          ],
          "pie": [
           {
            "automargin": true,
            "type": "pie"
           }
          ],
          "scatter": [
           {
            "fillpattern": {
             "fillmode": "overlay",
             "size": 10,
             "solidity": 0.2
            },
            "type": "scatter"
           }
          ],
          "scatter3d": [
           {
            "line": {
             "colorbar": {
              "outlinewidth": 0,
              "ticks": ""
             }
            },
            "marker": {
             "colorbar": {
              "outlinewidth": 0,
              "ticks": ""
             }
            },
            "type": "scatter3d"
           }
          ],
          "scattercarpet": [
           {
            "marker": {
             "colorbar": {
              "outlinewidth": 0,
              "ticks": ""
             }
            },
            "type": "scattercarpet"
           }
          ],
          "scattergeo": [
           {
            "marker": {
             "colorbar": {
              "outlinewidth": 0,
              "ticks": ""
             }
            },
            "type": "scattergeo"
           }
          ],
          "scattergl": [
           {
            "marker": {
             "colorbar": {
              "outlinewidth": 0,
              "ticks": ""
             }
            },
            "type": "scattergl"
           }
          ],
          "scattermapbox": [
           {
            "marker": {
             "colorbar": {
              "outlinewidth": 0,
              "ticks": ""
             }
            },
            "type": "scattermapbox"
           }
          ],
          "scatterpolar": [
           {
            "marker": {
             "colorbar": {
              "outlinewidth": 0,
              "ticks": ""
             }
            },
            "type": "scatterpolar"
           }
          ],
          "scatterpolargl": [
           {
            "marker": {
             "colorbar": {
              "outlinewidth": 0,
              "ticks": ""
             }
            },
            "type": "scatterpolargl"
           }
          ],
          "scatterternary": [
           {
            "marker": {
             "colorbar": {
              "outlinewidth": 0,
              "ticks": ""
             }
            },
            "type": "scatterternary"
           }
          ],
          "surface": [
           {
            "colorbar": {
             "outlinewidth": 0,
             "ticks": ""
            },
            "colorscale": [
             [
              0,
              "#0d0887"
             ],
             [
              0.1111111111111111,
              "#46039f"
             ],
             [
              0.2222222222222222,
              "#7201a8"
             ],
             [
              0.3333333333333333,
              "#9c179e"
             ],
             [
              0.4444444444444444,
              "#bd3786"
             ],
             [
              0.5555555555555556,
              "#d8576b"
             ],
             [
              0.6666666666666666,
              "#ed7953"
             ],
             [
              0.7777777777777778,
              "#fb9f3a"
             ],
             [
              0.8888888888888888,
              "#fdca26"
             ],
             [
              1,
              "#f0f921"
             ]
            ],
            "type": "surface"
           }
          ],
          "table": [
           {
            "cells": {
             "fill": {
              "color": "#EBF0F8"
             },
             "line": {
              "color": "white"
             }
            },
            "header": {
             "fill": {
              "color": "#C8D4E3"
             },
             "line": {
              "color": "white"
             }
            },
            "type": "table"
           }
          ]
         },
         "layout": {
          "annotationdefaults": {
           "arrowcolor": "#2a3f5f",
           "arrowhead": 0,
           "arrowwidth": 1
          },
          "autotypenumbers": "strict",
          "coloraxis": {
           "colorbar": {
            "outlinewidth": 0,
            "ticks": ""
           }
          },
          "colorscale": {
           "diverging": [
            [
             0,
             "#8e0152"
            ],
            [
             0.1,
             "#c51b7d"
            ],
            [
             0.2,
             "#de77ae"
            ],
            [
             0.3,
             "#f1b6da"
            ],
            [
             0.4,
             "#fde0ef"
            ],
            [
             0.5,
             "#f7f7f7"
            ],
            [
             0.6,
             "#e6f5d0"
            ],
            [
             0.7,
             "#b8e186"
            ],
            [
             0.8,
             "#7fbc41"
            ],
            [
             0.9,
             "#4d9221"
            ],
            [
             1,
             "#276419"
            ]
           ],
           "sequential": [
            [
             0,
             "#0d0887"
            ],
            [
             0.1111111111111111,
             "#46039f"
            ],
            [
             0.2222222222222222,
             "#7201a8"
            ],
            [
             0.3333333333333333,
             "#9c179e"
            ],
            [
             0.4444444444444444,
             "#bd3786"
            ],
            [
             0.5555555555555556,
             "#d8576b"
            ],
            [
             0.6666666666666666,
             "#ed7953"
            ],
            [
             0.7777777777777778,
             "#fb9f3a"
            ],
            [
             0.8888888888888888,
             "#fdca26"
            ],
            [
             1,
             "#f0f921"
            ]
           ],
           "sequentialminus": [
            [
             0,
             "#0d0887"
            ],
            [
             0.1111111111111111,
             "#46039f"
            ],
            [
             0.2222222222222222,
             "#7201a8"
            ],
            [
             0.3333333333333333,
             "#9c179e"
            ],
            [
             0.4444444444444444,
             "#bd3786"
            ],
            [
             0.5555555555555556,
             "#d8576b"
            ],
            [
             0.6666666666666666,
             "#ed7953"
            ],
            [
             0.7777777777777778,
             "#fb9f3a"
            ],
            [
             0.8888888888888888,
             "#fdca26"
            ],
            [
             1,
             "#f0f921"
            ]
           ]
          },
          "colorway": [
           "#636efa",
           "#EF553B",
           "#00cc96",
           "#ab63fa",
           "#FFA15A",
           "#19d3f3",
           "#FF6692",
           "#B6E880",
           "#FF97FF",
           "#FECB52"
          ],
          "font": {
           "color": "#2a3f5f"
          },
          "geo": {
           "bgcolor": "white",
           "lakecolor": "white",
           "landcolor": "#E5ECF6",
           "showlakes": true,
           "showland": true,
           "subunitcolor": "white"
          },
          "hoverlabel": {
           "align": "left"
          },
          "hovermode": "closest",
          "mapbox": {
           "style": "light"
          },
          "paper_bgcolor": "white",
          "plot_bgcolor": "#E5ECF6",
          "polar": {
           "angularaxis": {
            "gridcolor": "white",
            "linecolor": "white",
            "ticks": ""
           },
           "bgcolor": "#E5ECF6",
           "radialaxis": {
            "gridcolor": "white",
            "linecolor": "white",
            "ticks": ""
           }
          },
          "scene": {
           "xaxis": {
            "backgroundcolor": "#E5ECF6",
            "gridcolor": "white",
            "gridwidth": 2,
            "linecolor": "white",
            "showbackground": true,
            "ticks": "",
            "zerolinecolor": "white"
           },
           "yaxis": {
            "backgroundcolor": "#E5ECF6",
            "gridcolor": "white",
            "gridwidth": 2,
            "linecolor": "white",
            "showbackground": true,
            "ticks": "",
            "zerolinecolor": "white"
           },
           "zaxis": {
            "backgroundcolor": "#E5ECF6",
            "gridcolor": "white",
            "gridwidth": 2,
            "linecolor": "white",
            "showbackground": true,
            "ticks": "",
            "zerolinecolor": "white"
           }
          },
          "shapedefaults": {
           "line": {
            "color": "#2a3f5f"
           }
          },
          "ternary": {
           "aaxis": {
            "gridcolor": "white",
            "linecolor": "white",
            "ticks": ""
           },
           "baxis": {
            "gridcolor": "white",
            "linecolor": "white",
            "ticks": ""
           },
           "bgcolor": "#E5ECF6",
           "caxis": {
            "gridcolor": "white",
            "linecolor": "white",
            "ticks": ""
           }
          },
          "title": {
           "x": 0.05
          },
          "xaxis": {
           "automargin": true,
           "gridcolor": "white",
           "linecolor": "white",
           "ticks": "",
           "title": {
            "standoff": 15
           },
           "zerolinecolor": "white",
           "zerolinewidth": 2
          },
          "yaxis": {
           "automargin": true,
           "gridcolor": "white",
           "linecolor": "white",
           "ticks": "",
           "title": {
            "standoff": 15
           },
           "zerolinecolor": "white",
           "zerolinewidth": 2
          }
         }
        },
        "title": {
         "text": "Total Wine Production by Country in 1995"
        }
       }
      }
     },
     "metadata": {},
     "output_type": "display_data"
    }
   ],
   "source": [
    "# Filter the data to include only wine production records and for the year 1995\n",
    "wine_production_1995_df = wine_country_weather_data_final_df[(wine_country_weather_data_final_df['Variable'] == 'Production') & (wine_country_weather_data_final_df['Year'] == 1995)]\n",
    "\n",
    "# Group by Region/Country and sum the Quantity_gallons\n",
    "wine_production_1995_by_country = wine_production_1995_df.groupby('Region/Country')['Quantity_gallons'].sum().reset_index()\n",
    "\n",
    "# Create the choropleth map\n",
    "fig = px.choropleth(\n",
    "    wine_production_1995_by_country,\n",
    "    locations=\"Region/Country\",\n",
    "    locationmode=\"country names\",\n",
    "    color=\"Quantity_gallons\",\n",
    "    hover_name=\"Region/Country\",\n",
    "    color_continuous_scale=px.colors.sequential.OrRd,\n",
    "    labels={'Quantity_gallons': 'Total Wine Production (Gallons)'},\n",
    "    title='Total Wine Production by Country in 1995'\n",
    ")\n",
    "\n",
    "# Customize the layout\n",
    "fig.update_layout(\n",
    "    geo=dict(showframe=False, showcoastlines=False, projection_type='equirectangular'),\n",
    "    margin={\"r\":0,\"t\":30,\"l\":0,\"b\":0}\n",
    ")\n",
    "\n",
    "# Show the plot\n",
    "fig.show()"
   ]
  },
  {
   "cell_type": "markdown",
   "metadata": {},
   "source": [
    "Map of total wine production by country in 2023"
   ]
  },
  {
   "cell_type": "code",
   "execution_count": 7,
   "metadata": {},
   "outputs": [
    {
     "data": {
      "application/vnd.plotly.v1+json": {
       "config": {
        "plotlyServerURL": "https://plot.ly"
       },
       "data": [
        {
         "coloraxis": "coloraxis",
         "geo": "geo",
         "hovertemplate": "<b>%{hovertext}</b><br><br>Region/Country=%{location}<br>Total Wine Production (Gallons)=%{z}<extra></extra>",
         "hovertext": [
          "Argentina",
          "Armenia",
          "Australia",
          "Austria",
          "Belgium",
          "Brazil",
          "Bulgaria",
          "Chile",
          "China, mainland",
          "Croatia",
          "Cyprus",
          "Czech Republic",
          "France",
          "Georgia",
          "Germany",
          "Greece",
          "Hungary",
          "Italy",
          "Japan",
          "Luxemburg",
          "Malta",
          "Mexico",
          "Moldova",
          "New Zealand",
          "Portugal",
          "Romania",
          "Russia",
          "Slovakia",
          "Slovenia",
          "South Africa",
          "Spain",
          "Switzerland",
          "United States of America",
          "Uruguay"
         ],
         "locationmode": "country names",
         "locations": [
          "Argentina",
          "Armenia",
          "Australia",
          "Austria",
          "Belgium",
          "Brazil",
          "Bulgaria",
          "Chile",
          "China, mainland",
          "Croatia",
          "Cyprus",
          "Czech Republic",
          "France",
          "Georgia",
          "Germany",
          "Greece",
          "Hungary",
          "Italy",
          "Japan",
          "Luxemburg",
          "Malta",
          "Mexico",
          "Moldova",
          "New Zealand",
          "Portugal",
          "Romania",
          "Russia",
          "Slovakia",
          "Slovenia",
          "South Africa",
          "Spain",
          "Switzerland",
          "United States of America",
          "Uruguay"
         ],
         "name": "",
         "type": "choropleth",
         "z": [
          232814783.60000002,
          3724825.2,
          254661808,
          62397426.400000006,
          898184.8,
          94758496.4,
          22454620,
          291381716,
          83663272.4,
          11253727.200000001,
          2562468.4,
          12601004.4,
          1268791698.8,
          49268078,
          227082251.20000002,
          36112312.4,
          64246630.400000006,
          1011541005.2,
          19601562.400000002,
          2139793.2,
          317006.4,
          10593297.200000001,
          46969781.6,
          95286840.4,
          198683761.20000002,
          121254948,
          118824565.60000001,
          6709968.800000001,
          15269141.600000001,
          245838463.20000002,
          748293607.2,
          26681372,
          641620953.6,
          13287851.600000001
         ]
        }
       ],
       "layout": {
        "coloraxis": {
         "colorbar": {
          "title": {
           "text": "Total Wine Production (Gallons)"
          }
         },
         "colorscale": [
          [
           0,
           "rgb(255,247,236)"
          ],
          [
           0.125,
           "rgb(254,232,200)"
          ],
          [
           0.25,
           "rgb(253,212,158)"
          ],
          [
           0.375,
           "rgb(253,187,132)"
          ],
          [
           0.5,
           "rgb(252,141,89)"
          ],
          [
           0.625,
           "rgb(239,101,72)"
          ],
          [
           0.75,
           "rgb(215,48,31)"
          ],
          [
           0.875,
           "rgb(179,0,0)"
          ],
          [
           1,
           "rgb(127,0,0)"
          ]
         ]
        },
        "geo": {
         "center": {},
         "domain": {
          "x": [
           0,
           1
          ],
          "y": [
           0,
           1
          ]
         },
         "projection": {
          "type": "equirectangular"
         },
         "showcoastlines": false,
         "showframe": false
        },
        "legend": {
         "tracegroupgap": 0
        },
        "margin": {
         "b": 0,
         "l": 0,
         "r": 0,
         "t": 30
        },
        "template": {
         "data": {
          "bar": [
           {
            "error_x": {
             "color": "#2a3f5f"
            },
            "error_y": {
             "color": "#2a3f5f"
            },
            "marker": {
             "line": {
              "color": "#E5ECF6",
              "width": 0.5
             },
             "pattern": {
              "fillmode": "overlay",
              "size": 10,
              "solidity": 0.2
             }
            },
            "type": "bar"
           }
          ],
          "barpolar": [
           {
            "marker": {
             "line": {
              "color": "#E5ECF6",
              "width": 0.5
             },
             "pattern": {
              "fillmode": "overlay",
              "size": 10,
              "solidity": 0.2
             }
            },
            "type": "barpolar"
           }
          ],
          "carpet": [
           {
            "aaxis": {
             "endlinecolor": "#2a3f5f",
             "gridcolor": "white",
             "linecolor": "white",
             "minorgridcolor": "white",
             "startlinecolor": "#2a3f5f"
            },
            "baxis": {
             "endlinecolor": "#2a3f5f",
             "gridcolor": "white",
             "linecolor": "white",
             "minorgridcolor": "white",
             "startlinecolor": "#2a3f5f"
            },
            "type": "carpet"
           }
          ],
          "choropleth": [
           {
            "colorbar": {
             "outlinewidth": 0,
             "ticks": ""
            },
            "type": "choropleth"
           }
          ],
          "contour": [
           {
            "colorbar": {
             "outlinewidth": 0,
             "ticks": ""
            },
            "colorscale": [
             [
              0,
              "#0d0887"
             ],
             [
              0.1111111111111111,
              "#46039f"
             ],
             [
              0.2222222222222222,
              "#7201a8"
             ],
             [
              0.3333333333333333,
              "#9c179e"
             ],
             [
              0.4444444444444444,
              "#bd3786"
             ],
             [
              0.5555555555555556,
              "#d8576b"
             ],
             [
              0.6666666666666666,
              "#ed7953"
             ],
             [
              0.7777777777777778,
              "#fb9f3a"
             ],
             [
              0.8888888888888888,
              "#fdca26"
             ],
             [
              1,
              "#f0f921"
             ]
            ],
            "type": "contour"
           }
          ],
          "contourcarpet": [
           {
            "colorbar": {
             "outlinewidth": 0,
             "ticks": ""
            },
            "type": "contourcarpet"
           }
          ],
          "heatmap": [
           {
            "colorbar": {
             "outlinewidth": 0,
             "ticks": ""
            },
            "colorscale": [
             [
              0,
              "#0d0887"
             ],
             [
              0.1111111111111111,
              "#46039f"
             ],
             [
              0.2222222222222222,
              "#7201a8"
             ],
             [
              0.3333333333333333,
              "#9c179e"
             ],
             [
              0.4444444444444444,
              "#bd3786"
             ],
             [
              0.5555555555555556,
              "#d8576b"
             ],
             [
              0.6666666666666666,
              "#ed7953"
             ],
             [
              0.7777777777777778,
              "#fb9f3a"
             ],
             [
              0.8888888888888888,
              "#fdca26"
             ],
             [
              1,
              "#f0f921"
             ]
            ],
            "type": "heatmap"
           }
          ],
          "heatmapgl": [
           {
            "colorbar": {
             "outlinewidth": 0,
             "ticks": ""
            },
            "colorscale": [
             [
              0,
              "#0d0887"
             ],
             [
              0.1111111111111111,
              "#46039f"
             ],
             [
              0.2222222222222222,
              "#7201a8"
             ],
             [
              0.3333333333333333,
              "#9c179e"
             ],
             [
              0.4444444444444444,
              "#bd3786"
             ],
             [
              0.5555555555555556,
              "#d8576b"
             ],
             [
              0.6666666666666666,
              "#ed7953"
             ],
             [
              0.7777777777777778,
              "#fb9f3a"
             ],
             [
              0.8888888888888888,
              "#fdca26"
             ],
             [
              1,
              "#f0f921"
             ]
            ],
            "type": "heatmapgl"
           }
          ],
          "histogram": [
           {
            "marker": {
             "pattern": {
              "fillmode": "overlay",
              "size": 10,
              "solidity": 0.2
             }
            },
            "type": "histogram"
           }
          ],
          "histogram2d": [
           {
            "colorbar": {
             "outlinewidth": 0,
             "ticks": ""
            },
            "colorscale": [
             [
              0,
              "#0d0887"
             ],
             [
              0.1111111111111111,
              "#46039f"
             ],
             [
              0.2222222222222222,
              "#7201a8"
             ],
             [
              0.3333333333333333,
              "#9c179e"
             ],
             [
              0.4444444444444444,
              "#bd3786"
             ],
             [
              0.5555555555555556,
              "#d8576b"
             ],
             [
              0.6666666666666666,
              "#ed7953"
             ],
             [
              0.7777777777777778,
              "#fb9f3a"
             ],
             [
              0.8888888888888888,
              "#fdca26"
             ],
             [
              1,
              "#f0f921"
             ]
            ],
            "type": "histogram2d"
           }
          ],
          "histogram2dcontour": [
           {
            "colorbar": {
             "outlinewidth": 0,
             "ticks": ""
            },
            "colorscale": [
             [
              0,
              "#0d0887"
             ],
             [
              0.1111111111111111,
              "#46039f"
             ],
             [
              0.2222222222222222,
              "#7201a8"
             ],
             [
              0.3333333333333333,
              "#9c179e"
             ],
             [
              0.4444444444444444,
              "#bd3786"
             ],
             [
              0.5555555555555556,
              "#d8576b"
             ],
             [
              0.6666666666666666,
              "#ed7953"
             ],
             [
              0.7777777777777778,
              "#fb9f3a"
             ],
             [
              0.8888888888888888,
              "#fdca26"
             ],
             [
              1,
              "#f0f921"
             ]
            ],
            "type": "histogram2dcontour"
           }
          ],
          "mesh3d": [
           {
            "colorbar": {
             "outlinewidth": 0,
             "ticks": ""
            },
            "type": "mesh3d"
           }
          ],
          "parcoords": [
           {
            "line": {
             "colorbar": {
              "outlinewidth": 0,
              "ticks": ""
             }
            },
            "type": "parcoords"
           }
          ],
          "pie": [
           {
            "automargin": true,
            "type": "pie"
           }
          ],
          "scatter": [
           {
            "fillpattern": {
             "fillmode": "overlay",
             "size": 10,
             "solidity": 0.2
            },
            "type": "scatter"
           }
          ],
          "scatter3d": [
           {
            "line": {
             "colorbar": {
              "outlinewidth": 0,
              "ticks": ""
             }
            },
            "marker": {
             "colorbar": {
              "outlinewidth": 0,
              "ticks": ""
             }
            },
            "type": "scatter3d"
           }
          ],
          "scattercarpet": [
           {
            "marker": {
             "colorbar": {
              "outlinewidth": 0,
              "ticks": ""
             }
            },
            "type": "scattercarpet"
           }
          ],
          "scattergeo": [
           {
            "marker": {
             "colorbar": {
              "outlinewidth": 0,
              "ticks": ""
             }
            },
            "type": "scattergeo"
           }
          ],
          "scattergl": [
           {
            "marker": {
             "colorbar": {
              "outlinewidth": 0,
              "ticks": ""
             }
            },
            "type": "scattergl"
           }
          ],
          "scattermapbox": [
           {
            "marker": {
             "colorbar": {
              "outlinewidth": 0,
              "ticks": ""
             }
            },
            "type": "scattermapbox"
           }
          ],
          "scatterpolar": [
           {
            "marker": {
             "colorbar": {
              "outlinewidth": 0,
              "ticks": ""
             }
            },
            "type": "scatterpolar"
           }
          ],
          "scatterpolargl": [
           {
            "marker": {
             "colorbar": {
              "outlinewidth": 0,
              "ticks": ""
             }
            },
            "type": "scatterpolargl"
           }
          ],
          "scatterternary": [
           {
            "marker": {
             "colorbar": {
              "outlinewidth": 0,
              "ticks": ""
             }
            },
            "type": "scatterternary"
           }
          ],
          "surface": [
           {
            "colorbar": {
             "outlinewidth": 0,
             "ticks": ""
            },
            "colorscale": [
             [
              0,
              "#0d0887"
             ],
             [
              0.1111111111111111,
              "#46039f"
             ],
             [
              0.2222222222222222,
              "#7201a8"
             ],
             [
              0.3333333333333333,
              "#9c179e"
             ],
             [
              0.4444444444444444,
              "#bd3786"
             ],
             [
              0.5555555555555556,
              "#d8576b"
             ],
             [
              0.6666666666666666,
              "#ed7953"
             ],
             [
              0.7777777777777778,
              "#fb9f3a"
             ],
             [
              0.8888888888888888,
              "#fdca26"
             ],
             [
              1,
              "#f0f921"
             ]
            ],
            "type": "surface"
           }
          ],
          "table": [
           {
            "cells": {
             "fill": {
              "color": "#EBF0F8"
             },
             "line": {
              "color": "white"
             }
            },
            "header": {
             "fill": {
              "color": "#C8D4E3"
             },
             "line": {
              "color": "white"
             }
            },
            "type": "table"
           }
          ]
         },
         "layout": {
          "annotationdefaults": {
           "arrowcolor": "#2a3f5f",
           "arrowhead": 0,
           "arrowwidth": 1
          },
          "autotypenumbers": "strict",
          "coloraxis": {
           "colorbar": {
            "outlinewidth": 0,
            "ticks": ""
           }
          },
          "colorscale": {
           "diverging": [
            [
             0,
             "#8e0152"
            ],
            [
             0.1,
             "#c51b7d"
            ],
            [
             0.2,
             "#de77ae"
            ],
            [
             0.3,
             "#f1b6da"
            ],
            [
             0.4,
             "#fde0ef"
            ],
            [
             0.5,
             "#f7f7f7"
            ],
            [
             0.6,
             "#e6f5d0"
            ],
            [
             0.7,
             "#b8e186"
            ],
            [
             0.8,
             "#7fbc41"
            ],
            [
             0.9,
             "#4d9221"
            ],
            [
             1,
             "#276419"
            ]
           ],
           "sequential": [
            [
             0,
             "#0d0887"
            ],
            [
             0.1111111111111111,
             "#46039f"
            ],
            [
             0.2222222222222222,
             "#7201a8"
            ],
            [
             0.3333333333333333,
             "#9c179e"
            ],
            [
             0.4444444444444444,
             "#bd3786"
            ],
            [
             0.5555555555555556,
             "#d8576b"
            ],
            [
             0.6666666666666666,
             "#ed7953"
            ],
            [
             0.7777777777777778,
             "#fb9f3a"
            ],
            [
             0.8888888888888888,
             "#fdca26"
            ],
            [
             1,
             "#f0f921"
            ]
           ],
           "sequentialminus": [
            [
             0,
             "#0d0887"
            ],
            [
             0.1111111111111111,
             "#46039f"
            ],
            [
             0.2222222222222222,
             "#7201a8"
            ],
            [
             0.3333333333333333,
             "#9c179e"
            ],
            [
             0.4444444444444444,
             "#bd3786"
            ],
            [
             0.5555555555555556,
             "#d8576b"
            ],
            [
             0.6666666666666666,
             "#ed7953"
            ],
            [
             0.7777777777777778,
             "#fb9f3a"
            ],
            [
             0.8888888888888888,
             "#fdca26"
            ],
            [
             1,
             "#f0f921"
            ]
           ]
          },
          "colorway": [
           "#636efa",
           "#EF553B",
           "#00cc96",
           "#ab63fa",
           "#FFA15A",
           "#19d3f3",
           "#FF6692",
           "#B6E880",
           "#FF97FF",
           "#FECB52"
          ],
          "font": {
           "color": "#2a3f5f"
          },
          "geo": {
           "bgcolor": "white",
           "lakecolor": "white",
           "landcolor": "#E5ECF6",
           "showlakes": true,
           "showland": true,
           "subunitcolor": "white"
          },
          "hoverlabel": {
           "align": "left"
          },
          "hovermode": "closest",
          "mapbox": {
           "style": "light"
          },
          "paper_bgcolor": "white",
          "plot_bgcolor": "#E5ECF6",
          "polar": {
           "angularaxis": {
            "gridcolor": "white",
            "linecolor": "white",
            "ticks": ""
           },
           "bgcolor": "#E5ECF6",
           "radialaxis": {
            "gridcolor": "white",
            "linecolor": "white",
            "ticks": ""
           }
          },
          "scene": {
           "xaxis": {
            "backgroundcolor": "#E5ECF6",
            "gridcolor": "white",
            "gridwidth": 2,
            "linecolor": "white",
            "showbackground": true,
            "ticks": "",
            "zerolinecolor": "white"
           },
           "yaxis": {
            "backgroundcolor": "#E5ECF6",
            "gridcolor": "white",
            "gridwidth": 2,
            "linecolor": "white",
            "showbackground": true,
            "ticks": "",
            "zerolinecolor": "white"
           },
           "zaxis": {
            "backgroundcolor": "#E5ECF6",
            "gridcolor": "white",
            "gridwidth": 2,
            "linecolor": "white",
            "showbackground": true,
            "ticks": "",
            "zerolinecolor": "white"
           }
          },
          "shapedefaults": {
           "line": {
            "color": "#2a3f5f"
           }
          },
          "ternary": {
           "aaxis": {
            "gridcolor": "white",
            "linecolor": "white",
            "ticks": ""
           },
           "baxis": {
            "gridcolor": "white",
            "linecolor": "white",
            "ticks": ""
           },
           "bgcolor": "#E5ECF6",
           "caxis": {
            "gridcolor": "white",
            "linecolor": "white",
            "ticks": ""
           }
          },
          "title": {
           "x": 0.05
          },
          "xaxis": {
           "automargin": true,
           "gridcolor": "white",
           "linecolor": "white",
           "ticks": "",
           "title": {
            "standoff": 15
           },
           "zerolinecolor": "white",
           "zerolinewidth": 2
          },
          "yaxis": {
           "automargin": true,
           "gridcolor": "white",
           "linecolor": "white",
           "ticks": "",
           "title": {
            "standoff": 15
           },
           "zerolinecolor": "white",
           "zerolinewidth": 2
          }
         }
        },
        "title": {
         "text": "Total Wine Production by Country in 2023"
        }
       }
      }
     },
     "metadata": {},
     "output_type": "display_data"
    }
   ],
   "source": [
    "#  Filter the data to include only wine production records and for the year 2023\n",
    "wine_production_2023_df = wine_country_weather_data_final_df[(wine_country_weather_data_final_df['Variable'] == 'Production') & (wine_country_weather_data_final_df['Year'] == 2023)]\n",
    "\n",
    "# Group by Region/Country and sum the Quantity_gallons\n",
    "wine_production_2023_by_country = wine_production_2023_df.groupby('Region/Country')['Quantity_gallons'].sum().reset_index()\n",
    "\n",
    "# Create the choropleth map\n",
    "fig = px.choropleth(\n",
    "    wine_production_2023_by_country,\n",
    "    locations=\"Region/Country\",\n",
    "    locationmode=\"country names\",\n",
    "    color=\"Quantity_gallons\",\n",
    "    hover_name=\"Region/Country\",\n",
    "    color_continuous_scale=px.colors.sequential.OrRd,\n",
    "    labels={'Quantity_gallons': 'Total Wine Production (Gallons)'},\n",
    "    title='Total Wine Production by Country in 2023'\n",
    ")\n",
    "\n",
    "# Customize the layout\n",
    "fig.update_layout(\n",
    "    geo=dict(showframe=False, showcoastlines=False, projection_type='equirectangular'),\n",
    "    margin={\"r\":0,\"t\":30,\"l\":0,\"b\":0}\n",
    ")\n",
    "\n",
    "# Show the plot\n",
    "fig.show()"
   ]
  },
  {
   "cell_type": "markdown",
   "metadata": {},
   "source": [
    "Which were the top wine producing countries from year 1995?\n"
   ]
  },
  {
   "cell_type": "code",
   "execution_count": 8,
   "metadata": {},
   "outputs": [
    {
     "data": {
      "image/png": "[encoded data removed]",
      "text/plain": [
       "<Figure size 1200x800 with 1 Axes>"
      ]
     },
     "metadata": {},
     "output_type": "display_data"
    }
   ],
   "source": [
    "# Filter the data to include only wine production records and for the year 1995\n",
    "wine_production_df = wine_country_weather_data_final_df[(wine_country_weather_data_final_df['Variable'] == 'Production') & (wine_country_weather_data_final_df['Year'] == 1995)]\n",
    "\n",
    "# Group by Region/Country and sum the Quantity_gallons\n",
    "wine_production_by_region = wine_production_df.groupby('Region/Country')['Quantity_gallons'].sum().reset_index()\n",
    "\n",
    "# Convert the Quantity_gallons to millions\n",
    "wine_production_by_region['Quantity_gallons_million'] = wine_production_by_region['Quantity_gallons'] / 1e6\n",
    "\n",
    "# Sort the values in descending order and get the top 10\n",
    "top_10_wine_producing_regions = wine_production_by_region.sort_values(by='Quantity_gallons_million', ascending=False).head(10)\n",
    "\n",
    "# Define a function to format the y-axis values with thousand commas\n",
    "def millions_formatter(x, pos):\n",
    "    return f'{x:,.0f}'\n",
    "\n",
    "# Create the bar chart\n",
    "plt.figure(figsize=(12, 8))\n",
    "plt.bar(top_10_wine_producing_regions['Region/Country'], top_10_wine_producing_regions['Quantity_gallons_million'], color='darkblue')\n",
    "plt.xlabel('Region/Country')\n",
    "plt.ylabel('Total Wine Production (Million Gallons)')\n",
    "plt.title('Top 10 Wine Producing Regions/Countries in 1995')\n",
    "plt.xticks(rotation=45, ha='right')  # Rotate the x labels for better readability\n",
    "plt.gca().yaxis.set_major_formatter(FuncFormatter(millions_formatter))\n",
    "plt.tight_layout()  # Adjust layout to make room for rotated x labels\n",
    "plt.show()"
   ]
  },
  {
   "cell_type": "markdown",
   "metadata": {},
   "source": [
    "Which were the top wine producing countries from year 2023?\n"
   ]
  },
  {
   "cell_type": "code",
   "execution_count": 9,
   "metadata": {},
   "outputs": [
    {
     "data": {
      "image/png": "[encoded data removed]",
      "text/plain": [
       "<Figure size 1200x800 with 2 Axes>"
      ]
     },
     "metadata": {},
     "output_type": "display_data"
    }
   ],
   "source": [
    "# Filter the data to include only wine production records and for the year 1995\n",
    "wine_production_df_1995 = wine_country_weather_data_final_df[(wine_country_weather_data_final_df['Variable'] == 'Production') & (wine_country_weather_data_final_df['Year'] == 1995)]\n",
    "\n",
    "# Filter the data to include only wine production records and for the year 2023\n",
    "wine_production_df_2023 = wine_country_weather_data_final_df[(wine_country_weather_data_final_df['Variable'] == 'Production') & (wine_country_weather_data_final_df['Year'] == 2023)]\n",
    "\n",
    "# Group by Region/Country and sum the Quantity_gallons for 1995 and 2023\n",
    "wine_production_by_region_1995 = wine_production_df_1995.groupby('Region/Country')['Quantity_gallons'].sum().reset_index()\n",
    "wine_production_by_region_2023 = wine_production_df_2023.groupby('Region/Country')['Quantity_gallons'].sum().reset_index()\n",
    "\n",
    "# Merge the two dataframes on Region/Country\n",
    "wine_production_comparison = pd.merge(wine_production_by_region_1995, wine_production_by_region_2023, on='Region/Country', suffixes=('_1995', '_2023'))\n",
    "\n",
    "# Calculate the percentage change\n",
    "wine_production_comparison['Percentage_change'] = ((wine_production_comparison['Quantity_gallons_2023'] - wine_production_comparison['Quantity_gallons_1995']) / wine_production_comparison['Quantity_gallons_1995']) * 100\n",
    "\n",
    "# Convert the Quantity_gallons_2023 to millions for plotting\n",
    "wine_production_comparison['Quantity_gallons_2023_million'] = wine_production_comparison['Quantity_gallons_2023'] / 1e6\n",
    "\n",
    "# Sort the values in descending order and get the top 10\n",
    "top_10_wine_producing_regions = wine_production_comparison.sort_values(by='Quantity_gallons_2023_million', ascending=False).head(10)\n",
    "\n",
    "# Define a function to format the y-axis values with thousand commas\n",
    "def millions_formatter(x, pos):\n",
    "    return f'{x:,.0f}'\n",
    "\n",
    "# Define a function to format the percentage change values with one decimal place\n",
    "def percentage_formatter(x, pos):\n",
    "    return f'{x:,.1f}%'\n",
    "\n",
    "# Create the bar chart\n",
    "fig, ax1 = plt.subplots(figsize=(12, 8))\n",
    "\n",
    "ax1.bar(top_10_wine_producing_regions['Region/Country'], top_10_wine_producing_regions['Quantity_gallons_2023_million'], color='darkblue')\n",
    "ax1.set_xlabel('Region/Country')\n",
    "ax1.set_ylabel('Total Wine Production (Million Gallons)')\n",
    "ax1.set_title('Top 10 Wine Producing Regions/Countries in 2023 (blue)')\n",
    "ax1.yaxis.set_major_formatter(FuncFormatter(millions_formatter))\n",
    "ax1.tick_params(axis='x', rotation=45)\n",
    "\n",
    "# Create the secondary axis\n",
    "ax2 = ax1.twinx()\n",
    "ax2.plot(top_10_wine_producing_regions['Region/Country'], top_10_wine_producing_regions['Percentage_change'], color='red', marker='o', linestyle='--')\n",
    "ax2.set_ylabel('% Change in Production (2023 vs 1995)(red)')\n",
    "ax2.yaxis.set_major_formatter(FuncFormatter(percentage_formatter))\n",
    "\n",
    "# Add data labels to the line graph\n",
    "for i, txt in enumerate(top_10_wine_producing_regions['Percentage_change']):\n",
    "    label = f'{txt:.1f}%' if txt >= 0 else f'({-txt:.1f}%)'\n",
    "    ax2.annotate(label, (top_10_wine_producing_regions['Region/Country'].iloc[i], top_10_wine_producing_regions['Percentage_change'].iloc[i]), \n",
    "                 textcoords=\"offset points\", xytext=(0,10), ha='center', fontsize=9, color='red', fontweight='bold')\n",
    "\n",
    "plt.tight_layout()  # Adjust layout to make room for rotated x labels\n",
    "plt.show()"
   ]
  }
 ],
 "metadata": {
  "kernelspec": {
   "display_name": "Python 3",
   "language": "python",
   "name": "python3"
  },
  "language_info": {
   "codemirror_mode": {
    "name": "ipython",
    "version": 3
   },
   "file_extension": ".py",
   "mimetype": "text/x-python",
   "name": "python",
   "nbconvert_exporter": "python",
   "pygments_lexer": "ipython3",
   "version": "3.12.3"
  }
 },
 "nbformat": 4,
 "nbformat_minor": 2
}
