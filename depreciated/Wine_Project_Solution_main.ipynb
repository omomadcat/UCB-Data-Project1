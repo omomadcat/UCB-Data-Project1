{
 "cells": [
  {
   "cell_type": "code",
   "execution_count": 41,
   "metadata": {},
   "outputs": [],
   "source": [
    "# Import necessary libraries\n",
    "import pandas as pd\n",
    "import matplotlib.pyplot as plt\n",
    "from matplotlib.ticker import FuncFormatter\n",
    "import seaborn as sns\n",
    "import numpy as np\n",
    "from scipy import stats\n",
    "import geopandas as gpd\n",
    "import plotly.express as px\n",
    "import nbformat\n",
    "import ipywidgets as widgets\n",
    "from IPython.display import display, clear_output"
   ]
  },
  {
   "cell_type": "code",
   "execution_count": 42,
   "metadata": {},
   "outputs": [
    {
     "data": {
      "text/html": [
       "<div>\n",
       "<style scoped>\n",
       "    .dataframe tbody tr th:only-of-type {\n",
       "        vertical-align: middle;\n",
       "    }\n",
       "\n",
       "    .dataframe tbody tr th {\n",
       "        vertical-align: top;\n",
       "    }\n",
       "\n",
       "    .dataframe thead th {\n",
       "        text-align: right;\n",
       "    }\n",
       "</style>\n",
       "<table border=\"1\" class=\"dataframe\">\n",
       "  <thead>\n",
       "    <tr style=\"text-align: right;\">\n",
       "      <th></th>\n",
       "      <th>Continent</th>\n",
       "      <th>Region/Country</th>\n",
       "      <th>Product</th>\n",
       "      <th>Variable</th>\n",
       "      <th>Year</th>\n",
       "      <th>Unit</th>\n",
       "      <th>Quantity</th>\n",
       "      <th>Country_Code</th>\n",
       "      <th>DP10</th>\n",
       "      <th>DP1X</th>\n",
       "      <th>...</th>\n",
       "      <th>DX90</th>\n",
       "      <th>EMNT</th>\n",
       "      <th>EMXP</th>\n",
       "      <th>EMXT</th>\n",
       "      <th>HTDD</th>\n",
       "      <th>MNPN</th>\n",
       "      <th>MXPN</th>\n",
       "      <th>PRCP</th>\n",
       "      <th>TAVG</th>\n",
       "      <th>TMAX</th>\n",
       "    </tr>\n",
       "  </thead>\n",
       "  <tbody>\n",
       "    <tr>\n",
       "      <th>0</th>\n",
       "      <td>Asia</td>\n",
       "      <td>Afghanistan</td>\n",
       "      <td>Wine</td>\n",
       "      <td>Consumption</td>\n",
       "      <td>1995</td>\n",
       "      <td>1000 hl</td>\n",
       "      <td>0</td>\n",
       "      <td>AF</td>\n",
       "      <td>0</td>\n",
       "      <td>0</td>\n",
       "      <td>...</td>\n",
       "      <td>0</td>\n",
       "      <td>0.0</td>\n",
       "      <td>0.0</td>\n",
       "      <td>0.0</td>\n",
       "      <td>0</td>\n",
       "      <td>0</td>\n",
       "      <td>0</td>\n",
       "      <td>0.0</td>\n",
       "      <td>0.0</td>\n",
       "      <td>0.0</td>\n",
       "    </tr>\n",
       "    <tr>\n",
       "      <th>1</th>\n",
       "      <td>Asia</td>\n",
       "      <td>Afghanistan</td>\n",
       "      <td>Wine</td>\n",
       "      <td>Imports</td>\n",
       "      <td>1995</td>\n",
       "      <td>1000 hl</td>\n",
       "      <td>0</td>\n",
       "      <td>AF</td>\n",
       "      <td>0</td>\n",
       "      <td>0</td>\n",
       "      <td>...</td>\n",
       "      <td>0</td>\n",
       "      <td>0.0</td>\n",
       "      <td>0.0</td>\n",
       "      <td>0.0</td>\n",
       "      <td>0</td>\n",
       "      <td>0</td>\n",
       "      <td>0</td>\n",
       "      <td>0.0</td>\n",
       "      <td>0.0</td>\n",
       "      <td>0.0</td>\n",
       "    </tr>\n",
       "    <tr>\n",
       "      <th>2</th>\n",
       "      <td>Asia</td>\n",
       "      <td>Afghanistan</td>\n",
       "      <td>Wine</td>\n",
       "      <td>Production</td>\n",
       "      <td>1995</td>\n",
       "      <td>1000 hl</td>\n",
       "      <td>0</td>\n",
       "      <td>AF</td>\n",
       "      <td>0</td>\n",
       "      <td>0</td>\n",
       "      <td>...</td>\n",
       "      <td>0</td>\n",
       "      <td>0.0</td>\n",
       "      <td>0.0</td>\n",
       "      <td>0.0</td>\n",
       "      <td>0</td>\n",
       "      <td>0</td>\n",
       "      <td>0</td>\n",
       "      <td>0.0</td>\n",
       "      <td>0.0</td>\n",
       "      <td>0.0</td>\n",
       "    </tr>\n",
       "    <tr>\n",
       "      <th>3</th>\n",
       "      <td>Asia</td>\n",
       "      <td>Afghanistan</td>\n",
       "      <td>Wine</td>\n",
       "      <td>Consumption</td>\n",
       "      <td>1996</td>\n",
       "      <td>1000 hl</td>\n",
       "      <td>0</td>\n",
       "      <td>AF</td>\n",
       "      <td>0</td>\n",
       "      <td>0</td>\n",
       "      <td>...</td>\n",
       "      <td>0</td>\n",
       "      <td>0.0</td>\n",
       "      <td>0.0</td>\n",
       "      <td>0.0</td>\n",
       "      <td>0</td>\n",
       "      <td>0</td>\n",
       "      <td>0</td>\n",
       "      <td>0.0</td>\n",
       "      <td>0.0</td>\n",
       "      <td>0.0</td>\n",
       "    </tr>\n",
       "    <tr>\n",
       "      <th>4</th>\n",
       "      <td>Asia</td>\n",
       "      <td>Afghanistan</td>\n",
       "      <td>Wine</td>\n",
       "      <td>Imports</td>\n",
       "      <td>1996</td>\n",
       "      <td>1000 hl</td>\n",
       "      <td>0</td>\n",
       "      <td>AF</td>\n",
       "      <td>0</td>\n",
       "      <td>0</td>\n",
       "      <td>...</td>\n",
       "      <td>0</td>\n",
       "      <td>0.0</td>\n",
       "      <td>0.0</td>\n",
       "      <td>0.0</td>\n",
       "      <td>0</td>\n",
       "      <td>0</td>\n",
       "      <td>0</td>\n",
       "      <td>0.0</td>\n",
       "      <td>0.0</td>\n",
       "      <td>0.0</td>\n",
       "    </tr>\n",
       "  </tbody>\n",
       "</table>\n",
       "<p>5 rows × 22 columns</p>\n",
       "</div>"
      ],
      "text/plain": [
       "  Continent Region/Country Product     Variable  Year     Unit  Quantity  \\\n",
       "0      Asia    Afghanistan    Wine  Consumption  1995  1000 hl         0   \n",
       "1      Asia    Afghanistan    Wine      Imports  1995  1000 hl         0   \n",
       "2      Asia    Afghanistan    Wine   Production  1995  1000 hl         0   \n",
       "3      Asia    Afghanistan    Wine  Consumption  1996  1000 hl         0   \n",
       "4      Asia    Afghanistan    Wine      Imports  1996  1000 hl         0   \n",
       "\n",
       "  Country_Code  DP10  DP1X  ...  DX90  EMNT  EMXP  EMXT  HTDD  MNPN  MXPN  \\\n",
       "0           AF     0     0  ...     0   0.0   0.0   0.0     0     0     0   \n",
       "1           AF     0     0  ...     0   0.0   0.0   0.0     0     0     0   \n",
       "2           AF     0     0  ...     0   0.0   0.0   0.0     0     0     0   \n",
       "3           AF     0     0  ...     0   0.0   0.0   0.0     0     0     0   \n",
       "4           AF     0     0  ...     0   0.0   0.0   0.0     0     0     0   \n",
       "\n",
       "   PRCP  TAVG  TMAX  \n",
       "0   0.0   0.0   0.0  \n",
       "1   0.0   0.0   0.0  \n",
       "2   0.0   0.0   0.0  \n",
       "3   0.0   0.0   0.0  \n",
       "4   0.0   0.0   0.0  \n",
       "\n",
       "[5 rows x 22 columns]"
      ]
     },
     "execution_count": 42,
     "metadata": {},
     "output_type": "execute_result"
    }
   ],
   "source": [
    "# Step 1: Load data from Excel file\n",
    "file_path = r'Resources/Wine_Country_Weather_Data_adj.xlsx' \n",
    "wine_country_weather_data_df = pd.read_excel(file_path, sheet_name='Table')\n",
    "\n",
    "# Step 2: Display the first few rows of the DataFrame to verify loading\n",
    "wine_country_weather_data_df.head()"
   ]
  },
  {
   "cell_type": "code",
   "execution_count": 43,
   "metadata": {},
   "outputs": [
    {
     "data": {
      "text/html": [
       "<div>\n",
       "<style scoped>\n",
       "    .dataframe tbody tr th:only-of-type {\n",
       "        vertical-align: middle;\n",
       "    }\n",
       "\n",
       "    .dataframe tbody tr th {\n",
       "        vertical-align: top;\n",
       "    }\n",
       "\n",
       "    .dataframe thead th {\n",
       "        text-align: right;\n",
       "    }\n",
       "</style>\n",
       "<table border=\"1\" class=\"dataframe\">\n",
       "  <thead>\n",
       "    <tr style=\"text-align: right;\">\n",
       "      <th></th>\n",
       "      <th>DataType</th>\n",
       "      <th>Definition</th>\n",
       "    </tr>\n",
       "  </thead>\n",
       "  <tbody>\n",
       "    <tr>\n",
       "      <th>0</th>\n",
       "      <td>DP10</td>\n",
       "      <td>Number of days with &gt;= 0.1 inch</td>\n",
       "    </tr>\n",
       "    <tr>\n",
       "      <th>1</th>\n",
       "      <td>DP1X</td>\n",
       "      <td>Number of days with &gt;= 1.00 inch</td>\n",
       "    </tr>\n",
       "    <tr>\n",
       "      <th>2</th>\n",
       "      <td>DT32</td>\n",
       "      <td>Number of days with maximum temperature &lt;= 32 degrees Fa...</td>\n",
       "    </tr>\n",
       "    <tr>\n",
       "      <th>3</th>\n",
       "      <td>DX70</td>\n",
       "      <td>Number of days with maximum temperature &gt;= 70 degrees Fa...</td>\n",
       "    </tr>\n",
       "    <tr>\n",
       "      <th>4</th>\n",
       "      <td>DX90</td>\n",
       "      <td>Number of days with maximum temperature &gt;= 90 degrees Fa...</td>\n",
       "    </tr>\n",
       "    <tr>\n",
       "      <th>5</th>\n",
       "      <td>EMNT</td>\n",
       "      <td>Extreme minimum temperature for month. Lowest daily mini...</td>\n",
       "    </tr>\n",
       "    <tr>\n",
       "      <th>6</th>\n",
       "      <td>EMXP</td>\n",
       "      <td>Highest daily total of precipitation in the month. Given...</td>\n",
       "    </tr>\n",
       "    <tr>\n",
       "      <th>7</th>\n",
       "      <td>EMXT</td>\n",
       "      <td>Extreme maximum temperature for month. Highest daily max...</td>\n",
       "    </tr>\n",
       "    <tr>\n",
       "      <th>8</th>\n",
       "      <td>HTDD</td>\n",
       "      <td>Heating Degree Days. Computed when daily average tempera...</td>\n",
       "    </tr>\n",
       "    <tr>\n",
       "      <th>9</th>\n",
       "      <td>MNPN</td>\n",
       "      <td>Monthly Mean Minimum Temperature of evaporation pan wate...</td>\n",
       "    </tr>\n",
       "    <tr>\n",
       "      <th>10</th>\n",
       "      <td>MXPN</td>\n",
       "      <td>Monthly Mean Maximum Temperature of evaporation pan wate...</td>\n",
       "    </tr>\n",
       "    <tr>\n",
       "      <th>11</th>\n",
       "      <td>PRCP</td>\n",
       "      <td>Total Monthly Precipitation. Given in inches or millime...</td>\n",
       "    </tr>\n",
       "    <tr>\n",
       "      <th>12</th>\n",
       "      <td>TAVG</td>\n",
       "      <td>Average Monthly Temperature. Computed by adding the unro...</td>\n",
       "    </tr>\n",
       "    <tr>\n",
       "      <th>13</th>\n",
       "      <td>TMAX</td>\n",
       "      <td>Monthly Maximum Temperature. Average of daily maximum te...</td>\n",
       "    </tr>\n",
       "  </tbody>\n",
       "</table>\n",
       "</div>"
      ],
      "text/plain": [
       "   DataType                                                   Definition\n",
       "0      DP10                              Number of days with >= 0.1 inch\n",
       "1      DP1X                             Number of days with >= 1.00 inch\n",
       "2      DT32  Number of days with maximum temperature <= 32 degrees Fa...\n",
       "3      DX70  Number of days with maximum temperature >= 70 degrees Fa...\n",
       "4      DX90  Number of days with maximum temperature >= 90 degrees Fa...\n",
       "5      EMNT  Extreme minimum temperature for month. Lowest daily mini...\n",
       "6      EMXP  Highest daily total of precipitation in the month. Given...\n",
       "7      EMXT  Extreme maximum temperature for month. Highest daily max...\n",
       "8      HTDD  Heating Degree Days. Computed when daily average tempera...\n",
       "9      MNPN  Monthly Mean Minimum Temperature of evaporation pan wate...\n",
       "10     MXPN  Monthly Mean Maximum Temperature of evaporation pan wate...\n",
       "11     PRCP   Total Monthly Precipitation. Given in inches or millime...\n",
       "12     TAVG  Average Monthly Temperature. Computed by adding the unro...\n",
       "13     TMAX  Monthly Maximum Temperature. Average of daily maximum te..."
      ]
     },
     "execution_count": 43,
     "metadata": {},
     "output_type": "execute_result"
    }
   ],
   "source": [
    "# Load data from Excel file\n",
    "file_path = r'Resources/Wine_Country_Weather_Data_adj.xlsx' \n",
    "glossary_df = pd.read_excel(file_path, sheet_name='Glossary')\n",
    "\n",
    "# Adjust display options to show entire strings\n",
    "pd.set_option('display.max_colwidth', 60)\n",
    "\n",
    "# Display the first few rows of the glossary dataframe\n",
    "glossary_df"
   ]
  },
  {
   "cell_type": "code",
   "execution_count": 44,
   "metadata": {},
   "outputs": [
    {
     "data": {
      "text/html": [
       "<div>\n",
       "<style scoped>\n",
       "    .dataframe tbody tr th:only-of-type {\n",
       "        vertical-align: middle;\n",
       "    }\n",
       "\n",
       "    .dataframe tbody tr th {\n",
       "        vertical-align: top;\n",
       "    }\n",
       "\n",
       "    .dataframe thead th {\n",
       "        text-align: right;\n",
       "    }\n",
       "</style>\n",
       "<table border=\"1\" class=\"dataframe\">\n",
       "  <thead>\n",
       "    <tr style=\"text-align: right;\">\n",
       "      <th></th>\n",
       "      <th>Continent</th>\n",
       "      <th>Region/Country</th>\n",
       "      <th>Product</th>\n",
       "      <th>Variable</th>\n",
       "      <th>Year</th>\n",
       "      <th>Unit</th>\n",
       "      <th>Quantity</th>\n",
       "      <th>Quantity_gallons</th>\n",
       "      <th>Country_Code</th>\n",
       "      <th>DP10</th>\n",
       "      <th>...</th>\n",
       "      <th>DX90</th>\n",
       "      <th>EMNT</th>\n",
       "      <th>EMXP</th>\n",
       "      <th>EMXT</th>\n",
       "      <th>HTDD</th>\n",
       "      <th>MNPN</th>\n",
       "      <th>MXPN</th>\n",
       "      <th>PRCP</th>\n",
       "      <th>TAVG</th>\n",
       "      <th>TMAX</th>\n",
       "    </tr>\n",
       "  </thead>\n",
       "  <tbody>\n",
       "    <tr>\n",
       "      <th>0</th>\n",
       "      <td>Asia</td>\n",
       "      <td>Afghanistan</td>\n",
       "      <td>Wine</td>\n",
       "      <td>Consumption</td>\n",
       "      <td>1995</td>\n",
       "      <td>1000 hl</td>\n",
       "      <td>0</td>\n",
       "      <td>0.0</td>\n",
       "      <td>AF</td>\n",
       "      <td>0</td>\n",
       "      <td>...</td>\n",
       "      <td>0</td>\n",
       "      <td>0.0</td>\n",
       "      <td>0.0</td>\n",
       "      <td>0.0</td>\n",
       "      <td>0</td>\n",
       "      <td>0</td>\n",
       "      <td>0</td>\n",
       "      <td>0.0</td>\n",
       "      <td>0.0</td>\n",
       "      <td>0.0</td>\n",
       "    </tr>\n",
       "    <tr>\n",
       "      <th>1</th>\n",
       "      <td>Asia</td>\n",
       "      <td>Afghanistan</td>\n",
       "      <td>Wine</td>\n",
       "      <td>Imports</td>\n",
       "      <td>1995</td>\n",
       "      <td>1000 hl</td>\n",
       "      <td>0</td>\n",
       "      <td>0.0</td>\n",
       "      <td>AF</td>\n",
       "      <td>0</td>\n",
       "      <td>...</td>\n",
       "      <td>0</td>\n",
       "      <td>0.0</td>\n",
       "      <td>0.0</td>\n",
       "      <td>0.0</td>\n",
       "      <td>0</td>\n",
       "      <td>0</td>\n",
       "      <td>0</td>\n",
       "      <td>0.0</td>\n",
       "      <td>0.0</td>\n",
       "      <td>0.0</td>\n",
       "    </tr>\n",
       "    <tr>\n",
       "      <th>2</th>\n",
       "      <td>Asia</td>\n",
       "      <td>Afghanistan</td>\n",
       "      <td>Wine</td>\n",
       "      <td>Production</td>\n",
       "      <td>1995</td>\n",
       "      <td>1000 hl</td>\n",
       "      <td>0</td>\n",
       "      <td>0.0</td>\n",
       "      <td>AF</td>\n",
       "      <td>0</td>\n",
       "      <td>...</td>\n",
       "      <td>0</td>\n",
       "      <td>0.0</td>\n",
       "      <td>0.0</td>\n",
       "      <td>0.0</td>\n",
       "      <td>0</td>\n",
       "      <td>0</td>\n",
       "      <td>0</td>\n",
       "      <td>0.0</td>\n",
       "      <td>0.0</td>\n",
       "      <td>0.0</td>\n",
       "    </tr>\n",
       "    <tr>\n",
       "      <th>3</th>\n",
       "      <td>Asia</td>\n",
       "      <td>Afghanistan</td>\n",
       "      <td>Wine</td>\n",
       "      <td>Consumption</td>\n",
       "      <td>1996</td>\n",
       "      <td>1000 hl</td>\n",
       "      <td>0</td>\n",
       "      <td>0.0</td>\n",
       "      <td>AF</td>\n",
       "      <td>0</td>\n",
       "      <td>...</td>\n",
       "      <td>0</td>\n",
       "      <td>0.0</td>\n",
       "      <td>0.0</td>\n",
       "      <td>0.0</td>\n",
       "      <td>0</td>\n",
       "      <td>0</td>\n",
       "      <td>0</td>\n",
       "      <td>0.0</td>\n",
       "      <td>0.0</td>\n",
       "      <td>0.0</td>\n",
       "    </tr>\n",
       "    <tr>\n",
       "      <th>4</th>\n",
       "      <td>Asia</td>\n",
       "      <td>Afghanistan</td>\n",
       "      <td>Wine</td>\n",
       "      <td>Imports</td>\n",
       "      <td>1996</td>\n",
       "      <td>1000 hl</td>\n",
       "      <td>0</td>\n",
       "      <td>0.0</td>\n",
       "      <td>AF</td>\n",
       "      <td>0</td>\n",
       "      <td>...</td>\n",
       "      <td>0</td>\n",
       "      <td>0.0</td>\n",
       "      <td>0.0</td>\n",
       "      <td>0.0</td>\n",
       "      <td>0</td>\n",
       "      <td>0</td>\n",
       "      <td>0</td>\n",
       "      <td>0.0</td>\n",
       "      <td>0.0</td>\n",
       "      <td>0.0</td>\n",
       "    </tr>\n",
       "  </tbody>\n",
       "</table>\n",
       "<p>5 rows × 23 columns</p>\n",
       "</div>"
      ],
      "text/plain": [
       "  Continent Region/Country Product     Variable  Year     Unit  Quantity  \\\n",
       "0      Asia    Afghanistan    Wine  Consumption  1995  1000 hl         0   \n",
       "1      Asia    Afghanistan    Wine      Imports  1995  1000 hl         0   \n",
       "2      Asia    Afghanistan    Wine   Production  1995  1000 hl         0   \n",
       "3      Asia    Afghanistan    Wine  Consumption  1996  1000 hl         0   \n",
       "4      Asia    Afghanistan    Wine      Imports  1996  1000 hl         0   \n",
       "\n",
       "   Quantity_gallons Country_Code  DP10  ...  DX90  EMNT  EMXP  EMXT  HTDD  \\\n",
       "0               0.0           AF     0  ...     0   0.0   0.0   0.0     0   \n",
       "1               0.0           AF     0  ...     0   0.0   0.0   0.0     0   \n",
       "2               0.0           AF     0  ...     0   0.0   0.0   0.0     0   \n",
       "3               0.0           AF     0  ...     0   0.0   0.0   0.0     0   \n",
       "4               0.0           AF     0  ...     0   0.0   0.0   0.0     0   \n",
       "\n",
       "   MNPN  MXPN  PRCP  TAVG  TMAX  \n",
       "0     0     0   0.0   0.0   0.0  \n",
       "1     0     0   0.0   0.0   0.0  \n",
       "2     0     0   0.0   0.0   0.0  \n",
       "3     0     0   0.0   0.0   0.0  \n",
       "4     0     0   0.0   0.0   0.0  \n",
       "\n",
       "[5 rows x 23 columns]"
      ]
     },
     "execution_count": 44,
     "metadata": {},
     "output_type": "execute_result"
    }
   ],
   "source": [
    "# Convert quantity from 1000hl to gallons\n",
    "# Assuming the quantity column is named 'quantity' and it is in '1000hl'\n",
    "# 1 hectoliter (hl) is approximately 26.4172 gallons\n",
    "# Therefore, 1000 hl is 1000 * 26.4172 gallons\n",
    "\n",
    "conversion_factor = 26.4172\n",
    "wine_country_weather_data_df['Quantity_gallons'] = wine_country_weather_data_df['Quantity'].astype(float) * 1000 * conversion_factor\n",
    "\n",
    "# Reorder columns to place 'Quantity_Gallons' right after 'Quantity'\n",
    "columns = list(wine_country_weather_data_df.columns)\n",
    "quantity_index = columns.index('Quantity')\n",
    "columns.insert(quantity_index + 1, columns.pop(columns.index('Quantity_gallons')))\n",
    "wine_country_weather_data_final_df = wine_country_weather_data_df[columns]\n",
    "\n",
    "# Remove blank records where country_code is blank\n",
    "wine_country_weather_data_final_df = wine_country_weather_data_final_df[wine_country_weather_data_final_df['Country_Code'].notna()].reset_index(drop=True)\n",
    "\n",
    "# Display the modified dataframe\n",
    "# print(wine_country_weather_data_final_df.head())\n",
    "wine_country_weather_data_final_df.head()"
   ]
  },
  {
   "cell_type": "markdown",
   "metadata": {},
   "source": [
    "Total wine production for all countries combined from 1995 to 2023"
   ]
  },
  {
   "cell_type": "code",
   "execution_count": 45,
   "metadata": {},
   "outputs": [
    {
     "data": {
      "image/png": "[encoded data removed]",
      "text/plain": [
       "<Figure size 1200x800 with 1 Axes>"
      ]
     },
     "metadata": {},
     "output_type": "display_data"
    }
   ],
   "source": [
    "# Filter the data to include only wine production records\n",
    "wine_production_df = wine_country_weather_data_final_df[wine_country_weather_data_final_df['Variable'] == 'Production']\n",
    "\n",
    "# Group by Year and sum the Quantity_gallons\n",
    "wine_production_by_year = wine_production_df.groupby('Year')['Quantity_gallons'].sum().reset_index()\n",
    "\n",
    "# Convert the Quantity_gallons to millions\n",
    "wine_production_by_year['Quantity_gallons_million'] = wine_production_by_year['Quantity_gallons'] / 1e6\n",
    "\n",
    "# Define a function to format the y-axis values with thousand commas\n",
    "def millions_formatter(x, pos):\n",
    "    return f'{x:,.0f}'\n",
    "\n",
    "# Create the line plot\n",
    "plt.figure(figsize=(12, 8))\n",
    "plt.plot(wine_production_by_year['Year'], wine_production_by_year['Quantity_gallons_million'], marker='o', linestyle='-', color='darkblue')\n",
    "\n",
    "# Customize the plot\n",
    "plt.xlabel('Year')\n",
    "plt.ylabel('Total Wine Production (Million Gallons)')\n",
    "plt.title('Total Wine Production from 1995 to 2023')\n",
    "plt.gca().yaxis.set_major_formatter(FuncFormatter(millions_formatter))\n",
    "plt.grid(True)\n",
    "plt.tight_layout()\n",
    "\n",
    "# Show the plot\n",
    "plt.show()"
   ]
  },
  {
   "cell_type": "markdown",
   "metadata": {},
   "source": [
    "Map of total wine production by country in 1995"
   ]
  },
  {
   "cell_type": "code",
   "execution_count": 46,
   "metadata": {},
   "outputs": [
    {
     "data": {
      "application/vnd.plotly.v1+json": {
       "config": {
        "plotlyServerURL": "https://plot.ly"
       },
       "data": [
        {
         "coloraxis": "coloraxis",
         "geo": "geo",
         "hovertemplate": "<b>%{hovertext}</b><br><br>Region/Country=%{location}<br>Total Wine Production (Gallons)=%{z}<extra></extra>",
         "hovertext": [
          "Afghanistan",
          "Albania",
          "Algeria",
          "American Samoa",
          "Angola",
          "Antigua and Barbuda",
          "Argentina",
          "Armenia",
          "Australia",
          "Austria",
          "Azerbaijan",
          "Bahamas",
          "Bahrain",
          "Bangladesh",
          "Barbados",
          "Belarus",
          "Belgium",
          "Belize",
          "Benin",
          "Bermuda",
          "Bolivia",
          "Bosnia and Herzegovina",
          "Botswana",
          "Brazil",
          "Brunei Darussalam",
          "Bulgaria",
          "Burkina Faso",
          "Burundi",
          "Cambodia",
          "Cameroon",
          "Canada",
          "Cayman Islands",
          "Central African Republic",
          "Chad",
          "Chile",
          "China, mainland",
          "Colombia",
          "Congo",
          "Congo (the Democratic Republic of the)",
          "Cook Islands",
          "Costa Rica",
          "Croatia",
          "Cuba",
          "Cyprus",
          "Czech Republic",
          "Côte d'Ivoire",
          "Dominica",
          "Dominican Republic",
          "Ecuador",
          "Egypt",
          "El Salvador",
          "Equatorial Guinea",
          "Eritrea",
          "Estonia",
          "Ethiopia",
          "Fiji",
          "Finland",
          "France",
          "French Guiana",
          "French Polynesia",
          "Gabon",
          "Gambia",
          "Georgia",
          "Germany",
          "Ghana",
          "Greece",
          "Greenland",
          "Guadeloupe",
          "Guam",
          "Guinea",
          "Guinea-Bissau",
          "Guyana",
          "Honduras",
          "Hungary",
          "Indonesia",
          "Iran",
          "Iraq",
          "Ireland",
          "Israel",
          "Italy",
          "Jamaica",
          "Japan",
          "Jordan",
          "Kazakhstan",
          "Kenya",
          "Kiribati",
          "Korea (the Democratic People's Republic of)",
          "Korea (the Republic of)",
          "Kuwait",
          "Kyrgyzstan",
          "Lao People's Democratic Republic",
          "Latvia",
          "Lebanon",
          "Lesotho",
          "Liberia",
          "Libya",
          "Lithuania",
          "Luxemburg",
          "Madagascar",
          "Malawi",
          "Malaysia",
          "Maldives",
          "Mali",
          "Malta",
          "Marshall Islands",
          "Martinique",
          "Mauritania",
          "Mauritius",
          "Mexico",
          "Micronesia",
          "Moldova",
          "Mongolia",
          "Morocco",
          "Mozambique",
          "Namibia",
          "Nepal",
          "Netherlands Antilles",
          "New Caledonia",
          "New Zealand",
          "Nicaragua",
          "Niger",
          "Nigeria",
          "Niue",
          "Norfolk Island",
          "Norway",
          "Oman",
          "Pakistan",
          "Palau",
          "Panama",
          "Papua New Guinea",
          "Paraguay",
          "Peru",
          "Philippines",
          "Poland",
          "Portugal",
          "Qatar",
          "Republic of North Macedonia",
          "Reunion island",
          "Romania",
          "Russia",
          "Rwanda",
          "Saint Helena",
          "Saint Lucia",
          "Saint Pierre And Miquelon",
          "Saudi Arabia",
          "Senegal",
          "Serbia And Montenegro",
          "Seychelles",
          "Sierra Leone",
          "Singapore",
          "Slovakia",
          "Slovenia",
          "Solomon Islands",
          "South Africa",
          "South Sudan",
          "Spain",
          "Sri Lanka",
          "Suriname",
          "Sweden",
          "Switzerland",
          "Syrian Arab Republic",
          "Tajikistan",
          "Tanzania, the United Republic of",
          "Thailand",
          "Togo",
          "Tonga",
          "Trinidad and Tobago",
          "Tunisia",
          "Turkmenistan",
          "Tuvalu",
          "Uganda",
          "Ukraine",
          "United Arab Emirates",
          "United Kingdom",
          "United States of America",
          "Uruguay",
          "Uzbekistan",
          "Vanuatu",
          "Venezuela",
          "Vietnam",
          "Zambia",
          "Zimbabwe"
         ],
         "locationmode": "country names",
         "locations": [
          "Afghanistan",
          "Albania",
          "Algeria",
          "American Samoa",
          "Angola",
          "Antigua and Barbuda",
          "Argentina",
          "Armenia",
          "Australia",
          "Austria",
          "Azerbaijan",
          "Bahamas",
          "Bahrain",
          "Bangladesh",
          "Barbados",
          "Belarus",
          "Belgium",
          "Belize",
          "Benin",
          "Bermuda",
          "Bolivia",
          "Bosnia and Herzegovina",
          "Botswana",
          "Brazil",
          "Brunei Darussalam",
          "Bulgaria",
          "Burkina Faso",
          "Burundi",
          "Cambodia",
          "Cameroon",
          "Canada",
          "Cayman Islands",
          "Central African Republic",
          "Chad",
          "Chile",
          "China, mainland",
          "Colombia",
          "Congo",
          "Congo (the Democratic Republic of the)",
          "Cook Islands",
          "Costa Rica",
          "Croatia",
          "Cuba",
          "Cyprus",
          "Czech Republic",
          "Côte d'Ivoire",
          "Dominica",
          "Dominican Republic",
          "Ecuador",
          "Egypt",
          "El Salvador",
          "Equatorial Guinea",
          "Eritrea",
          "Estonia",
          "Ethiopia",
          "Fiji",
          "Finland",
          "France",
          "French Guiana",
          "French Polynesia",
          "Gabon",
          "Gambia",
          "Georgia",
          "Germany",
          "Ghana",
          "Greece",
          "Greenland",
          "Guadeloupe",
          "Guam",
          "Guinea",
          "Guinea-Bissau",
          "Guyana",
          "Honduras",
          "Hungary",
          "Indonesia",
          "Iran",
          "Iraq",
          "Ireland",
          "Israel",
          "Italy",
          "Jamaica",
          "Japan",
          "Jordan",
          "Kazakhstan",
          "Kenya",
          "Kiribati",
          "Korea (the Democratic People's Republic of)",
          "Korea (the Republic of)",
          "Kuwait",
          "Kyrgyzstan",
          "Lao People's Democratic Republic",
          "Latvia",
          "Lebanon",
          "Lesotho",
          "Liberia",
          "Libya",
          "Lithuania",
          "Luxemburg",
          "Madagascar",
          "Malawi",
          "Malaysia",
          "Maldives",
          "Mali",
          "Malta",
          "Marshall Islands",
          "Martinique",
          "Mauritania",
          "Mauritius",
          "Mexico",
          "Micronesia",
          "Moldova",
          "Mongolia",
          "Morocco",
          "Mozambique",
          "Namibia",
          "Nepal",
          "Netherlands Antilles",
          "New Caledonia",
          "New Zealand",
          "Nicaragua",
          "Niger",
          "Nigeria",
          "Niue",
          "Norfolk Island",
          "Norway",
          "Oman",
          "Pakistan",
          "Palau",
          "Panama",
          "Papua New Guinea",
          "Paraguay",
          "Peru",
          "Philippines",
          "Poland",
          "Portugal",
          "Qatar",
          "Republic of North Macedonia",
          "Reunion island",
          "Romania",
          "Russia",
          "Rwanda",
          "Saint Helena",
          "Saint Lucia",
          "Saint Pierre And Miquelon",
          "Saudi Arabia",
          "Senegal",
          "Serbia And Montenegro",
          "Seychelles",
          "Sierra Leone",
          "Singapore",
          "Slovakia",
          "Slovenia",
          "Solomon Islands",
          "South Africa",
          "South Sudan",
          "Spain",
          "Sri Lanka",
          "Suriname",
          "Sweden",
          "Switzerland",
          "Syrian Arab Republic",
          "Tajikistan",
          "Tanzania, the United Republic of",
          "Thailand",
          "Togo",
          "Tonga",
          "Trinidad and Tobago",
          "Tunisia",
          "Turkmenistan",
          "Tuvalu",
          "Uganda",
          "Ukraine",
          "United Arab Emirates",
          "United Kingdom",
          "United States of America",
          "Uruguay",
          "Uzbekistan",
          "Vanuatu",
          "Venezuela",
          "Vietnam",
          "Zambia",
          "Zimbabwe"
         ],
         "name": "",
         "type": "choropleth",
         "z": [
          0,
          4464506.8,
          15084221.200000001,
          0,
          0,
          0,
          434378019.6,
          2747388.8000000003,
          132825681.60000001,
          58883938.800000004,
          1875621.2000000002,
          0,
          0,
          0,
          0,
          2694554.4,
          26417.2,
          0,
          0,
          0,
          528344,
          898184.8,
          0,
          82633001.60000001,
          0,
          69767825.2,
          0,
          0,
          0,
          0,
          9378106,
          0,
          0,
          0,
          83584020.8,
          184920400,
          0,
          0,
          0,
          0,
          0,
          47154702,
          0,
          14661546,
          12125494.8,
          0,
          0,
          0,
          0,
          686847.2000000001,
          0,
          0,
          0,
          369840.8,
          264172,
          0,
          0,
          1435880488.8,
          0,
          0,
          0,
          0,
          54155260,
          224810372,
          0,
          101468465.2,
          0,
          0,
          0,
          0,
          0,
          0,
          0,
          86886170.8,
          0,
          0,
          0,
          0,
          3222898.4,
          1471490874.4,
          0,
          17224014.400000002,
          0,
          3222898.4,
          0,
          0,
          0,
          0,
          0,
          686847.2000000001,
          0,
          1241608.4000000001,
          7925160,
          0,
          0,
          0,
          290589.2,
          3962580,
          2324713.6,
          0,
          0,
          0,
          0,
          845350.4,
          0,
          0,
          0,
          0,
          38727615.2,
          0,
          78300580.8,
          0,
          4570175.600000001,
          0,
          0,
          0,
          0,
          0,
          14899300.8,
          0,
          0,
          0,
          0,
          0,
          0,
          0,
          0,
          0,
          52834.4,
          0,
          2034124.4000000001,
          2800223.2,
          0,
          0,
          191656786,
          0,
          24066069.2,
          0,
          177523584,
          56796980,
          0,
          0,
          0,
          0,
          0,
          0,
          0,
          0,
          0,
          0,
          17488186.400000002,
          20631833.2,
          0,
          220293030.8,
          0,
          551485467.2,
          0,
          0,
          0,
          31198713.200000003,
          52834.4,
          2509634,
          0,
          0,
          0,
          0,
          0,
          7713822.4,
          12997262.4,
          0,
          0,
          49135992,
          0,
          475509.60000000003,
          493156289.6,
          22507454.400000002,
          21926276,
          0,
          0,
          0,
          0,
          396258
         ]
        }
       ],
       "layout": {
        "coloraxis": {
         "colorbar": {
          "title": {
           "text": "Total Wine Production (Gallons)"
          }
         },
         "colorscale": [
          [
           0,
           "rgb(255,247,236)"
          ],
          [
           0.125,
           "rgb(254,232,200)"
          ],
          [
           0.25,
           "rgb(253,212,158)"
          ],
          [
           0.375,
           "rgb(253,187,132)"
          ],
          [
           0.5,
           "rgb(252,141,89)"
          ],
          [
           0.625,
           "rgb(239,101,72)"
          ],
          [
           0.75,
           "rgb(215,48,31)"
          ],
          [
           0.875,
           "rgb(179,0,0)"
          ],
          [
           1,
           "rgb(127,0,0)"
          ]
         ]
        },
        "geo": {
         "center": {},
         "domain": {
          "x": [
           0,
           1
          ],
          "y": [
           0,
           1
          ]
         },
         "projection": {
          "type": "equirectangular"
         },
         "showcoastlines": false,
         "showframe": false
        },
        "legend": {
         "tracegroupgap": 0
        },
        "margin": {
         "b": 0,
         "l": 0,
         "r": 0,
         "t": 30
        },
        "template": {
         "data": {
          "bar": [
           {
            "error_x": {
             "color": "#2a3f5f"
            },
            "error_y": {
             "color": "#2a3f5f"
            },
            "marker": {
             "line": {
              "color": "#E5ECF6",
              "width": 0.5
             },
             "pattern": {
              "fillmode": "overlay",
              "size": 10,
              "solidity": 0.2
             }
            },
            "type": "bar"
           }
          ],
          "barpolar": [
           {
            "marker": {
             "line": {
              "color": "#E5ECF6",
              "width": 0.5
             },
             "pattern": {
              "fillmode": "overlay",
              "size": 10,
              "solidity": 0.2
             }
            },
            "type": "barpolar"
           }
          ],
          "carpet": [
           {
            "aaxis": {
             "endlinecolor": "#2a3f5f",
             "gridcolor": "white",
             "linecolor": "white",
             "minorgridcolor": "white",
             "startlinecolor": "#2a3f5f"
            },
            "baxis": {
             "endlinecolor": "#2a3f5f",
             "gridcolor": "white",
             "linecolor": "white",
             "minorgridcolor": "white",
             "startlinecolor": "#2a3f5f"
            },
            "type": "carpet"
           }
          ],
          "choropleth": [
           {
            "colorbar": {
             "outlinewidth": 0,
             "ticks": ""
            },
            "type": "choropleth"
           }
          ],
          "contour": [
           {
            "colorbar": {
             "outlinewidth": 0,
             "ticks": ""
            },
            "colorscale": [
             [
              0,
              "#0d0887"
             ],
             [
              0.1111111111111111,
              "#46039f"
             ],
             [
              0.2222222222222222,
              "#7201a8"
             ],
             [
              0.3333333333333333,
              "#9c179e"
             ],
             [
              0.4444444444444444,
              "#bd3786"
             ],
             [
              0.5555555555555556,
              "#d8576b"
             ],
             [
              0.6666666666666666,
              "#ed7953"
             ],
             [
              0.7777777777777778,
              "#fb9f3a"
             ],
             [
              0.8888888888888888,
              "#fdca26"
             ],
             [
              1,
              "#f0f921"
             ]
            ],
            "type": "contour"
           }
          ],
          "contourcarpet": [
           {
            "colorbar": {
             "outlinewidth": 0,
             "ticks": ""
            },
            "type": "contourcarpet"
           }
          ],
          "heatmap": [
           {
            "colorbar": {
             "outlinewidth": 0,
             "ticks": ""
            },
            "colorscale": [
             [
              0,
              "#0d0887"
             ],
             [
              0.1111111111111111,
              "#46039f"
             ],
             [
              0.2222222222222222,
              "#7201a8"
             ],
             [
              0.3333333333333333,
              "#9c179e"
             ],
             [
              0.4444444444444444,
              "#bd3786"
             ],
             [
              0.5555555555555556,
              "#d8576b"
             ],
             [
              0.6666666666666666,
              "#ed7953"
             ],
             [
              0.7777777777777778,
              "#fb9f3a"
             ],
             [
              0.8888888888888888,
              "#fdca26"
             ],
             [
              1,
              "#f0f921"
             ]
            ],
            "type": "heatmap"
           }
          ],
          "heatmapgl": [
           {
            "colorbar": {
             "outlinewidth": 0,
             "ticks": ""
            },
            "colorscale": [
             [
              0,
              "#0d0887"
             ],
             [
              0.1111111111111111,
              "#46039f"
             ],
             [
              0.2222222222222222,
              "#7201a8"
             ],
             [
              0.3333333333333333,
              "#9c179e"
             ],
             [
              0.4444444444444444,
              "#bd3786"
             ],
             [
              0.5555555555555556,
              "#d8576b"
             ],
             [
              0.6666666666666666,
              "#ed7953"
             ],
             [
              0.7777777777777778,
              "#fb9f3a"
             ],
             [
              0.8888888888888888,
              "#fdca26"
             ],
             [
              1,
              "#f0f921"
             ]
            ],
            "type": "heatmapgl"
           }
          ],
          "histogram": [
           {
            "marker": {
             "pattern": {
              "fillmode": "overlay",
              "size": 10,
              "solidity": 0.2
             }
            },
            "type": "histogram"
           }
          ],
          "histogram2d": [
           {
            "colorbar": {
             "outlinewidth": 0,
             "ticks": ""
            },
            "colorscale": [
             [
              0,
              "#0d0887"
             ],
             [
              0.1111111111111111,
              "#46039f"
             ],
             [
              0.2222222222222222,
              "#7201a8"
             ],
             [
              0.3333333333333333,
              "#9c179e"
             ],
             [
              0.4444444444444444,
              "#bd3786"
             ],
             [
              0.5555555555555556,
              "#d8576b"
             ],
             [
              0.6666666666666666,
              "#ed7953"
             ],
             [
              0.7777777777777778,
              "#fb9f3a"
             ],
             [
              0.8888888888888888,
              "#fdca26"
             ],
             [
              1,
              "#f0f921"
             ]
            ],
            "type": "histogram2d"
           }
          ],
          "histogram2dcontour": [
           {
            "colorbar": {
             "outlinewidth": 0,
             "ticks": ""
            },
            "colorscale": [
             [
              0,
              "#0d0887"
             ],
             [
              0.1111111111111111,
              "#46039f"
             ],
             [
              0.2222222222222222,
              "#7201a8"
             ],
             [
              0.3333333333333333,
              "#9c179e"
             ],
             [
              0.4444444444444444,
              "#bd3786"
             ],
             [
              0.5555555555555556,
              "#d8576b"
             ],
             [
              0.6666666666666666,
              "#ed7953"
             ],
             [
              0.7777777777777778,
              "#fb9f3a"
             ],
             [
              0.8888888888888888,
              "#fdca26"
             ],
             [
              1,
              "#f0f921"
             ]
            ],
            "type": "histogram2dcontour"
           }
          ],
          "mesh3d": [
           {
            "colorbar": {
             "outlinewidth": 0,
             "ticks": ""
            },
            "type": "mesh3d"
           }
          ],
          "parcoords": [
           {
            "line": {
             "colorbar": {
              "outlinewidth": 0,
              "ticks": ""
             }
            },
            "type": "parcoords"
           }
          ],
          "pie": [
           {
            "automargin": true,
            "type": "pie"
           }
          ],
          "scatter": [
           {
            "fillpattern": {
             "fillmode": "overlay",
             "size": 10,
             "solidity": 0.2
            },
            "type": "scatter"
           }
          ],
          "scatter3d": [
           {
            "line": {
             "colorbar": {
              "outlinewidth": 0,
              "ticks": ""
             }
            },
            "marker": {
             "colorbar": {
              "outlinewidth": 0,
              "ticks": ""
             }
            },
            "type": "scatter3d"
           }
          ],
          "scattercarpet": [
           {
            "marker": {
             "colorbar": {
              "outlinewidth": 0,
              "ticks": ""
             }
            },
            "type": "scattercarpet"
           }
          ],
          "scattergeo": [
           {
            "marker": {
             "colorbar": {
              "outlinewidth": 0,
              "ticks": ""
             }
            },
            "type": "scattergeo"
           }
          ],
          "scattergl": [
           {
            "marker": {
             "colorbar": {
              "outlinewidth": 0,
              "ticks": ""
             }
            },
            "type": "scattergl"
           }
          ],
          "scattermapbox": [
           {
            "marker": {
             "colorbar": {
              "outlinewidth": 0,
              "ticks": ""
             }
            },
            "type": "scattermapbox"
           }
          ],
          "scatterpolar": [
           {
            "marker": {
             "colorbar": {
              "outlinewidth": 0,
              "ticks": ""
             }
            },
            "type": "scatterpolar"
           }
          ],
          "scatterpolargl": [
           {
            "marker": {
             "colorbar": {
              "outlinewidth": 0,
              "ticks": ""
             }
            },
            "type": "scatterpolargl"
           }
          ],
          "scatterternary": [
           {
            "marker": {
             "colorbar": {
              "outlinewidth": 0,
              "ticks": ""
             }
            },
            "type": "scatterternary"
           }
          ],
          "surface": [
           {
            "colorbar": {
             "outlinewidth": 0,
             "ticks": ""
            },
            "colorscale": [
             [
              0,
              "#0d0887"
             ],
             [
              0.1111111111111111,
              "#46039f"
             ],
             [
              0.2222222222222222,
              "#7201a8"
             ],
             [
              0.3333333333333333,
              "#9c179e"
             ],
             [
              0.4444444444444444,
              "#bd3786"
             ],
             [
              0.5555555555555556,
              "#d8576b"
             ],
             [
              0.6666666666666666,
              "#ed7953"
             ],
             [
              0.7777777777777778,
              "#fb9f3a"
             ],
             [
              0.8888888888888888,
              "#fdca26"
             ],
             [
              1,
              "#f0f921"
             ]
            ],
            "type": "surface"
           }
          ],
          "table": [
           {
            "cells": {
             "fill": {
              "color": "#EBF0F8"
             },
             "line": {
              "color": "white"
             }
            },
            "header": {
             "fill": {
              "color": "#C8D4E3"
             },
             "line": {
              "color": "white"
             }
            },
            "type": "table"
           }
          ]
         },
         "layout": {
          "annotationdefaults": {
           "arrowcolor": "#2a3f5f",
           "arrowhead": 0,
           "arrowwidth": 1
          },
          "autotypenumbers": "strict",
          "coloraxis": {
           "colorbar": {
            "outlinewidth": 0,
            "ticks": ""
           }
          },
          "colorscale": {
           "diverging": [
            [
             0,
             "#8e0152"
            ],
            [
             0.1,
             "#c51b7d"
            ],
            [
             0.2,
             "#de77ae"
            ],
            [
             0.3,
             "#f1b6da"
            ],
            [
             0.4,
             "#fde0ef"
            ],
            [
             0.5,
             "#f7f7f7"
            ],
            [
             0.6,
             "#e6f5d0"
            ],
            [
             0.7,
             "#b8e186"
            ],
            [
             0.8,
             "#7fbc41"
            ],
            [
             0.9,
             "#4d9221"
            ],
            [
             1,
             "#276419"
            ]
           ],
           "sequential": [
            [
             0,
             "#0d0887"
            ],
            [
             0.1111111111111111,
             "#46039f"
            ],
            [
             0.2222222222222222,
             "#7201a8"
            ],
            [
             0.3333333333333333,
             "#9c179e"
            ],
            [
             0.4444444444444444,
             "#bd3786"
            ],
            [
             0.5555555555555556,
             "#d8576b"
            ],
            [
             0.6666666666666666,
             "#ed7953"
            ],
            [
             0.7777777777777778,
             "#fb9f3a"
            ],
            [
             0.8888888888888888,
             "#fdca26"
            ],
            [
             1,
             "#f0f921"
            ]
           ],
           "sequentialminus": [
            [
             0,
             "#0d0887"
            ],
            [
             0.1111111111111111,
             "#46039f"
            ],
            [
             0.2222222222222222,
             "#7201a8"
            ],
            [
             0.3333333333333333,
             "#9c179e"
            ],
            [
             0.4444444444444444,
             "#bd3786"
            ],
            [
             0.5555555555555556,
             "#d8576b"
            ],
            [
             0.6666666666666666,
             "#ed7953"
            ],
            [
             0.7777777777777778,
             "#fb9f3a"
            ],
            [
             0.8888888888888888,
             "#fdca26"
            ],
            [
             1,
             "#f0f921"
            ]
           ]
          },
          "colorway": [
           "#636efa",
           "#EF553B",
           "#00cc96",
           "#ab63fa",
           "#FFA15A",
           "#19d3f3",
           "#FF6692",
           "#B6E880",
           "#FF97FF",
           "#FECB52"
          ],
          "font": {
           "color": "#2a3f5f"
          },
          "geo": {
           "bgcolor": "white",
           "lakecolor": "white",
           "landcolor": "#E5ECF6",
           "showlakes": true,
           "showland": true,
           "subunitcolor": "white"
          },
          "hoverlabel": {
           "align": "left"
          },
          "hovermode": "closest",
          "mapbox": {
           "style": "light"
          },
          "paper_bgcolor": "white",
          "plot_bgcolor": "#E5ECF6",
          "polar": {
           "angularaxis": {
            "gridcolor": "white",
            "linecolor": "white",
            "ticks": ""
           },
           "bgcolor": "#E5ECF6",
           "radialaxis": {
            "gridcolor": "white",
            "linecolor": "white",
            "ticks": ""
           }
          },
          "scene": {
           "xaxis": {
            "backgroundcolor": "#E5ECF6",
            "gridcolor": "white",
            "gridwidth": 2,
            "linecolor": "white",
            "showbackground": true,
            "ticks": "",
            "zerolinecolor": "white"
           },
           "yaxis": {
            "backgroundcolor": "#E5ECF6",
            "gridcolor": "white",
            "gridwidth": 2,
            "linecolor": "white",
            "showbackground": true,
            "ticks": "",
            "zerolinecolor": "white"
           },
           "zaxis": {
            "backgroundcolor": "#E5ECF6",
            "gridcolor": "white",
            "gridwidth": 2,
            "linecolor": "white",
            "showbackground": true,
            "ticks": "",
            "zerolinecolor": "white"
           }
          },
          "shapedefaults": {
           "line": {
            "color": "#2a3f5f"
           }
          },
          "ternary": {
           "aaxis": {
            "gridcolor": "white",
            "linecolor": "white",
            "ticks": ""
           },
           "baxis": {
            "gridcolor": "white",
            "linecolor": "white",
            "ticks": ""
           },
           "bgcolor": "#E5ECF6",
           "caxis": {
            "gridcolor": "white",
            "linecolor": "white",
            "ticks": ""
           }
          },
          "title": {
           "x": 0.05
          },
          "xaxis": {
           "automargin": true,
           "gridcolor": "white",
           "linecolor": "white",
           "ticks": "",
           "title": {
            "standoff": 15
           },
           "zerolinecolor": "white",
           "zerolinewidth": 2
          },
          "yaxis": {
           "automargin": true,
           "gridcolor": "white",
           "linecolor": "white",
           "ticks": "",
           "title": {
            "standoff": 15
           },
           "zerolinecolor": "white",
           "zerolinewidth": 2
          }
         }
        },
        "title": {
         "text": "Total Wine Production by Country in 1995"
        }
       }
      }
     },
     "metadata": {},
     "output_type": "display_data"
    }
   ],
   "source": [
    "# Filter the data to include only wine production records and for the year 1995\n",
    "wine_production_1995_df = wine_country_weather_data_final_df[(wine_country_weather_data_final_df['Variable'] == 'Production') & (wine_country_weather_data_final_df['Year'] == 1995)]\n",
    "\n",
    "# Group by Region/Country and sum the Quantity_gallons\n",
    "wine_production_1995_by_country = wine_production_1995_df.groupby('Region/Country')['Quantity_gallons'].sum().reset_index()\n",
    "\n",
    "# Create the choropleth map\n",
    "fig = px.choropleth(\n",
    "    wine_production_1995_by_country,\n",
    "    locations=\"Region/Country\",\n",
    "    locationmode=\"country names\",\n",
    "    color=\"Quantity_gallons\",\n",
    "    hover_name=\"Region/Country\",\n",
    "    color_continuous_scale=px.colors.sequential.OrRd,\n",
    "    labels={'Quantity_gallons': 'Total Wine Production (Gallons)'},\n",
    "    title='Total Wine Production by Country in 1995'\n",
    ")\n",
    "\n",
    "# Customize the layout\n",
    "fig.update_layout(\n",
    "    geo=dict(showframe=False, showcoastlines=False, projection_type='equirectangular'),\n",
    "    margin={\"r\":0,\"t\":30,\"l\":0,\"b\":0}\n",
    ")\n",
    "\n",
    "# Show the plot\n",
    "fig.show()"
   ]
  },
  {
   "cell_type": "markdown",
   "metadata": {},
   "source": [
    "Map of total wine production by country in 2023"
   ]
  },
  {
   "cell_type": "code",
   "execution_count": 47,
   "metadata": {},
   "outputs": [
    {
     "data": {
      "application/vnd.plotly.v1+json": {
       "config": {
        "plotlyServerURL": "https://plot.ly"
       },
       "data": [
        {
         "coloraxis": "coloraxis",
         "geo": "geo",
         "hovertemplate": "<b>%{hovertext}</b><br><br>Region/Country=%{location}<br>Total Wine Production (Gallons)=%{z}<extra></extra>",
         "hovertext": [
          "Argentina",
          "Armenia",
          "Australia",
          "Austria",
          "Belgium",
          "Brazil",
          "Bulgaria",
          "Chile",
          "China, mainland",
          "Croatia",
          "Cyprus",
          "Czech Republic",
          "France",
          "Georgia",
          "Germany",
          "Greece",
          "Hungary",
          "Italy",
          "Japan",
          "Luxemburg",
          "Malta",
          "Mexico",
          "Moldova",
          "New Zealand",
          "Portugal",
          "Romania",
          "Russia",
          "Slovakia",
          "Slovenia",
          "South Africa",
          "Spain",
          "Switzerland",
          "United States of America",
          "Uruguay"
         ],
         "locationmode": "country names",
         "locations": [
          "Argentina",
          "Armenia",
          "Australia",
          "Austria",
          "Belgium",
          "Brazil",
          "Bulgaria",
          "Chile",
          "China, mainland",
          "Croatia",
          "Cyprus",
          "Czech Republic",
          "France",
          "Georgia",
          "Germany",
          "Greece",
          "Hungary",
          "Italy",
          "Japan",
          "Luxemburg",
          "Malta",
          "Mexico",
          "Moldova",
          "New Zealand",
          "Portugal",
          "Romania",
          "Russia",
          "Slovakia",
          "Slovenia",
          "South Africa",
          "Spain",
          "Switzerland",
          "United States of America",
          "Uruguay"
         ],
         "name": "",
         "type": "choropleth",
         "z": [
          232814783.60000002,
          3724825.2,
          254661808,
          62397426.400000006,
          898184.8,
          94758496.4,
          22454620,
          291381716,
          83663272.4,
          11253727.200000001,
          2562468.4,
          12601004.4,
          1268791698.8,
          49268078,
          227082251.20000002,
          36112312.4,
          64246630.400000006,
          1011541005.2,
          19601562.400000002,
          2139793.2,
          317006.4,
          10593297.200000001,
          46969781.6,
          95286840.4,
          198683761.20000002,
          121254948,
          118824565.60000001,
          6709968.800000001,
          15269141.600000001,
          245838463.20000002,
          748293607.2,
          26681372,
          641620953.6,
          13287851.600000001
         ]
        }
       ],
       "layout": {
        "coloraxis": {
         "colorbar": {
          "title": {
           "text": "Total Wine Production (Gallons)"
          }
         },
         "colorscale": [
          [
           0,
           "rgb(255,247,236)"
          ],
          [
           0.125,
           "rgb(254,232,200)"
          ],
          [
           0.25,
           "rgb(253,212,158)"
          ],
          [
           0.375,
           "rgb(253,187,132)"
          ],
          [
           0.5,
           "rgb(252,141,89)"
          ],
          [
           0.625,
           "rgb(239,101,72)"
          ],
          [
           0.75,
           "rgb(215,48,31)"
          ],
          [
           0.875,
           "rgb(179,0,0)"
          ],
          [
           1,
           "rgb(127,0,0)"
          ]
         ]
        },
        "geo": {
         "center": {},
         "domain": {
          "x": [
           0,
           1
          ],
          "y": [
           0,
           1
          ]
         },
         "projection": {
          "type": "equirectangular"
         },
         "showcoastlines": false,
         "showframe": false
        },
        "legend": {
         "tracegroupgap": 0
        },
        "margin": {
         "b": 0,
         "l": 0,
         "r": 0,
         "t": 30
        },
        "template": {
         "data": {
          "bar": [
           {
            "error_x": {
             "color": "#2a3f5f"
            },
            "error_y": {
             "color": "#2a3f5f"
            },
            "marker": {
             "line": {
              "color": "#E5ECF6",
              "width": 0.5
             },
             "pattern": {
              "fillmode": "overlay",
              "size": 10,
              "solidity": 0.2
             }
            },
            "type": "bar"
           }
          ],
          "barpolar": [
           {
            "marker": {
             "line": {
              "color": "#E5ECF6",
              "width": 0.5
             },
             "pattern": {
              "fillmode": "overlay",
              "size": 10,
              "solidity": 0.2
             }
            },
            "type": "barpolar"
           }
          ],
          "carpet": [
           {
            "aaxis": {
             "endlinecolor": "#2a3f5f",
             "gridcolor": "white",
             "linecolor": "white",
             "minorgridcolor": "white",
             "startlinecolor": "#2a3f5f"
            },
            "baxis": {
             "endlinecolor": "#2a3f5f",
             "gridcolor": "white",
             "linecolor": "white",
             "minorgridcolor": "white",
             "startlinecolor": "#2a3f5f"
            },
            "type": "carpet"
           }
          ],
          "choropleth": [
           {
            "colorbar": {
             "outlinewidth": 0,
             "ticks": ""
            },
            "type": "choropleth"
           }
          ],
          "contour": [
           {
            "colorbar": {
             "outlinewidth": 0,
             "ticks": ""
            },
            "colorscale": [
             [
              0,
              "#0d0887"
             ],
             [
              0.1111111111111111,
              "#46039f"
             ],
             [
              0.2222222222222222,
              "#7201a8"
             ],
             [
              0.3333333333333333,
              "#9c179e"
             ],
             [
              0.4444444444444444,
              "#bd3786"
             ],
             [
              0.5555555555555556,
              "#d8576b"
             ],
             [
              0.6666666666666666,
              "#ed7953"
             ],
             [
              0.7777777777777778,
              "#fb9f3a"
             ],
             [
              0.8888888888888888,
              "#fdca26"
             ],
             [
              1,
              "#f0f921"
             ]
            ],
            "type": "contour"
           }
          ],
          "contourcarpet": [
           {
            "colorbar": {
             "outlinewidth": 0,
             "ticks": ""
            },
            "type": "contourcarpet"
           }
          ],
          "heatmap": [
           {
            "colorbar": {
             "outlinewidth": 0,
             "ticks": ""
            },
            "colorscale": [
             [
              0,
              "#0d0887"
             ],
             [
              0.1111111111111111,
              "#46039f"
             ],
             [
              0.2222222222222222,
              "#7201a8"
             ],
             [
              0.3333333333333333,
              "#9c179e"
             ],
             [
              0.4444444444444444,
              "#bd3786"
             ],
             [
              0.5555555555555556,
              "#d8576b"
             ],
             [
              0.6666666666666666,
              "#ed7953"
             ],
             [
              0.7777777777777778,
              "#fb9f3a"
             ],
             [
              0.8888888888888888,
              "#fdca26"
             ],
             [
              1,
              "#f0f921"
             ]
            ],
            "type": "heatmap"
           }
          ],
          "heatmapgl": [
           {
            "colorbar": {
             "outlinewidth": 0,
             "ticks": ""
            },
            "colorscale": [
             [
              0,
              "#0d0887"
             ],
             [
              0.1111111111111111,
              "#46039f"
             ],
             [
              0.2222222222222222,
              "#7201a8"
             ],
             [
              0.3333333333333333,
              "#9c179e"
             ],
             [
              0.4444444444444444,
              "#bd3786"
             ],
             [
              0.5555555555555556,
              "#d8576b"
             ],
             [
              0.6666666666666666,
              "#ed7953"
             ],
             [
              0.7777777777777778,
              "#fb9f3a"
             ],
             [
              0.8888888888888888,
              "#fdca26"
             ],
             [
              1,
              "#f0f921"
             ]
            ],
            "type": "heatmapgl"
           }
          ],
          "histogram": [
           {
            "marker": {
             "pattern": {
              "fillmode": "overlay",
              "size": 10,
              "solidity": 0.2
             }
            },
            "type": "histogram"
           }
          ],
          "histogram2d": [
           {
            "colorbar": {
             "outlinewidth": 0,
             "ticks": ""
            },
            "colorscale": [
             [
              0,
              "#0d0887"
             ],
             [
              0.1111111111111111,
              "#46039f"
             ],
             [
              0.2222222222222222,
              "#7201a8"
             ],
             [
              0.3333333333333333,
              "#9c179e"
             ],
             [
              0.4444444444444444,
              "#bd3786"
             ],
             [
              0.5555555555555556,
              "#d8576b"
             ],
             [
              0.6666666666666666,
              "#ed7953"
             ],
             [
              0.7777777777777778,
              "#fb9f3a"
             ],
             [
              0.8888888888888888,
              "#fdca26"
             ],
             [
              1,
              "#f0f921"
             ]
            ],
            "type": "histogram2d"
           }
          ],
          "histogram2dcontour": [
           {
            "colorbar": {
             "outlinewidth": 0,
             "ticks": ""
            },
            "colorscale": [
             [
              0,
              "#0d0887"
             ],
             [
              0.1111111111111111,
              "#46039f"
             ],
             [
              0.2222222222222222,
              "#7201a8"
             ],
             [
              0.3333333333333333,
              "#9c179e"
             ],
             [
              0.4444444444444444,
              "#bd3786"
             ],
             [
              0.5555555555555556,
              "#d8576b"
             ],
             [
              0.6666666666666666,
              "#ed7953"
             ],
             [
              0.7777777777777778,
              "#fb9f3a"
             ],
             [
              0.8888888888888888,
              "#fdca26"
             ],
             [
              1,
              "#f0f921"
             ]
            ],
            "type": "histogram2dcontour"
           }
          ],
          "mesh3d": [
           {
            "colorbar": {
             "outlinewidth": 0,
             "ticks": ""
            },
            "type": "mesh3d"
           }
          ],
          "parcoords": [
           {
            "line": {
             "colorbar": {
              "outlinewidth": 0,
              "ticks": ""
             }
            },
            "type": "parcoords"
           }
          ],
          "pie": [
           {
            "automargin": true,
            "type": "pie"
           }
          ],
          "scatter": [
           {
            "fillpattern": {
             "fillmode": "overlay",
             "size": 10,
             "solidity": 0.2
            },
            "type": "scatter"
           }
          ],
          "scatter3d": [
           {
            "line": {
             "colorbar": {
              "outlinewidth": 0,
              "ticks": ""
             }
            },
            "marker": {
             "colorbar": {
              "outlinewidth": 0,
              "ticks": ""
             }
            },
            "type": "scatter3d"
           }
          ],
          "scattercarpet": [
           {
            "marker": {
             "colorbar": {
              "outlinewidth": 0,
              "ticks": ""
             }
            },
            "type": "scattercarpet"
           }
          ],
          "scattergeo": [
           {
            "marker": {
             "colorbar": {
              "outlinewidth": 0,
              "ticks": ""
             }
            },
            "type": "scattergeo"
           }
          ],
          "scattergl": [
           {
            "marker": {
             "colorbar": {
              "outlinewidth": 0,
              "ticks": ""
             }
            },
            "type": "scattergl"
           }
          ],
          "scattermapbox": [
           {
            "marker": {
             "colorbar": {
              "outlinewidth": 0,
              "ticks": ""
             }
            },
            "type": "scattermapbox"
           }
          ],
          "scatterpolar": [
           {
            "marker": {
             "colorbar": {
              "outlinewidth": 0,
              "ticks": ""
             }
            },
            "type": "scatterpolar"
           }
          ],
          "scatterpolargl": [
           {
            "marker": {
             "colorbar": {
              "outlinewidth": 0,
              "ticks": ""
             }
            },
            "type": "scatterpolargl"
           }
          ],
          "scatterternary": [
           {
            "marker": {
             "colorbar": {
              "outlinewidth": 0,
              "ticks": ""
             }
            },
            "type": "scatterternary"
           }
          ],
          "surface": [
           {
            "colorbar": {
             "outlinewidth": 0,
             "ticks": ""
            },
            "colorscale": [
             [
              0,
              "#0d0887"
             ],
             [
              0.1111111111111111,
              "#46039f"
             ],
             [
              0.2222222222222222,
              "#7201a8"
             ],
             [
              0.3333333333333333,
              "#9c179e"
             ],
             [
              0.4444444444444444,
              "#bd3786"
             ],
             [
              0.5555555555555556,
              "#d8576b"
             ],
             [
              0.6666666666666666,
              "#ed7953"
             ],
             [
              0.7777777777777778,
              "#fb9f3a"
             ],
             [
              0.8888888888888888,
              "#fdca26"
             ],
             [
              1,
              "#f0f921"
             ]
            ],
            "type": "surface"
           }
          ],
          "table": [
           {
            "cells": {
             "fill": {
              "color": "#EBF0F8"
             },
             "line": {
              "color": "white"
             }
            },
            "header": {
             "fill": {
              "color": "#C8D4E3"
             },
             "line": {
              "color": "white"
             }
            },
            "type": "table"
           }
          ]
         },
         "layout": {
          "annotationdefaults": {
           "arrowcolor": "#2a3f5f",
           "arrowhead": 0,
           "arrowwidth": 1
          },
          "autotypenumbers": "strict",
          "coloraxis": {
           "colorbar": {
            "outlinewidth": 0,
            "ticks": ""
           }
          },
          "colorscale": {
           "diverging": [
            [
             0,
             "#8e0152"
            ],
            [
             0.1,
             "#c51b7d"
            ],
            [
             0.2,
             "#de77ae"
            ],
            [
             0.3,
             "#f1b6da"
            ],
            [
             0.4,
             "#fde0ef"
            ],
            [
             0.5,
             "#f7f7f7"
            ],
            [
             0.6,
             "#e6f5d0"
            ],
            [
             0.7,
             "#b8e186"
            ],
            [
             0.8,
             "#7fbc41"
            ],
            [
             0.9,
             "#4d9221"
            ],
            [
             1,
             "#276419"
            ]
           ],
           "sequential": [
            [
             0,
             "#0d0887"
            ],
            [
             0.1111111111111111,
             "#46039f"
            ],
            [
             0.2222222222222222,
             "#7201a8"
            ],
            [
             0.3333333333333333,
             "#9c179e"
            ],
            [
             0.4444444444444444,
             "#bd3786"
            ],
            [
             0.5555555555555556,
             "#d8576b"
            ],
            [
             0.6666666666666666,
             "#ed7953"
            ],
            [
             0.7777777777777778,
             "#fb9f3a"
            ],
            [
             0.8888888888888888,
             "#fdca26"
            ],
            [
             1,
             "#f0f921"
            ]
           ],
           "sequentialminus": [
            [
             0,
             "#0d0887"
            ],
            [
             0.1111111111111111,
             "#46039f"
            ],
            [
             0.2222222222222222,
             "#7201a8"
            ],
            [
             0.3333333333333333,
             "#9c179e"
            ],
            [
             0.4444444444444444,
             "#bd3786"
            ],
            [
             0.5555555555555556,
             "#d8576b"
            ],
            [
             0.6666666666666666,
             "#ed7953"
            ],
            [
             0.7777777777777778,
             "#fb9f3a"
            ],
            [
             0.8888888888888888,
             "#fdca26"
            ],
            [
             1,
             "#f0f921"
            ]
           ]
          },
          "colorway": [
           "#636efa",
           "#EF553B",
           "#00cc96",
           "#ab63fa",
           "#FFA15A",
           "#19d3f3",
           "#FF6692",
           "#B6E880",
           "#FF97FF",
           "#FECB52"
          ],
          "font": {
           "color": "#2a3f5f"
          },
          "geo": {
           "bgcolor": "white",
           "lakecolor": "white",
           "landcolor": "#E5ECF6",
           "showlakes": true,
           "showland": true,
           "subunitcolor": "white"
          },
          "hoverlabel": {
           "align": "left"
          },
          "hovermode": "closest",
          "mapbox": {
           "style": "light"
          },
          "paper_bgcolor": "white",
          "plot_bgcolor": "#E5ECF6",
          "polar": {
           "angularaxis": {
            "gridcolor": "white",
            "linecolor": "white",
            "ticks": ""
           },
           "bgcolor": "#E5ECF6",
           "radialaxis": {
            "gridcolor": "white",
            "linecolor": "white",
            "ticks": ""
           }
          },
          "scene": {
           "xaxis": {
            "backgroundcolor": "#E5ECF6",
            "gridcolor": "white",
            "gridwidth": 2,
            "linecolor": "white",
            "showbackground": true,
            "ticks": "",
            "zerolinecolor": "white"
           },
           "yaxis": {
            "backgroundcolor": "#E5ECF6",
            "gridcolor": "white",
            "gridwidth": 2,
            "linecolor": "white",
            "showbackground": true,
            "ticks": "",
            "zerolinecolor": "white"
           },
           "zaxis": {
            "backgroundcolor": "#E5ECF6",
            "gridcolor": "white",
            "gridwidth": 2,
            "linecolor": "white",
            "showbackground": true,
            "ticks": "",
            "zerolinecolor": "white"
           }
          },
          "shapedefaults": {
           "line": {
            "color": "#2a3f5f"
           }
          },
          "ternary": {
           "aaxis": {
            "gridcolor": "white",
            "linecolor": "white",
            "ticks": ""
           },
           "baxis": {
            "gridcolor": "white",
            "linecolor": "white",
            "ticks": ""
           },
           "bgcolor": "#E5ECF6",
           "caxis": {
            "gridcolor": "white",
            "linecolor": "white",
            "ticks": ""
           }
          },
          "title": {
           "x": 0.05
          },
          "xaxis": {
           "automargin": true,
           "gridcolor": "white",
           "linecolor": "white",
           "ticks": "",
           "title": {
            "standoff": 15
           },
           "zerolinecolor": "white",
           "zerolinewidth": 2
          },
          "yaxis": {
           "automargin": true,
           "gridcolor": "white",
           "linecolor": "white",
           "ticks": "",
           "title": {
            "standoff": 15
           },
           "zerolinecolor": "white",
           "zerolinewidth": 2
          }
         }
        },
        "title": {
         "text": "Total Wine Production by Country in 2023"
        }
       }
      }
     },
     "metadata": {},
     "output_type": "display_data"
    }
   ],
   "source": [
    "#  Filter the data to include only wine production records and for the year 2023\n",
    "wine_production_2023_df = wine_country_weather_data_final_df[(wine_country_weather_data_final_df['Variable'] == 'Production') & (wine_country_weather_data_final_df['Year'] == 2023)]\n",
    "\n",
    "# Group by Region/Country and sum the Quantity_gallons\n",
    "wine_production_2023_by_country = wine_production_2023_df.groupby('Region/Country')['Quantity_gallons'].sum().reset_index()\n",
    "\n",
    "# Create the choropleth map\n",
    "fig = px.choropleth(\n",
    "    wine_production_2023_by_country,\n",
    "    locations=\"Region/Country\",\n",
    "    locationmode=\"country names\",\n",
    "    color=\"Quantity_gallons\",\n",
    "    hover_name=\"Region/Country\",\n",
    "    color_continuous_scale=px.colors.sequential.OrRd,\n",
    "    labels={'Quantity_gallons': 'Total Wine Production (Gallons)'},\n",
    "    title='Total Wine Production by Country in 2023'\n",
    ")\n",
    "\n",
    "# Customize the layout\n",
    "fig.update_layout(\n",
    "    geo=dict(showframe=False, showcoastlines=False, projection_type='equirectangular'),\n",
    "    margin={\"r\":0,\"t\":30,\"l\":0,\"b\":0}\n",
    ")\n",
    "\n",
    "# Show the plot\n",
    "fig.show()"
   ]
  },
  {
   "cell_type": "markdown",
   "metadata": {},
   "source": [
    "Which were the top wine producing countries from year 1995?\n"
   ]
  },
  {
   "cell_type": "code",
   "execution_count": 48,
   "metadata": {},
   "outputs": [
    {
     "data": {
      "image/png": "[encoded data removed]",
      "text/plain": [
       "<Figure size 1200x800 with 1 Axes>"
      ]
     },
     "metadata": {},
     "output_type": "display_data"
    }
   ],
   "source": [
    "# Filter the data to include only wine production records and for the year 1995\n",
    "wine_production_df = wine_country_weather_data_final_df[(wine_country_weather_data_final_df['Variable'] == 'Production') & (wine_country_weather_data_final_df['Year'] == 1995)]\n",
    "\n",
    "# Group by Region/Country and sum the Quantity_gallons\n",
    "wine_production_by_region = wine_production_df.groupby('Region/Country')['Quantity_gallons'].sum().reset_index()\n",
    "\n",
    "# Convert the Quantity_gallons to millions\n",
    "wine_production_by_region['Quantity_gallons_million'] = wine_production_by_region['Quantity_gallons'] / 1e6\n",
    "\n",
    "# Sort the values in descending order and get the top 10\n",
    "top_10_wine_producing_regions = wine_production_by_region.sort_values(by='Quantity_gallons_million', ascending=False).head(10)\n",
    "\n",
    "# Define a function to format the y-axis values with thousand commas\n",
    "def millions_formatter(x, pos):\n",
    "    return f'{x:,.0f}'\n",
    "\n",
    "# Create the bar chart\n",
    "plt.figure(figsize=(12, 8))\n",
    "plt.bar(top_10_wine_producing_regions['Region/Country'], top_10_wine_producing_regions['Quantity_gallons_million'], color='darkblue')\n",
    "plt.xlabel('Region/Country')\n",
    "plt.ylabel('Total Wine Production (Million Gallons)')\n",
    "plt.title('Top 10 Wine Producing Regions/Countries in 1995')\n",
    "plt.xticks(rotation=45, ha='right')  # Rotate the x labels for better readability\n",
    "plt.gca().yaxis.set_major_formatter(FuncFormatter(millions_formatter))\n",
    "plt.tight_layout()  # Adjust layout to make room for rotated x labels\n",
    "plt.show()"
   ]
  },
  {
   "cell_type": "markdown",
   "metadata": {},
   "source": [
    "Which were the top wine producing countries from year 2023?\n"
   ]
  },
  {
   "cell_type": "code",
   "execution_count": 49,
   "metadata": {},
   "outputs": [
    {
     "data": {
      "image/png": "[encoded data removed]",
      "text/plain": [
       "<Figure size 1200x800 with 2 Axes>"
      ]
     },
     "metadata": {},
     "output_type": "display_data"
    }
   ],
   "source": [
    "# Filter the data to include only wine production records and for the year 1995\n",
    "wine_production_df_1995 = wine_country_weather_data_final_df[(wine_country_weather_data_final_df['Variable'] == 'Production') & (wine_country_weather_data_final_df['Year'] == 1995)]\n",
    "\n",
    "# Filter the data to include only wine production records and for the year 2023\n",
    "wine_production_df_2023 = wine_country_weather_data_final_df[(wine_country_weather_data_final_df['Variable'] == 'Production') & (wine_country_weather_data_final_df['Year'] == 2023)]\n",
    "\n",
    "# Group by Region/Country and sum the Quantity_gallons for 1995 and 2023\n",
    "wine_production_by_region_1995 = wine_production_df_1995.groupby('Region/Country')['Quantity_gallons'].sum().reset_index()\n",
    "wine_production_by_region_2023 = wine_production_df_2023.groupby('Region/Country')['Quantity_gallons'].sum().reset_index()\n",
    "\n",
    "# Merge the two dataframes on Region/Country\n",
    "wine_production_comparison = pd.merge(wine_production_by_region_1995, wine_production_by_region_2023, on='Region/Country', suffixes=('_1995', '_2023'))\n",
    "\n",
    "# Calculate the percentage change\n",
    "wine_production_comparison['Percentage_change'] = ((wine_production_comparison['Quantity_gallons_2023'] - wine_production_comparison['Quantity_gallons_1995']) / wine_production_comparison['Quantity_gallons_1995']) * 100\n",
    "\n",
    "# Convert the Quantity_gallons_2023 to millions for plotting\n",
    "wine_production_comparison['Quantity_gallons_2023_million'] = wine_production_comparison['Quantity_gallons_2023'] / 1e6\n",
    "\n",
    "# Sort the values in descending order and get the top 10\n",
    "top_10_wine_producing_regions = wine_production_comparison.sort_values(by='Quantity_gallons_2023_million', ascending=False).head(10)\n",
    "\n",
    "# Define a function to format the y-axis values with thousand commas\n",
    "def millions_formatter(x, pos):\n",
    "    return f'{x:,.0f}'\n",
    "\n",
    "# Define a function to format the percentage change values with one decimal place\n",
    "def percentage_formatter(x, pos):\n",
    "    return f'{x:,.1f}%'\n",
    "\n",
    "# Create the bar chart\n",
    "fig, ax1 = plt.subplots(figsize=(12, 8))\n",
    "\n",
    "ax1.bar(top_10_wine_producing_regions['Region/Country'], top_10_wine_producing_regions['Quantity_gallons_2023_million'], color='darkblue')\n",
    "ax1.set_xlabel('Region/Country')\n",
    "ax1.set_ylabel('Total Wine Production (Million Gallons)')\n",
    "ax1.set_title('Top 10 Wine Producing Regions/Countries in 2023 (blue)')\n",
    "ax1.yaxis.set_major_formatter(FuncFormatter(millions_formatter))\n",
    "ax1.tick_params(axis='x', rotation=45)\n",
    "\n",
    "# Create the secondary axis\n",
    "ax2 = ax1.twinx()\n",
    "ax2.plot(top_10_wine_producing_regions['Region/Country'], top_10_wine_producing_regions['Percentage_change'], color='red', marker='o', linestyle='--')\n",
    "ax2.set_ylabel('% Change in Production (2023 vs 1995)(red)')\n",
    "ax2.yaxis.set_major_formatter(FuncFormatter(percentage_formatter))\n",
    "\n",
    "# Add data labels to the line graph\n",
    "for i, txt in enumerate(top_10_wine_producing_regions['Percentage_change']):\n",
    "    label = f'{txt:.1f}%' if txt >= 0 else f'({-txt:.1f}%)'\n",
    "    ax2.annotate(label, (top_10_wine_producing_regions['Region/Country'].iloc[i], top_10_wine_producing_regions['Percentage_change'].iloc[i]), \n",
    "                 textcoords=\"offset points\", xytext=(0,10), ha='center', fontsize=9, color='red', fontweight='bold')\n",
    "\n",
    "plt.tight_layout()  # Adjust layout to make room for rotated x labels\n",
    "plt.show()"
   ]
  },
  {
   "cell_type": "markdown",
   "metadata": {},
   "source": [
    "Read the Weather CSV \"weather_datatype_separated.csv\". This has the country names fixed to match with FIPS 10 country code."
   ]
  },
  {
   "cell_type": "code",
   "execution_count": 50,
   "metadata": {},
   "outputs": [],
   "source": [
    "# Read weather data from NOAA\n",
    "weather_all_stations_df = pd.read_csv(\"Resources/weather_datatype_separated.csv\")\n",
    "\n",
    "# Convert date to proper date time format.\n",
    "# this will allow us to use date calculations\n",
    "weather_all_stations_df['date'] = pd.to_datetime(weather_all_stations_df['date'])\n",
    "\n",
    "# Separate out just the year\n",
    "weather_all_stations_df['Year'] = weather_all_stations_df['date'].dt.year"
   ]
  },
  {
   "cell_type": "markdown",
   "metadata": {},
   "source": [
    "Combine multiple weather stations in each country by averaging the relevant data"
   ]
  },
  {
   "cell_type": "code",
   "execution_count": 51,
   "metadata": {},
   "outputs": [
    {
     "data": {
      "text/plain": [
       "country  Year\n",
       "AE       1996    339.0\n",
       "         2006    335.0\n",
       "         2007    330.0\n",
       "         2008    335.5\n",
       "         2009    332.5\n",
       "                 ...  \n",
       "WA       2006    348.0\n",
       "         2008    353.0\n",
       "         2012    347.0\n",
       "         2017    337.0\n",
       "         2022    344.5\n",
       "Name: DX70, Length: 1831, dtype: float64"
      ]
     },
     "execution_count": 51,
     "metadata": {},
     "output_type": "execute_result"
    }
   ],
   "source": [
    "# Get the DX70 data\n",
    "\n",
    "dx70_df = weather_all_stations_df[(weather_all_stations_df['DX70'].notna())]\n",
    "dx70_average = dx70_df.groupby(['country', 'Year'])['DX70'].mean()\n",
    "dx70_average"
   ]
  },
  {
   "cell_type": "code",
   "execution_count": 52,
   "metadata": {},
   "outputs": [
    {
     "data": {
      "text/plain": [
       "country  Year\n",
       "AE       1996    218.0\n",
       "         2006    231.0\n",
       "         2007    183.0\n",
       "         2008    228.5\n",
       "         2009    210.0\n",
       "                 ...  \n",
       "WA       2006     50.0\n",
       "         2008     69.0\n",
       "         2012    109.0\n",
       "         2017     91.0\n",
       "         2022    107.5\n",
       "Name: DX90, Length: 1831, dtype: float64"
      ]
     },
     "execution_count": 52,
     "metadata": {},
     "output_type": "execute_result"
    }
   ],
   "source": [
    "# Get the DX90 data\n",
    "\n",
    "dx90_df = weather_all_stations_df[(weather_all_stations_df['DX90'].notna())]\n",
    "dx90_average = dx90_df.groupby(['country', 'Year'])['DX90'].mean()\n",
    "dx90_average"
   ]
  },
  {
   "cell_type": "code",
   "execution_count": 53,
   "metadata": {},
   "outputs": [
    {
     "data": {
      "text/plain": [
       "country  Year\n",
       "AE       1996    96.70\n",
       "         2006    97.20\n",
       "         2007    91.00\n",
       "         2008    93.95\n",
       "         2009    94.70\n",
       "Name: TMAX, dtype: float64"
      ]
     },
     "execution_count": 53,
     "metadata": {},
     "output_type": "execute_result"
    }
   ],
   "source": [
    "# Get the TMAX data\n",
    "\n",
    "tmax_df = weather_all_stations_df[(weather_all_stations_df['TMAX'].notna())]\n",
    "tmax_average = tmax_df.groupby(['country', 'Year'])['TMAX'].mean()\n",
    "tmax_average.head()"
   ]
  },
  {
   "cell_type": "code",
   "execution_count": 54,
   "metadata": {},
   "outputs": [
    {
     "data": {
      "text/plain": [
       "country  Year\n",
       "AF       1995    47.8\n",
       "         1996    49.3\n",
       "         1997    53.7\n",
       "         1998    51.1\n",
       "         1999    50.6\n",
       "Name: TAVG, dtype: float64"
      ]
     },
     "execution_count": 54,
     "metadata": {},
     "output_type": "execute_result"
    }
   ],
   "source": [
    "# Get the TAVG data\n",
    "\n",
    "tavg_df = weather_all_stations_df[(weather_all_stations_df['TAVG'].notna())]\n",
    "tavg_average = tavg_df.groupby(['country', 'Year'])['TAVG'].mean()\n",
    "tavg_average.head()"
   ]
  },
  {
   "cell_type": "code",
   "execution_count": 55,
   "metadata": {},
   "outputs": [
    {
     "data": {
      "text/plain": [
       "country  Year\n",
       "AE       1996    119.0\n",
       "         2006    118.0\n",
       "         2007    110.0\n",
       "         2008    117.0\n",
       "         2009    120.5\n",
       "                 ...  \n",
       "WA       2006     99.0\n",
       "         2008     97.0\n",
       "         2012    105.0\n",
       "         2017     96.0\n",
       "         2022     98.5\n",
       "Name: EMXT, Length: 1831, dtype: float64"
      ]
     },
     "execution_count": 55,
     "metadata": {},
     "output_type": "execute_result"
    }
   ],
   "source": [
    "# Get the EMXT data\n",
    "\n",
    "emxt_df = weather_all_stations_df[(weather_all_stations_df['EMXT'].notna())]\n",
    "emxt_average = emxt_df.groupby(['country', 'Year'])['EMXT'].mean()\n",
    "emxt_average"
   ]
  },
  {
   "cell_type": "code",
   "execution_count": 56,
   "metadata": {},
   "outputs": [
    {
     "data": {
      "text/plain": [
       "country  Year\n",
       "AF       1995   -10.000000\n",
       "         1996    -7.000000\n",
       "         1997    10.000000\n",
       "         1998    -2.000000\n",
       "         1999    12.000000\n",
       "                   ...    \n",
       "WA       2000    32.500000\n",
       "         2001    29.500000\n",
       "         2002    31.500000\n",
       "         2003    34.333333\n",
       "         2008    38.000000\n",
       "Name: EMNT, Length: 1513, dtype: float64"
      ]
     },
     "execution_count": 56,
     "metadata": {},
     "output_type": "execute_result"
    }
   ],
   "source": [
    "# Get the EMNT data\n",
    "\n",
    "emnt_df = weather_all_stations_df[(weather_all_stations_df['EMNT'].notna())]\n",
    "emnt_average = emnt_df.groupby(['country', 'Year'])['EMNT'].mean()\n",
    "emnt_average"
   ]
  },
  {
   "cell_type": "code",
   "execution_count": 57,
   "metadata": {},
   "outputs": [
    {
     "data": {
      "text/plain": [
       "country  Year\n",
       "AE       2004     2.3100\n",
       "         2006     4.0800\n",
       "         2010     4.8300\n",
       "         2011     1.0100\n",
       "         2012     2.0600\n",
       "                  ...   \n",
       "WA       1999    10.3150\n",
       "         2000    13.1000\n",
       "         2001    11.0625\n",
       "         2002     9.1550\n",
       "         2003     6.6825\n",
       "Name: PRCP, Length: 1687, dtype: float64"
      ]
     },
     "execution_count": 57,
     "metadata": {},
     "output_type": "execute_result"
    }
   ],
   "source": [
    "# Get the PRCP data\n",
    "\n",
    "prcp_df = weather_all_stations_df[(weather_all_stations_df['PRCP'].notna())]\n",
    "prcp_average = prcp_df.groupby(['country', 'Year'])['PRCP'].mean()\n",
    "prcp_average"
   ]
  },
  {
   "cell_type": "code",
   "execution_count": 58,
   "metadata": {},
   "outputs": [
    {
     "data": {
      "text/plain": [
       "country  Year\n",
       "AE       2004    0.9000\n",
       "         2006    1.7700\n",
       "         2010    3.1500\n",
       "         2011    0.6300\n",
       "         2012    1.6600\n",
       "                  ...  \n",
       "WA       1999    1.2200\n",
       "         2000    1.8525\n",
       "         2001    1.7800\n",
       "         2002    1.4650\n",
       "         2003    0.7575\n",
       "Name: EMXP, Length: 1687, dtype: float64"
      ]
     },
     "execution_count": 58,
     "metadata": {},
     "output_type": "execute_result"
    }
   ],
   "source": [
    "# Get the EMXP data\n",
    "\n",
    "emxp_df = weather_all_stations_df[(weather_all_stations_df['EMXP'].notna())]\n",
    "emxp_average = emxp_df.groupby(['country', 'Year'])['EMXP'].mean()\n",
    "emxp_average"
   ]
  },
  {
   "cell_type": "markdown",
   "metadata": {},
   "source": [
    "Combine the grouped series into a dataframe"
   ]
  },
  {
   "cell_type": "code",
   "execution_count": 59,
   "metadata": {},
   "outputs": [
    {
     "data": {
      "text/html": [
       "<div>\n",
       "<style scoped>\n",
       "    .dataframe tbody tr th:only-of-type {\n",
       "        vertical-align: middle;\n",
       "    }\n",
       "\n",
       "    .dataframe tbody tr th {\n",
       "        vertical-align: top;\n",
       "    }\n",
       "\n",
       "    .dataframe thead th {\n",
       "        text-align: right;\n",
       "    }\n",
       "</style>\n",
       "<table border=\"1\" class=\"dataframe\">\n",
       "  <thead>\n",
       "    <tr style=\"text-align: right;\">\n",
       "      <th></th>\n",
       "      <th>country</th>\n",
       "      <th>Year</th>\n",
       "      <th>DX70</th>\n",
       "      <th>DX90</th>\n",
       "      <th>TMAX</th>\n",
       "      <th>TAVG</th>\n",
       "      <th>EMXT</th>\n",
       "      <th>EMNT</th>\n",
       "      <th>PRCP</th>\n",
       "      <th>EMXP</th>\n",
       "    </tr>\n",
       "  </thead>\n",
       "  <tbody>\n",
       "    <tr>\n",
       "      <th>0</th>\n",
       "      <td>AE</td>\n",
       "      <td>1996</td>\n",
       "      <td>339.000000</td>\n",
       "      <td>218.000000</td>\n",
       "      <td>96.700000</td>\n",
       "      <td>NaN</td>\n",
       "      <td>119.000000</td>\n",
       "      <td>NaN</td>\n",
       "      <td>NaN</td>\n",
       "      <td>NaN</td>\n",
       "    </tr>\n",
       "    <tr>\n",
       "      <th>1</th>\n",
       "      <td>AE</td>\n",
       "      <td>2004</td>\n",
       "      <td>NaN</td>\n",
       "      <td>NaN</td>\n",
       "      <td>NaN</td>\n",
       "      <td>NaN</td>\n",
       "      <td>NaN</td>\n",
       "      <td>NaN</td>\n",
       "      <td>2.310000</td>\n",
       "      <td>0.900000</td>\n",
       "    </tr>\n",
       "    <tr>\n",
       "      <th>2</th>\n",
       "      <td>AE</td>\n",
       "      <td>2006</td>\n",
       "      <td>335.000000</td>\n",
       "      <td>231.000000</td>\n",
       "      <td>97.200000</td>\n",
       "      <td>NaN</td>\n",
       "      <td>118.000000</td>\n",
       "      <td>NaN</td>\n",
       "      <td>4.080000</td>\n",
       "      <td>1.770000</td>\n",
       "    </tr>\n",
       "    <tr>\n",
       "      <th>3</th>\n",
       "      <td>AE</td>\n",
       "      <td>2007</td>\n",
       "      <td>330.000000</td>\n",
       "      <td>183.000000</td>\n",
       "      <td>91.000000</td>\n",
       "      <td>NaN</td>\n",
       "      <td>110.000000</td>\n",
       "      <td>NaN</td>\n",
       "      <td>NaN</td>\n",
       "      <td>NaN</td>\n",
       "    </tr>\n",
       "    <tr>\n",
       "      <th>4</th>\n",
       "      <td>AE</td>\n",
       "      <td>2008</td>\n",
       "      <td>335.500000</td>\n",
       "      <td>228.500000</td>\n",
       "      <td>93.950000</td>\n",
       "      <td>NaN</td>\n",
       "      <td>117.000000</td>\n",
       "      <td>NaN</td>\n",
       "      <td>NaN</td>\n",
       "      <td>NaN</td>\n",
       "    </tr>\n",
       "    <tr>\n",
       "      <th>5</th>\n",
       "      <td>AE</td>\n",
       "      <td>2009</td>\n",
       "      <td>332.500000</td>\n",
       "      <td>210.000000</td>\n",
       "      <td>94.700000</td>\n",
       "      <td>NaN</td>\n",
       "      <td>120.500000</td>\n",
       "      <td>NaN</td>\n",
       "      <td>NaN</td>\n",
       "      <td>NaN</td>\n",
       "    </tr>\n",
       "    <tr>\n",
       "      <th>6</th>\n",
       "      <td>AE</td>\n",
       "      <td>2010</td>\n",
       "      <td>NaN</td>\n",
       "      <td>NaN</td>\n",
       "      <td>NaN</td>\n",
       "      <td>NaN</td>\n",
       "      <td>NaN</td>\n",
       "      <td>NaN</td>\n",
       "      <td>4.830000</td>\n",
       "      <td>3.150000</td>\n",
       "    </tr>\n",
       "    <tr>\n",
       "      <th>7</th>\n",
       "      <td>AE</td>\n",
       "      <td>2011</td>\n",
       "      <td>NaN</td>\n",
       "      <td>NaN</td>\n",
       "      <td>NaN</td>\n",
       "      <td>NaN</td>\n",
       "      <td>NaN</td>\n",
       "      <td>NaN</td>\n",
       "      <td>1.010000</td>\n",
       "      <td>0.630000</td>\n",
       "    </tr>\n",
       "    <tr>\n",
       "      <th>8</th>\n",
       "      <td>AE</td>\n",
       "      <td>2012</td>\n",
       "      <td>342.500000</td>\n",
       "      <td>225.000000</td>\n",
       "      <td>96.400000</td>\n",
       "      <td>NaN</td>\n",
       "      <td>120.000000</td>\n",
       "      <td>NaN</td>\n",
       "      <td>2.060000</td>\n",
       "      <td>1.660000</td>\n",
       "    </tr>\n",
       "    <tr>\n",
       "      <th>9</th>\n",
       "      <td>AE</td>\n",
       "      <td>2014</td>\n",
       "      <td>NaN</td>\n",
       "      <td>NaN</td>\n",
       "      <td>NaN</td>\n",
       "      <td>NaN</td>\n",
       "      <td>NaN</td>\n",
       "      <td>NaN</td>\n",
       "      <td>2.330000</td>\n",
       "      <td>0.620000</td>\n",
       "    </tr>\n",
       "    <tr>\n",
       "      <th>10</th>\n",
       "      <td>AE</td>\n",
       "      <td>2018</td>\n",
       "      <td>350.000000</td>\n",
       "      <td>205.000000</td>\n",
       "      <td>91.900000</td>\n",
       "      <td>NaN</td>\n",
       "      <td>122.000000</td>\n",
       "      <td>NaN</td>\n",
       "      <td>NaN</td>\n",
       "      <td>NaN</td>\n",
       "    </tr>\n",
       "    <tr>\n",
       "      <th>11</th>\n",
       "      <td>AE</td>\n",
       "      <td>2019</td>\n",
       "      <td>NaN</td>\n",
       "      <td>NaN</td>\n",
       "      <td>NaN</td>\n",
       "      <td>NaN</td>\n",
       "      <td>NaN</td>\n",
       "      <td>NaN</td>\n",
       "      <td>2.910000</td>\n",
       "      <td>0.860000</td>\n",
       "    </tr>\n",
       "    <tr>\n",
       "      <th>12</th>\n",
       "      <td>AE</td>\n",
       "      <td>2020</td>\n",
       "      <td>NaN</td>\n",
       "      <td>NaN</td>\n",
       "      <td>NaN</td>\n",
       "      <td>NaN</td>\n",
       "      <td>NaN</td>\n",
       "      <td>NaN</td>\n",
       "      <td>5.940000</td>\n",
       "      <td>1.650000</td>\n",
       "    </tr>\n",
       "    <tr>\n",
       "      <th>13</th>\n",
       "      <td>AE</td>\n",
       "      <td>2023</td>\n",
       "      <td>NaN</td>\n",
       "      <td>NaN</td>\n",
       "      <td>NaN</td>\n",
       "      <td>NaN</td>\n",
       "      <td>NaN</td>\n",
       "      <td>NaN</td>\n",
       "      <td>4.645000</td>\n",
       "      <td>1.350000</td>\n",
       "    </tr>\n",
       "    <tr>\n",
       "      <th>14</th>\n",
       "      <td>AF</td>\n",
       "      <td>1995</td>\n",
       "      <td>151.000000</td>\n",
       "      <td>28.000000</td>\n",
       "      <td>59.600000</td>\n",
       "      <td>47.800000</td>\n",
       "      <td>97.000000</td>\n",
       "      <td>-10.000000</td>\n",
       "      <td>NaN</td>\n",
       "      <td>NaN</td>\n",
       "    </tr>\n",
       "    <tr>\n",
       "      <th>15</th>\n",
       "      <td>AF</td>\n",
       "      <td>1996</td>\n",
       "      <td>137.000000</td>\n",
       "      <td>21.000000</td>\n",
       "      <td>60.000000</td>\n",
       "      <td>49.300000</td>\n",
       "      <td>95.000000</td>\n",
       "      <td>-7.000000</td>\n",
       "      <td>NaN</td>\n",
       "      <td>NaN</td>\n",
       "    </tr>\n",
       "    <tr>\n",
       "      <th>16</th>\n",
       "      <td>AF</td>\n",
       "      <td>1997</td>\n",
       "      <td>169.000000</td>\n",
       "      <td>43.000000</td>\n",
       "      <td>64.700000</td>\n",
       "      <td>53.700000</td>\n",
       "      <td>101.000000</td>\n",
       "      <td>10.000000</td>\n",
       "      <td>NaN</td>\n",
       "      <td>NaN</td>\n",
       "    </tr>\n",
       "    <tr>\n",
       "      <th>17</th>\n",
       "      <td>AF</td>\n",
       "      <td>1998</td>\n",
       "      <td>151.000000</td>\n",
       "      <td>23.000000</td>\n",
       "      <td>61.600000</td>\n",
       "      <td>51.100000</td>\n",
       "      <td>100.000000</td>\n",
       "      <td>-2.000000</td>\n",
       "      <td>NaN</td>\n",
       "      <td>NaN</td>\n",
       "    </tr>\n",
       "    <tr>\n",
       "      <th>18</th>\n",
       "      <td>AF</td>\n",
       "      <td>1999</td>\n",
       "      <td>140.000000</td>\n",
       "      <td>9.000000</td>\n",
       "      <td>60.200000</td>\n",
       "      <td>50.600000</td>\n",
       "      <td>95.000000</td>\n",
       "      <td>12.000000</td>\n",
       "      <td>NaN</td>\n",
       "      <td>NaN</td>\n",
       "    </tr>\n",
       "    <tr>\n",
       "      <th>19</th>\n",
       "      <td>AF</td>\n",
       "      <td>2000</td>\n",
       "      <td>156.000000</td>\n",
       "      <td>22.000000</td>\n",
       "      <td>60.200000</td>\n",
       "      <td>49.500000</td>\n",
       "      <td>96.000000</td>\n",
       "      <td>-4.000000</td>\n",
       "      <td>NaN</td>\n",
       "      <td>NaN</td>\n",
       "    </tr>\n",
       "    <tr>\n",
       "      <th>20</th>\n",
       "      <td>AF</td>\n",
       "      <td>2001</td>\n",
       "      <td>165.000000</td>\n",
       "      <td>30.000000</td>\n",
       "      <td>61.900000</td>\n",
       "      <td>50.700000</td>\n",
       "      <td>97.000000</td>\n",
       "      <td>0.000000</td>\n",
       "      <td>NaN</td>\n",
       "      <td>NaN</td>\n",
       "    </tr>\n",
       "    <tr>\n",
       "      <th>21</th>\n",
       "      <td>AF</td>\n",
       "      <td>2002</td>\n",
       "      <td>146.000000</td>\n",
       "      <td>17.000000</td>\n",
       "      <td>60.300000</td>\n",
       "      <td>49.500000</td>\n",
       "      <td>99.000000</td>\n",
       "      <td>-7.000000</td>\n",
       "      <td>NaN</td>\n",
       "      <td>NaN</td>\n",
       "    </tr>\n",
       "    <tr>\n",
       "      <th>22</th>\n",
       "      <td>AF</td>\n",
       "      <td>2003</td>\n",
       "      <td>144.000000</td>\n",
       "      <td>17.000000</td>\n",
       "      <td>59.700000</td>\n",
       "      <td>49.300000</td>\n",
       "      <td>96.000000</td>\n",
       "      <td>1.000000</td>\n",
       "      <td>NaN</td>\n",
       "      <td>NaN</td>\n",
       "    </tr>\n",
       "    <tr>\n",
       "      <th>23</th>\n",
       "      <td>AF</td>\n",
       "      <td>2004</td>\n",
       "      <td>145.000000</td>\n",
       "      <td>4.000000</td>\n",
       "      <td>58.900000</td>\n",
       "      <td>49.000000</td>\n",
       "      <td>94.000000</td>\n",
       "      <td>-8.000000</td>\n",
       "      <td>NaN</td>\n",
       "      <td>NaN</td>\n",
       "    </tr>\n",
       "    <tr>\n",
       "      <th>24</th>\n",
       "      <td>AF</td>\n",
       "      <td>2005</td>\n",
       "      <td>136.000000</td>\n",
       "      <td>7.000000</td>\n",
       "      <td>57.800000</td>\n",
       "      <td>47.800000</td>\n",
       "      <td>91.000000</td>\n",
       "      <td>-5.000000</td>\n",
       "      <td>NaN</td>\n",
       "      <td>NaN</td>\n",
       "    </tr>\n",
       "    <tr>\n",
       "      <th>25</th>\n",
       "      <td>AF</td>\n",
       "      <td>2010</td>\n",
       "      <td>136.000000</td>\n",
       "      <td>11.000000</td>\n",
       "      <td>61.100000</td>\n",
       "      <td>NaN</td>\n",
       "      <td>96.000000</td>\n",
       "      <td>NaN</td>\n",
       "      <td>NaN</td>\n",
       "      <td>NaN</td>\n",
       "    </tr>\n",
       "    <tr>\n",
       "      <th>26</th>\n",
       "      <td>AF</td>\n",
       "      <td>2014</td>\n",
       "      <td>144.000000</td>\n",
       "      <td>31.000000</td>\n",
       "      <td>62.300000</td>\n",
       "      <td>NaN</td>\n",
       "      <td>95.000000</td>\n",
       "      <td>NaN</td>\n",
       "      <td>NaN</td>\n",
       "      <td>NaN</td>\n",
       "    </tr>\n",
       "    <tr>\n",
       "      <th>27</th>\n",
       "      <td>AF</td>\n",
       "      <td>2015</td>\n",
       "      <td>159.000000</td>\n",
       "      <td>22.000000</td>\n",
       "      <td>61.400000</td>\n",
       "      <td>NaN</td>\n",
       "      <td>97.000000</td>\n",
       "      <td>NaN</td>\n",
       "      <td>NaN</td>\n",
       "      <td>NaN</td>\n",
       "    </tr>\n",
       "    <tr>\n",
       "      <th>28</th>\n",
       "      <td>AF</td>\n",
       "      <td>2016</td>\n",
       "      <td>158.000000</td>\n",
       "      <td>19.000000</td>\n",
       "      <td>64.200000</td>\n",
       "      <td>NaN</td>\n",
       "      <td>98.000000</td>\n",
       "      <td>NaN</td>\n",
       "      <td>NaN</td>\n",
       "      <td>NaN</td>\n",
       "    </tr>\n",
       "    <tr>\n",
       "      <th>29</th>\n",
       "      <td>AF</td>\n",
       "      <td>2017</td>\n",
       "      <td>147.000000</td>\n",
       "      <td>21.000000</td>\n",
       "      <td>61.200000</td>\n",
       "      <td>NaN</td>\n",
       "      <td>96.000000</td>\n",
       "      <td>NaN</td>\n",
       "      <td>NaN</td>\n",
       "      <td>NaN</td>\n",
       "    </tr>\n",
       "    <tr>\n",
       "      <th>30</th>\n",
       "      <td>AF</td>\n",
       "      <td>2018</td>\n",
       "      <td>145.000000</td>\n",
       "      <td>29.000000</td>\n",
       "      <td>61.800000</td>\n",
       "      <td>NaN</td>\n",
       "      <td>99.000000</td>\n",
       "      <td>NaN</td>\n",
       "      <td>NaN</td>\n",
       "      <td>NaN</td>\n",
       "    </tr>\n",
       "    <tr>\n",
       "      <th>31</th>\n",
       "      <td>AF</td>\n",
       "      <td>2019</td>\n",
       "      <td>147.000000</td>\n",
       "      <td>29.000000</td>\n",
       "      <td>60.500000</td>\n",
       "      <td>NaN</td>\n",
       "      <td>96.000000</td>\n",
       "      <td>NaN</td>\n",
       "      <td>NaN</td>\n",
       "      <td>NaN</td>\n",
       "    </tr>\n",
       "    <tr>\n",
       "      <th>32</th>\n",
       "      <td>AF</td>\n",
       "      <td>2020</td>\n",
       "      <td>144.000000</td>\n",
       "      <td>18.000000</td>\n",
       "      <td>60.600000</td>\n",
       "      <td>NaN</td>\n",
       "      <td>94.000000</td>\n",
       "      <td>NaN</td>\n",
       "      <td>NaN</td>\n",
       "      <td>NaN</td>\n",
       "    </tr>\n",
       "    <tr>\n",
       "      <th>33</th>\n",
       "      <td>AG</td>\n",
       "      <td>1995</td>\n",
       "      <td>262.333333</td>\n",
       "      <td>106.500000</td>\n",
       "      <td>81.116667</td>\n",
       "      <td>70.050000</td>\n",
       "      <td>107.833333</td>\n",
       "      <td>26.250000</td>\n",
       "      <td>6.315000</td>\n",
       "      <td>0.735000</td>\n",
       "    </tr>\n",
       "    <tr>\n",
       "      <th>34</th>\n",
       "      <td>AG</td>\n",
       "      <td>1996</td>\n",
       "      <td>292.250000</td>\n",
       "      <td>121.000000</td>\n",
       "      <td>82.400000</td>\n",
       "      <td>70.050000</td>\n",
       "      <td>110.250000</td>\n",
       "      <td>30.500000</td>\n",
       "      <td>9.182500</td>\n",
       "      <td>1.082500</td>\n",
       "    </tr>\n",
       "    <tr>\n",
       "      <th>35</th>\n",
       "      <td>AG</td>\n",
       "      <td>1997</td>\n",
       "      <td>256.285714</td>\n",
       "      <td>105.857143</td>\n",
       "      <td>81.085714</td>\n",
       "      <td>70.350000</td>\n",
       "      <td>108.285714</td>\n",
       "      <td>31.750000</td>\n",
       "      <td>10.713333</td>\n",
       "      <td>2.065000</td>\n",
       "    </tr>\n",
       "    <tr>\n",
       "      <th>36</th>\n",
       "      <td>AG</td>\n",
       "      <td>1998</td>\n",
       "      <td>273.750000</td>\n",
       "      <td>134.500000</td>\n",
       "      <td>82.900000</td>\n",
       "      <td>70.175000</td>\n",
       "      <td>108.250000</td>\n",
       "      <td>29.000000</td>\n",
       "      <td>6.450000</td>\n",
       "      <td>0.657500</td>\n",
       "    </tr>\n",
       "    <tr>\n",
       "      <th>37</th>\n",
       "      <td>AG</td>\n",
       "      <td>2002</td>\n",
       "      <td>238.500000</td>\n",
       "      <td>97.500000</td>\n",
       "      <td>78.000000</td>\n",
       "      <td>NaN</td>\n",
       "      <td>101.000000</td>\n",
       "      <td>29.666667</td>\n",
       "      <td>NaN</td>\n",
       "      <td>NaN</td>\n",
       "    </tr>\n",
       "    <tr>\n",
       "      <th>38</th>\n",
       "      <td>AG</td>\n",
       "      <td>2003</td>\n",
       "      <td>182.000000</td>\n",
       "      <td>86.500000</td>\n",
       "      <td>73.450000</td>\n",
       "      <td>NaN</td>\n",
       "      <td>107.000000</td>\n",
       "      <td>NaN</td>\n",
       "      <td>NaN</td>\n",
       "      <td>NaN</td>\n",
       "    </tr>\n",
       "    <tr>\n",
       "      <th>39</th>\n",
       "      <td>AG</td>\n",
       "      <td>2004</td>\n",
       "      <td>NaN</td>\n",
       "      <td>NaN</td>\n",
       "      <td>NaN</td>\n",
       "      <td>NaN</td>\n",
       "      <td>NaN</td>\n",
       "      <td>30.000000</td>\n",
       "      <td>13.455714</td>\n",
       "      <td>2.012381</td>\n",
       "    </tr>\n",
       "    <tr>\n",
       "      <th>40</th>\n",
       "      <td>AG</td>\n",
       "      <td>2005</td>\n",
       "      <td>208.500000</td>\n",
       "      <td>66.312500</td>\n",
       "      <td>74.193750</td>\n",
       "      <td>64.437500</td>\n",
       "      <td>106.500000</td>\n",
       "      <td>22.666667</td>\n",
       "      <td>10.818409</td>\n",
       "      <td>1.383182</td>\n",
       "    </tr>\n",
       "    <tr>\n",
       "      <th>41</th>\n",
       "      <td>AG</td>\n",
       "      <td>2006</td>\n",
       "      <td>218.692308</td>\n",
       "      <td>89.153846</td>\n",
       "      <td>76.246154</td>\n",
       "      <td>63.575000</td>\n",
       "      <td>105.461538</td>\n",
       "      <td>28.750000</td>\n",
       "      <td>11.066596</td>\n",
       "      <td>1.320000</td>\n",
       "    </tr>\n",
       "    <tr>\n",
       "      <th>42</th>\n",
       "      <td>AG</td>\n",
       "      <td>2007</td>\n",
       "      <td>182.642857</td>\n",
       "      <td>69.071429</td>\n",
       "      <td>73.814286</td>\n",
       "      <td>65.166667</td>\n",
       "      <td>104.928571</td>\n",
       "      <td>28.000000</td>\n",
       "      <td>13.601000</td>\n",
       "      <td>1.598750</td>\n",
       "    </tr>\n",
       "    <tr>\n",
       "      <th>43</th>\n",
       "      <td>AG</td>\n",
       "      <td>2008</td>\n",
       "      <td>191.562500</td>\n",
       "      <td>60.066667</td>\n",
       "      <td>73.666667</td>\n",
       "      <td>64.260000</td>\n",
       "      <td>104.400000</td>\n",
       "      <td>30.142857</td>\n",
       "      <td>13.158333</td>\n",
       "      <td>1.418333</td>\n",
       "    </tr>\n",
       "    <tr>\n",
       "      <th>44</th>\n",
       "      <td>AG</td>\n",
       "      <td>2010</td>\n",
       "      <td>207.736842</td>\n",
       "      <td>63.000000</td>\n",
       "      <td>75.084211</td>\n",
       "      <td>66.785714</td>\n",
       "      <td>104.473684</td>\n",
       "      <td>26.857143</td>\n",
       "      <td>12.928043</td>\n",
       "      <td>1.234783</td>\n",
       "    </tr>\n",
       "    <tr>\n",
       "      <th>45</th>\n",
       "      <td>AG</td>\n",
       "      <td>2011</td>\n",
       "      <td>202.421053</td>\n",
       "      <td>68.473684</td>\n",
       "      <td>74.663158</td>\n",
       "      <td>64.388889</td>\n",
       "      <td>104.578947</td>\n",
       "      <td>28.250000</td>\n",
       "      <td>14.419000</td>\n",
       "      <td>1.558400</td>\n",
       "    </tr>\n",
       "    <tr>\n",
       "      <th>46</th>\n",
       "      <td>AG</td>\n",
       "      <td>2012</td>\n",
       "      <td>200.684211</td>\n",
       "      <td>87.157895</td>\n",
       "      <td>75.647368</td>\n",
       "      <td>65.125000</td>\n",
       "      <td>108.368421</td>\n",
       "      <td>27.500000</td>\n",
       "      <td>11.915217</td>\n",
       "      <td>1.467174</td>\n",
       "    </tr>\n",
       "    <tr>\n",
       "      <th>47</th>\n",
       "      <td>AG</td>\n",
       "      <td>2013</td>\n",
       "      <td>192.500000</td>\n",
       "      <td>57.125000</td>\n",
       "      <td>72.350000</td>\n",
       "      <td>66.050000</td>\n",
       "      <td>105.750000</td>\n",
       "      <td>31.500000</td>\n",
       "      <td>23.152222</td>\n",
       "      <td>1.870556</td>\n",
       "    </tr>\n",
       "    <tr>\n",
       "      <th>48</th>\n",
       "      <td>AG</td>\n",
       "      <td>2015</td>\n",
       "      <td>209.666667</td>\n",
       "      <td>79.833333</td>\n",
       "      <td>74.677778</td>\n",
       "      <td>64.128571</td>\n",
       "      <td>107.055556</td>\n",
       "      <td>28.857143</td>\n",
       "      <td>11.866429</td>\n",
       "      <td>1.305238</td>\n",
       "    </tr>\n",
       "    <tr>\n",
       "      <th>49</th>\n",
       "      <td>AG</td>\n",
       "      <td>2016</td>\n",
       "      <td>NaN</td>\n",
       "      <td>NaN</td>\n",
       "      <td>NaN</td>\n",
       "      <td>NaN</td>\n",
       "      <td>NaN</td>\n",
       "      <td>28.153846</td>\n",
       "      <td>12.306154</td>\n",
       "      <td>1.158462</td>\n",
       "    </tr>\n",
       "  </tbody>\n",
       "</table>\n",
       "</div>"
      ],
      "text/plain": [
       "   country  Year        DX70        DX90       TMAX       TAVG        EMXT  \\\n",
       "0       AE  1996  339.000000  218.000000  96.700000        NaN  119.000000   \n",
       "1       AE  2004         NaN         NaN        NaN        NaN         NaN   \n",
       "2       AE  2006  335.000000  231.000000  97.200000        NaN  118.000000   \n",
       "3       AE  2007  330.000000  183.000000  91.000000        NaN  110.000000   \n",
       "4       AE  2008  335.500000  228.500000  93.950000        NaN  117.000000   \n",
       "5       AE  2009  332.500000  210.000000  94.700000        NaN  120.500000   \n",
       "6       AE  2010         NaN         NaN        NaN        NaN         NaN   \n",
       "7       AE  2011         NaN         NaN        NaN        NaN         NaN   \n",
       "8       AE  2012  342.500000  225.000000  96.400000        NaN  120.000000   \n",
       "9       AE  2014         NaN         NaN        NaN        NaN         NaN   \n",
       "10      AE  2018  350.000000  205.000000  91.900000        NaN  122.000000   \n",
       "11      AE  2019         NaN         NaN        NaN        NaN         NaN   \n",
       "12      AE  2020         NaN         NaN        NaN        NaN         NaN   \n",
       "13      AE  2023         NaN         NaN        NaN        NaN         NaN   \n",
       "14      AF  1995  151.000000   28.000000  59.600000  47.800000   97.000000   \n",
       "15      AF  1996  137.000000   21.000000  60.000000  49.300000   95.000000   \n",
       "16      AF  1997  169.000000   43.000000  64.700000  53.700000  101.000000   \n",
       "17      AF  1998  151.000000   23.000000  61.600000  51.100000  100.000000   \n",
       "18      AF  1999  140.000000    9.000000  60.200000  50.600000   95.000000   \n",
       "19      AF  2000  156.000000   22.000000  60.200000  49.500000   96.000000   \n",
       "20      AF  2001  165.000000   30.000000  61.900000  50.700000   97.000000   \n",
       "21      AF  2002  146.000000   17.000000  60.300000  49.500000   99.000000   \n",
       "22      AF  2003  144.000000   17.000000  59.700000  49.300000   96.000000   \n",
       "23      AF  2004  145.000000    4.000000  58.900000  49.000000   94.000000   \n",
       "24      AF  2005  136.000000    7.000000  57.800000  47.800000   91.000000   \n",
       "25      AF  2010  136.000000   11.000000  61.100000        NaN   96.000000   \n",
       "26      AF  2014  144.000000   31.000000  62.300000        NaN   95.000000   \n",
       "27      AF  2015  159.000000   22.000000  61.400000        NaN   97.000000   \n",
       "28      AF  2016  158.000000   19.000000  64.200000        NaN   98.000000   \n",
       "29      AF  2017  147.000000   21.000000  61.200000        NaN   96.000000   \n",
       "30      AF  2018  145.000000   29.000000  61.800000        NaN   99.000000   \n",
       "31      AF  2019  147.000000   29.000000  60.500000        NaN   96.000000   \n",
       "32      AF  2020  144.000000   18.000000  60.600000        NaN   94.000000   \n",
       "33      AG  1995  262.333333  106.500000  81.116667  70.050000  107.833333   \n",
       "34      AG  1996  292.250000  121.000000  82.400000  70.050000  110.250000   \n",
       "35      AG  1997  256.285714  105.857143  81.085714  70.350000  108.285714   \n",
       "36      AG  1998  273.750000  134.500000  82.900000  70.175000  108.250000   \n",
       "37      AG  2002  238.500000   97.500000  78.000000        NaN  101.000000   \n",
       "38      AG  2003  182.000000   86.500000  73.450000        NaN  107.000000   \n",
       "39      AG  2004         NaN         NaN        NaN        NaN         NaN   \n",
       "40      AG  2005  208.500000   66.312500  74.193750  64.437500  106.500000   \n",
       "41      AG  2006  218.692308   89.153846  76.246154  63.575000  105.461538   \n",
       "42      AG  2007  182.642857   69.071429  73.814286  65.166667  104.928571   \n",
       "43      AG  2008  191.562500   60.066667  73.666667  64.260000  104.400000   \n",
       "44      AG  2010  207.736842   63.000000  75.084211  66.785714  104.473684   \n",
       "45      AG  2011  202.421053   68.473684  74.663158  64.388889  104.578947   \n",
       "46      AG  2012  200.684211   87.157895  75.647368  65.125000  108.368421   \n",
       "47      AG  2013  192.500000   57.125000  72.350000  66.050000  105.750000   \n",
       "48      AG  2015  209.666667   79.833333  74.677778  64.128571  107.055556   \n",
       "49      AG  2016         NaN         NaN        NaN        NaN         NaN   \n",
       "\n",
       "         EMNT       PRCP      EMXP  \n",
       "0         NaN        NaN       NaN  \n",
       "1         NaN   2.310000  0.900000  \n",
       "2         NaN   4.080000  1.770000  \n",
       "3         NaN        NaN       NaN  \n",
       "4         NaN        NaN       NaN  \n",
       "5         NaN        NaN       NaN  \n",
       "6         NaN   4.830000  3.150000  \n",
       "7         NaN   1.010000  0.630000  \n",
       "8         NaN   2.060000  1.660000  \n",
       "9         NaN   2.330000  0.620000  \n",
       "10        NaN        NaN       NaN  \n",
       "11        NaN   2.910000  0.860000  \n",
       "12        NaN   5.940000  1.650000  \n",
       "13        NaN   4.645000  1.350000  \n",
       "14 -10.000000        NaN       NaN  \n",
       "15  -7.000000        NaN       NaN  \n",
       "16  10.000000        NaN       NaN  \n",
       "17  -2.000000        NaN       NaN  \n",
       "18  12.000000        NaN       NaN  \n",
       "19  -4.000000        NaN       NaN  \n",
       "20   0.000000        NaN       NaN  \n",
       "21  -7.000000        NaN       NaN  \n",
       "22   1.000000        NaN       NaN  \n",
       "23  -8.000000        NaN       NaN  \n",
       "24  -5.000000        NaN       NaN  \n",
       "25        NaN        NaN       NaN  \n",
       "26        NaN        NaN       NaN  \n",
       "27        NaN        NaN       NaN  \n",
       "28        NaN        NaN       NaN  \n",
       "29        NaN        NaN       NaN  \n",
       "30        NaN        NaN       NaN  \n",
       "31        NaN        NaN       NaN  \n",
       "32        NaN        NaN       NaN  \n",
       "33  26.250000   6.315000  0.735000  \n",
       "34  30.500000   9.182500  1.082500  \n",
       "35  31.750000  10.713333  2.065000  \n",
       "36  29.000000   6.450000  0.657500  \n",
       "37  29.666667        NaN       NaN  \n",
       "38        NaN        NaN       NaN  \n",
       "39  30.000000  13.455714  2.012381  \n",
       "40  22.666667  10.818409  1.383182  \n",
       "41  28.750000  11.066596  1.320000  \n",
       "42  28.000000  13.601000  1.598750  \n",
       "43  30.142857  13.158333  1.418333  \n",
       "44  26.857143  12.928043  1.234783  \n",
       "45  28.250000  14.419000  1.558400  \n",
       "46  27.500000  11.915217  1.467174  \n",
       "47  31.500000  23.152222  1.870556  \n",
       "48  28.857143  11.866429  1.305238  \n",
       "49  28.153846  12.306154  1.158462  "
      ]
     },
     "execution_count": 59,
     "metadata": {},
     "output_type": "execute_result"
    }
   ],
   "source": [
    "# Combine all EMXT, EMNT, PRCP etc. into a single dataframe\n",
    "\n",
    "weather_country_overall_df = pd.DataFrame({\n",
    "    \"DX70\": dx70_average,\n",
    "    \"DX90\": dx90_average,\n",
    "    \"TMAX\": tmax_average,\n",
    "    \"TAVG\": tavg_average,\n",
    "    \"EMXT\": emxt_average,\n",
    "    \"EMNT\": emnt_average,\n",
    "    \"PRCP\": prcp_average,\n",
    "    \"EMXP\": emxp_average,\n",
    "}).reset_index()\n",
    "\n",
    "weather_country_overall_df.head(50)"
   ]
  },
  {
   "cell_type": "markdown",
   "metadata": {},
   "source": [
    "Read the CSV \"fips-countries.csv\""
   ]
  },
  {
   "cell_type": "code",
   "execution_count": 60,
   "metadata": {},
   "outputs": [
    {
     "data": {
      "text/html": [
       "<div>\n",
       "<style scoped>\n",
       "    .dataframe tbody tr th:only-of-type {\n",
       "        vertical-align: middle;\n",
       "    }\n",
       "\n",
       "    .dataframe tbody tr th {\n",
       "        vertical-align: top;\n",
       "    }\n",
       "\n",
       "    .dataframe thead th {\n",
       "        text-align: right;\n",
       "    }\n",
       "</style>\n",
       "<table border=\"1\" class=\"dataframe\">\n",
       "  <thead>\n",
       "    <tr style=\"text-align: right;\">\n",
       "      <th></th>\n",
       "      <th>code</th>\n",
       "      <th>country</th>\n",
       "    </tr>\n",
       "  </thead>\n",
       "  <tbody>\n",
       "    <tr>\n",
       "      <th>0</th>\n",
       "      <td>AF</td>\n",
       "      <td>Afghanistan</td>\n",
       "    </tr>\n",
       "    <tr>\n",
       "      <th>1</th>\n",
       "      <td>AL</td>\n",
       "      <td>Albania</td>\n",
       "    </tr>\n",
       "    <tr>\n",
       "      <th>2</th>\n",
       "      <td>AG</td>\n",
       "      <td>Algeria</td>\n",
       "    </tr>\n",
       "    <tr>\n",
       "      <th>3</th>\n",
       "      <td>AQ</td>\n",
       "      <td>American Samoa</td>\n",
       "    </tr>\n",
       "    <tr>\n",
       "      <th>4</th>\n",
       "      <td>AN</td>\n",
       "      <td>Andorra</td>\n",
       "    </tr>\n",
       "  </tbody>\n",
       "</table>\n",
       "</div>"
      ],
      "text/plain": [
       "  code         country\n",
       "0   AF     Afghanistan\n",
       "1   AL         Albania\n",
       "2   AG         Algeria\n",
       "3   AQ  American Samoa\n",
       "4   AN         Andorra"
      ]
     },
     "execution_count": 60,
     "metadata": {},
     "output_type": "execute_result"
    }
   ],
   "source": [
    "# Get the country codes according to FIPS-10 standard\n",
    "# This is the cleaned CSV with Country names that match with Wine data\n",
    "country_codes_df = pd.read_csv('Resources/fips-countries.csv')\n",
    "country_codes_df.head()"
   ]
  },
  {
   "cell_type": "markdown",
   "metadata": {},
   "source": [
    "Read all the Wine data for all countries from \"Wine_data_all_2.csv\""
   ]
  },
  {
   "cell_type": "code",
   "execution_count": 61,
   "metadata": {},
   "outputs": [
    {
     "data": {
      "text/html": [
       "<div>\n",
       "<style scoped>\n",
       "    .dataframe tbody tr th:only-of-type {\n",
       "        vertical-align: middle;\n",
       "    }\n",
       "\n",
       "    .dataframe tbody tr th {\n",
       "        vertical-align: top;\n",
       "    }\n",
       "\n",
       "    .dataframe thead th {\n",
       "        text-align: right;\n",
       "    }\n",
       "</style>\n",
       "<table border=\"1\" class=\"dataframe\">\n",
       "  <thead>\n",
       "    <tr style=\"text-align: right;\">\n",
       "      <th></th>\n",
       "      <th>Continent</th>\n",
       "      <th>country</th>\n",
       "      <th>Product</th>\n",
       "      <th>Variable</th>\n",
       "      <th>Year</th>\n",
       "      <th>Unit</th>\n",
       "      <th>Quantity</th>\n",
       "    </tr>\n",
       "  </thead>\n",
       "  <tbody>\n",
       "    <tr>\n",
       "      <th>0</th>\n",
       "      <td>Asia</td>\n",
       "      <td>Afghanistan</td>\n",
       "      <td>Wine</td>\n",
       "      <td>Consumption</td>\n",
       "      <td>1995</td>\n",
       "      <td>1000 hl</td>\n",
       "      <td>0</td>\n",
       "    </tr>\n",
       "    <tr>\n",
       "      <th>1</th>\n",
       "      <td>Asia</td>\n",
       "      <td>Afghanistan</td>\n",
       "      <td>Wine</td>\n",
       "      <td>Imports</td>\n",
       "      <td>1995</td>\n",
       "      <td>1000 hl</td>\n",
       "      <td>0</td>\n",
       "    </tr>\n",
       "    <tr>\n",
       "      <th>2</th>\n",
       "      <td>Asia</td>\n",
       "      <td>Afghanistan</td>\n",
       "      <td>Wine</td>\n",
       "      <td>Production</td>\n",
       "      <td>1995</td>\n",
       "      <td>1000 hl</td>\n",
       "      <td>0</td>\n",
       "    </tr>\n",
       "    <tr>\n",
       "      <th>3</th>\n",
       "      <td>Asia</td>\n",
       "      <td>Afghanistan</td>\n",
       "      <td>Wine</td>\n",
       "      <td>Consumption</td>\n",
       "      <td>1996</td>\n",
       "      <td>1000 hl</td>\n",
       "      <td>0</td>\n",
       "    </tr>\n",
       "    <tr>\n",
       "      <th>4</th>\n",
       "      <td>Asia</td>\n",
       "      <td>Afghanistan</td>\n",
       "      <td>Wine</td>\n",
       "      <td>Imports</td>\n",
       "      <td>1996</td>\n",
       "      <td>1000 hl</td>\n",
       "      <td>0</td>\n",
       "    </tr>\n",
       "  </tbody>\n",
       "</table>\n",
       "</div>"
      ],
      "text/plain": [
       "  Continent      country Product     Variable  Year     Unit Quantity\n",
       "0      Asia  Afghanistan    Wine  Consumption  1995  1000 hl        0\n",
       "1      Asia  Afghanistan    Wine      Imports  1995  1000 hl        0\n",
       "2      Asia  Afghanistan    Wine   Production  1995  1000 hl        0\n",
       "3      Asia  Afghanistan    Wine  Consumption  1996  1000 hl        0\n",
       "4      Asia  Afghanistan    Wine      Imports  1996  1000 hl        0"
      ]
     },
     "execution_count": 61,
     "metadata": {},
     "output_type": "execute_result"
    }
   ],
   "source": [
    "# Get the wine data\n",
    "wine_data_df = pd.read_csv('Resources/Wine_data_all_2.csv')\n",
    "wine_data_df.head()"
   ]
  },
  {
   "cell_type": "markdown",
   "metadata": {},
   "source": [
    "Merge the wine data with country codes to get a column with matching 2 letter FIPS-10 country code.\n",
    "This will allow us to correlate the data with NOAA weather data processed above into weather_country_overall_df."
   ]
  },
  {
   "cell_type": "code",
   "execution_count": 62,
   "metadata": {},
   "outputs": [
    {
     "data": {
      "text/html": [
       "<div>\n",
       "<style scoped>\n",
       "    .dataframe tbody tr th:only-of-type {\n",
       "        vertical-align: middle;\n",
       "    }\n",
       "\n",
       "    .dataframe tbody tr th {\n",
       "        vertical-align: top;\n",
       "    }\n",
       "\n",
       "    .dataframe thead th {\n",
       "        text-align: right;\n",
       "    }\n",
       "</style>\n",
       "<table border=\"1\" class=\"dataframe\">\n",
       "  <thead>\n",
       "    <tr style=\"text-align: right;\">\n",
       "      <th></th>\n",
       "      <th>Continent</th>\n",
       "      <th>country</th>\n",
       "      <th>Product</th>\n",
       "      <th>Variable</th>\n",
       "      <th>Year</th>\n",
       "      <th>Unit</th>\n",
       "      <th>Quantity</th>\n",
       "      <th>code</th>\n",
       "    </tr>\n",
       "  </thead>\n",
       "  <tbody>\n",
       "    <tr>\n",
       "      <th>0</th>\n",
       "      <td>Asia</td>\n",
       "      <td>Afghanistan</td>\n",
       "      <td>Wine</td>\n",
       "      <td>Consumption</td>\n",
       "      <td>1995</td>\n",
       "      <td>1000 hl</td>\n",
       "      <td>0</td>\n",
       "      <td>AF</td>\n",
       "    </tr>\n",
       "    <tr>\n",
       "      <th>1</th>\n",
       "      <td>Asia</td>\n",
       "      <td>Afghanistan</td>\n",
       "      <td>Wine</td>\n",
       "      <td>Imports</td>\n",
       "      <td>1995</td>\n",
       "      <td>1000 hl</td>\n",
       "      <td>0</td>\n",
       "      <td>AF</td>\n",
       "    </tr>\n",
       "    <tr>\n",
       "      <th>2</th>\n",
       "      <td>Asia</td>\n",
       "      <td>Afghanistan</td>\n",
       "      <td>Wine</td>\n",
       "      <td>Production</td>\n",
       "      <td>1995</td>\n",
       "      <td>1000 hl</td>\n",
       "      <td>0</td>\n",
       "      <td>AF</td>\n",
       "    </tr>\n",
       "    <tr>\n",
       "      <th>3</th>\n",
       "      <td>Asia</td>\n",
       "      <td>Afghanistan</td>\n",
       "      <td>Wine</td>\n",
       "      <td>Consumption</td>\n",
       "      <td>1996</td>\n",
       "      <td>1000 hl</td>\n",
       "      <td>0</td>\n",
       "      <td>AF</td>\n",
       "    </tr>\n",
       "    <tr>\n",
       "      <th>4</th>\n",
       "      <td>Asia</td>\n",
       "      <td>Afghanistan</td>\n",
       "      <td>Wine</td>\n",
       "      <td>Imports</td>\n",
       "      <td>1996</td>\n",
       "      <td>1000 hl</td>\n",
       "      <td>0</td>\n",
       "      <td>AF</td>\n",
       "    </tr>\n",
       "  </tbody>\n",
       "</table>\n",
       "</div>"
      ],
      "text/plain": [
       "  Continent      country Product     Variable  Year     Unit Quantity code\n",
       "0      Asia  Afghanistan    Wine  Consumption  1995  1000 hl        0   AF\n",
       "1      Asia  Afghanistan    Wine      Imports  1995  1000 hl        0   AF\n",
       "2      Asia  Afghanistan    Wine   Production  1995  1000 hl        0   AF\n",
       "3      Asia  Afghanistan    Wine  Consumption  1996  1000 hl        0   AF\n",
       "4      Asia  Afghanistan    Wine      Imports  1996  1000 hl        0   AF"
      ]
     },
     "execution_count": 62,
     "metadata": {},
     "output_type": "execute_result"
    }
   ],
   "source": [
    "wine_data_df = pd.merge(wine_data_df, country_codes_df, on='country')\n",
    "wine_data_df.head()"
   ]
  },
  {
   "cell_type": "markdown",
   "metadata": {},
   "source": [
    "Process Wine data:\n",
    "1. Select only Production data\n",
    "2. Wine data Quantity has some values with spaces, remove them\n",
    "3. Convert 1000 HL to Gallons\n",
    "4. Drop the columns that won't be used"
   ]
  },
  {
   "cell_type": "code",
   "execution_count": 63,
   "metadata": {},
   "outputs": [
    {
     "data": {
      "text/html": [
       "<div>\n",
       "<style scoped>\n",
       "    .dataframe tbody tr th:only-of-type {\n",
       "        vertical-align: middle;\n",
       "    }\n",
       "\n",
       "    .dataframe tbody tr th {\n",
       "        vertical-align: top;\n",
       "    }\n",
       "\n",
       "    .dataframe thead th {\n",
       "        text-align: right;\n",
       "    }\n",
       "</style>\n",
       "<table border=\"1\" class=\"dataframe\">\n",
       "  <thead>\n",
       "    <tr style=\"text-align: right;\">\n",
       "      <th></th>\n",
       "      <th>Year</th>\n",
       "      <th>country</th>\n",
       "      <th>Gallons</th>\n",
       "    </tr>\n",
       "  </thead>\n",
       "  <tbody>\n",
       "    <tr>\n",
       "      <th>21670</th>\n",
       "      <td>2018</td>\n",
       "      <td>ZI</td>\n",
       "      <td>528344.0</td>\n",
       "    </tr>\n",
       "    <tr>\n",
       "      <th>21674</th>\n",
       "      <td>2019</td>\n",
       "      <td>ZI</td>\n",
       "      <td>369840.8</td>\n",
       "    </tr>\n",
       "    <tr>\n",
       "      <th>21678</th>\n",
       "      <td>2020</td>\n",
       "      <td>ZI</td>\n",
       "      <td>369840.8</td>\n",
       "    </tr>\n",
       "    <tr>\n",
       "      <th>21682</th>\n",
       "      <td>2021</td>\n",
       "      <td>ZI</td>\n",
       "      <td>369840.8</td>\n",
       "    </tr>\n",
       "    <tr>\n",
       "      <th>21686</th>\n",
       "      <td>2022</td>\n",
       "      <td>ZI</td>\n",
       "      <td>369840.8</td>\n",
       "    </tr>\n",
       "  </tbody>\n",
       "</table>\n",
       "</div>"
      ],
      "text/plain": [
       "       Year country   Gallons\n",
       "21670  2018      ZI  528344.0\n",
       "21674  2019      ZI  369840.8\n",
       "21678  2020      ZI  369840.8\n",
       "21682  2021      ZI  369840.8\n",
       "21686  2022      ZI  369840.8"
      ]
     },
     "execution_count": 63,
     "metadata": {},
     "output_type": "execute_result"
    }
   ],
   "source": [
    "# Filter only production data\n",
    "wine_data_df = wine_data_df[wine_data_df['Variable'] == 'Production']\n",
    "\n",
    "# Filter only wine data\n",
    "wine_data_df = wine_data_df[wine_data_df['Product'] == 'Wine']\n",
    "\n",
    "# Trim unnecessary 'Variable' column\n",
    "wine_data_df = wine_data_df.drop(columns=['Variable'])\n",
    "\n",
    "# Clean up the Quantity column to replace spaces and convert to numeric\n",
    "wine_data_df['Quantity'] = wine_data_df['Quantity'].str.replace(' ', '')\n",
    "wine_data_df['Quantity'] = pd.to_numeric(wine_data_df['Quantity'])\n",
    "\n",
    "# Convert 1000 HL to Gallons\n",
    "wine_data_df['Gallons'] = wine_data_df['Quantity'] * 26417.2\n",
    "\n",
    "# Drop unnecessary columns\n",
    "wine_data_df = wine_data_df.drop(columns=['Quantity'])\n",
    "wine_data_df = wine_data_df.drop(columns=['country'])\n",
    "wine_data_df = wine_data_df.drop(columns=['Continent'])\n",
    "wine_data_df = wine_data_df.drop(columns=['Product'])\n",
    "wine_data_df = wine_data_df.drop(columns=['Unit'])\n",
    "\n",
    "# rename code to country, this will aid in merging with weather data\n",
    "wine_data_df.rename(columns={'code': 'country'}, inplace=True)\n",
    "wine_data_df.tail()\n"
   ]
  },
  {
   "cell_type": "markdown",
   "metadata": {},
   "source": [
    "Merge with weather"
   ]
  },
  {
   "cell_type": "code",
   "execution_count": 64,
   "metadata": {},
   "outputs": [
    {
     "data": {
      "text/html": [
       "<div>\n",
       "<style scoped>\n",
       "    .dataframe tbody tr th:only-of-type {\n",
       "        vertical-align: middle;\n",
       "    }\n",
       "\n",
       "    .dataframe tbody tr th {\n",
       "        vertical-align: top;\n",
       "    }\n",
       "\n",
       "    .dataframe thead th {\n",
       "        text-align: right;\n",
       "    }\n",
       "</style>\n",
       "<table border=\"1\" class=\"dataframe\">\n",
       "  <thead>\n",
       "    <tr style=\"text-align: right;\">\n",
       "      <th></th>\n",
       "      <th>Year</th>\n",
       "      <th>country</th>\n",
       "      <th>Gallons</th>\n",
       "      <th>DX70</th>\n",
       "      <th>DX90</th>\n",
       "      <th>TMAX</th>\n",
       "      <th>TAVG</th>\n",
       "      <th>EMXT</th>\n",
       "      <th>EMNT</th>\n",
       "      <th>PRCP</th>\n",
       "      <th>EMXP</th>\n",
       "    </tr>\n",
       "  </thead>\n",
       "  <tbody>\n",
       "    <tr>\n",
       "      <th>2162</th>\n",
       "      <td>2018</td>\n",
       "      <td>VM</td>\n",
       "      <td>0.0</td>\n",
       "      <td>NaN</td>\n",
       "      <td>NaN</td>\n",
       "      <td>NaN</td>\n",
       "      <td>NaN</td>\n",
       "      <td>NaN</td>\n",
       "      <td>NaN</td>\n",
       "      <td>62.521429</td>\n",
       "      <td>4.828571</td>\n",
       "    </tr>\n",
       "    <tr>\n",
       "      <th>2163</th>\n",
       "      <td>2019</td>\n",
       "      <td>VM</td>\n",
       "      <td>0.0</td>\n",
       "      <td>NaN</td>\n",
       "      <td>NaN</td>\n",
       "      <td>NaN</td>\n",
       "      <td>NaN</td>\n",
       "      <td>NaN</td>\n",
       "      <td>NaN</td>\n",
       "      <td>56.551429</td>\n",
       "      <td>4.418571</td>\n",
       "    </tr>\n",
       "    <tr>\n",
       "      <th>2164</th>\n",
       "      <td>2020</td>\n",
       "      <td>VM</td>\n",
       "      <td>0.0</td>\n",
       "      <td>NaN</td>\n",
       "      <td>NaN</td>\n",
       "      <td>NaN</td>\n",
       "      <td>NaN</td>\n",
       "      <td>NaN</td>\n",
       "      <td>NaN</td>\n",
       "      <td>62.635714</td>\n",
       "      <td>5.124286</td>\n",
       "    </tr>\n",
       "    <tr>\n",
       "      <th>2165</th>\n",
       "      <td>2021</td>\n",
       "      <td>VM</td>\n",
       "      <td>0.0</td>\n",
       "      <td>NaN</td>\n",
       "      <td>NaN</td>\n",
       "      <td>NaN</td>\n",
       "      <td>NaN</td>\n",
       "      <td>NaN</td>\n",
       "      <td>NaN</td>\n",
       "      <td>72.560000</td>\n",
       "      <td>4.410000</td>\n",
       "    </tr>\n",
       "    <tr>\n",
       "      <th>2166</th>\n",
       "      <td>2022</td>\n",
       "      <td>VM</td>\n",
       "      <td>0.0</td>\n",
       "      <td>NaN</td>\n",
       "      <td>NaN</td>\n",
       "      <td>NaN</td>\n",
       "      <td>NaN</td>\n",
       "      <td>NaN</td>\n",
       "      <td>NaN</td>\n",
       "      <td>105.860000</td>\n",
       "      <td>4.720000</td>\n",
       "    </tr>\n",
       "  </tbody>\n",
       "</table>\n",
       "</div>"
      ],
      "text/plain": [
       "      Year country  Gallons  DX70  DX90  TMAX  TAVG  EMXT  EMNT        PRCP  \\\n",
       "2162  2018      VM      0.0   NaN   NaN   NaN   NaN   NaN   NaN   62.521429   \n",
       "2163  2019      VM      0.0   NaN   NaN   NaN   NaN   NaN   NaN   56.551429   \n",
       "2164  2020      VM      0.0   NaN   NaN   NaN   NaN   NaN   NaN   62.635714   \n",
       "2165  2021      VM      0.0   NaN   NaN   NaN   NaN   NaN   NaN   72.560000   \n",
       "2166  2022      VM      0.0   NaN   NaN   NaN   NaN   NaN   NaN  105.860000   \n",
       "\n",
       "          EMXP  \n",
       "2162  4.828571  \n",
       "2163  4.418571  \n",
       "2164  5.124286  \n",
       "2165  4.410000  \n",
       "2166  4.720000  "
      ]
     },
     "execution_count": 64,
     "metadata": {},
     "output_type": "execute_result"
    }
   ],
   "source": [
    "# Merge wine and weather data\n",
    "weather_and_wine_df = pd.merge(wine_data_df, weather_country_overall_df, on=['country', 'Year'])\n",
    "weather_and_wine_df.tail()"
   ]
  },
  {
   "cell_type": "markdown",
   "metadata": {},
   "source": [
    "1. Which were the top wine producing countries in year X?\n",
    "2. Which are the current top wine producing countries in year Y?"
   ]
  },
  {
   "cell_type": "code",
   "execution_count": 65,
   "metadata": {},
   "outputs": [
    {
     "data": {
      "image/png": "[encoded data removed]",
      "text/plain": [
       "<Figure size 1200x800 with 1 Axes>"
      ]
     },
     "metadata": {},
     "output_type": "display_data"
    }
   ],
   "source": [
    "# Find the country with the maximum production per year\n",
    "max_production_per_year = weather_and_wine_df.loc[weather_and_wine_df.groupby('Year')['Gallons'].idxmax()]\n",
    "\n",
    "# Create the bar plot\n",
    "fig, ax = plt.subplots(figsize=(12, 8))\n",
    "\n",
    "# Plotting the data\n",
    "for country in max_production_per_year['country'].unique():\n",
    "    country_data = max_production_per_year[max_production_per_year['country'] == country]\n",
    "    ax.bar(country_data['Year'], country_data['Gallons'], label=country)\n",
    "\n",
    "\n",
    "# Adding labels and title\n",
    "ax.set_xlabel('Year')\n",
    "ax.set_ylabel('Top Wine Production')\n",
    "ax.set_title('Country with Maximum Production per Year')\n",
    "ax.legend(title='Country')\n",
    "\n",
    "# Show the plot\n",
    "plt.show()"
   ]
  },
  {
   "cell_type": "markdown",
   "metadata": {},
   "source": [
    "3. What is the correlation between temperature and wine production?\n",
    "4. What is the correlation between precipitation and wine production?\n",
    "\n",
    "The dropdown widget allows to select individual countries\n",
    "The dropdown widget allows to select different weather parameters\n",
    "\n",
    "We can see the correlation between different weather parameters for countires."
   ]
  },
  {
   "cell_type": "code",
   "execution_count": 66,
   "metadata": {},
   "outputs": [
    {
     "data": {
      "application/vnd.jupyter.widget-view+json": {
       "model_id": "d824e266708b4981ad0666cf05f81603",
       "version_major": 2,
       "version_minor": 0
      },
      "text/plain": [
       "Dropdown(description='Country:', index=54, options=('AF', 'AL', 'AG', 'AR', 'AM', 'AS', 'AU', 'AJ', 'BF', 'BG'…"
      ]
     },
     "metadata": {},
     "output_type": "display_data"
    },
    {
     "data": {
      "application/vnd.jupyter.widget-view+json": {
       "model_id": "b9d3a027451d4daca296dfff52d063cb",
       "version_major": 2,
       "version_minor": 0
      },
      "text/plain": [
       "Dropdown(description='Weather Params:', index=4, options=('TMAX', 'PRCP', 'TAVG', 'EMXT', 'EMNT'), value='EMNT…"
      ]
     },
     "metadata": {},
     "output_type": "display_data"
    },
    {
     "data": {
      "image/png": "[encoded data removed]",
      "text/plain": [
       "<Figure size 1000x600 with 2 Axes>"
      ]
     },
     "metadata": {},
     "output_type": "display_data"
    }
   ],
   "source": [
    "# Unique countries for the dropdown\n",
    "countries = weather_and_wine_df['country'].unique()\n",
    "weather_params = ['TMAX', 'PRCP', 'TAVG', 'EMXT', 'EMNT']\n",
    "\n",
    "# Create a dropdown widget for country selection\n",
    "country_widget = widgets.Dropdown(\n",
    "    options=countries,\n",
    "    description='Country:',\n",
    "    value = 'FR',\n",
    "    disabled=False,\n",
    ")\n",
    "\n",
    "weather_params_widget = widgets.Dropdown(\n",
    "    options=weather_params,\n",
    "    description='Weather Params:',\n",
    "    value = 'TAVG',\n",
    "    disabled=False,\n",
    ")\n",
    "\n",
    "# Function to update the plot based on the selected country\n",
    "def update_plot(change):\n",
    "    clear_output(wait=True)\n",
    "    display(country_widget, weather_params_widget)\n",
    "\n",
    "    country = country_widget.value\n",
    "    weather_param = weather_params_widget.value\n",
    "\n",
    "    weather_df = weather_and_wine_df[weather_and_wine_df[weather_param].notna()]\n",
    "    filtered_df = weather_df[weather_df['country'] == country]\n",
    "\n",
    "    fig, ax1 = plt.subplots(figsize=(10, 6))\n",
    "\n",
    "    # Plotting Gallons vs Year on the primary y-axis\n",
    "    ax1.plot(filtered_df['Year'], filtered_df['Gallons'], color='red', label='Gallons')\n",
    "    ax1.set_xlabel('Year')\n",
    "    ax1.set_ylabel('Gallons', color='red')\n",
    "    ax1.tick_params(axis='y', labelcolor='red')\n",
    "\n",
    "    # Create a second y-axis sharing the same x-axis\n",
    "    ax2 = ax1.twinx()\n",
    "    ax2.plot(filtered_df['Year'], filtered_df[weather_param], color='blue', label=weather_param)\n",
    "    ax2.set_ylabel(weather_param, color='blue')\n",
    "    ax2.tick_params(axis='y', labelcolor='blue')\n",
    "\n",
    "    # Adding titles\n",
    "    plt.title(f'Gallons and {weather_param} vs Year')\n",
    "\n",
    "    # Adding legends\n",
    "    fig.tight_layout()  # Adjust layout to fit both y-axis labels\n",
    "    fig.legend(loc='upper right', bbox_to_anchor=(0.9, 0.9))\n",
    "    plt.show()\n",
    "\n",
    "# Observe changes in the dropdown and update the plot accordingly\n",
    "country_widget.observe(lambda change: update_plot(change.new), names='value')\n",
    "weather_params_widget.observe(update_plot, names='value')\n",
    "\n",
    "# Display the widget\n",
    "display(country_widget, weather_params_widget)\n",
    "\n",
    "# Initial plot\n",
    "update_plot(countries[0])\n"
   ]
  }
 ],
 "metadata": {
  "kernelspec": {
   "display_name": "Python 3",
   "language": "python",
   "name": "python3"
  },
  "language_info": {
   "codemirror_mode": {
    "name": "ipython",
    "version": 3
   },
   "file_extension": ".py",
   "mimetype": "text/x-python",
   "name": "python",
   "nbconvert_exporter": "python",
   "pygments_lexer": "ipython3",
   "version": "3.12.3"
  }
 },
 "nbformat": 4,
 "nbformat_minor": 2
}
