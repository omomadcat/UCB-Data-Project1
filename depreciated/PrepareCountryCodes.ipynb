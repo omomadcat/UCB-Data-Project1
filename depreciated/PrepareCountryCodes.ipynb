{
 "cells": [
  {
   "cell_type": "code",
   "execution_count": 14,
   "metadata": {},
   "outputs": [
    {
     "name": "stdout",
     "output_type": "stream",
     "text": [
      "  Code               Country\n",
      "0   AC   Antigua and Barbuda\n",
      "1   AE  United Arab Emirates\n",
      "2   AF           Afghanistan\n",
      "3   AG               Algeria\n",
      "4   AJ            Azerbaijan\n",
      "0    AC\n",
      "1    AE\n",
      "2    AF\n",
      "3    AG\n",
      "4    AJ\n",
      "Name: Code, dtype: object\n"
     ]
    }
   ],
   "source": [
    "import pandas as pd\n",
    "\n",
    "# Replace 'your_file_path.txt' with the path to your text file\n",
    "codes_path = 'Resources/ghcnd-countries.csv'\n",
    "# Assuming your text file has headers, if not, set header=None\n",
    "# Assuming your file is tab-separated, if it's comma-separated, set sep=','\n",
    "code_country_df = pd.read_csv(codes_path, sep=',', header=0)\n",
    "\n",
    "# Display the first few rows of your DataFrame to verify if the data is loaded correctly\n",
    "print(code_country_df.head())\n",
    "\n",
    "# Assuming the middle column index is 1 (Python uses zero-based indexing)\n",
    "first_column_index = 'Code'\n",
    "\n",
    "# Extract just the middle column\n",
    "code_df = code_country_df[first_column_index]\n",
    "\n",
    "# Display the first few rows of the middle column\n",
    "print(code_df.head())\n",
    "\n",
    "# Save the DataFrame to a CSV file\n",
    "country_codes = 'Resources/ghcnd_country_codes.csv'\n",
    "code_df.to_csv(country_codes, index=False)  # Set index=False to exclude the DataFrame index from the CSV file"
   ]
  },
  {
   "cell_type": "code",
   "execution_count": 13,
   "metadata": {},
   "outputs": [
    {
     "name": "stdout",
     "output_type": "stream",
     "text": [
      "0    AC\n",
      "1    AE\n",
      "2    AF\n",
      "3    AG\n",
      "4    AJ\n",
      "Name: Code, dtype: object\n"
     ]
    }
   ],
   "source": [
    "print(code_df.head())"
   ]
  },
  {
   "cell_type": "code",
   "execution_count": null,
   "metadata": {},
   "outputs": [],
   "source": []
  }
 ],
 "metadata": {
  "kernelspec": {
   "display_name": "class_env",
   "language": "python",
   "name": "python3"
  },
  "language_info": {
   "codemirror_mode": {
    "name": "ipython",
    "version": 3
   },
   "file_extension": ".py",
   "mimetype": "text/x-python",
   "name": "python",
   "nbconvert_exporter": "python",
   "pygments_lexer": "ipython3",
   "version": "3.12.3"
  }
 },
 "nbformat": 4,
 "nbformat_minor": 2
}
