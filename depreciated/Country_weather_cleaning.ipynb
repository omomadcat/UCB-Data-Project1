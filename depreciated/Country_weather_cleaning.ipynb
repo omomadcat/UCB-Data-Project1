{
 "cells": [
  {
   "cell_type": "code",
   "execution_count": 2,
   "metadata": {},
   "outputs": [],
   "source": [
    "# Import necessary libraries\n",
    "import pandas as pd\n",
    "import matplotlib.pyplot as plt\n",
    "import seaborn as sns\n",
    "import numpy as np\n",
    "from scipy import stats"
   ]
  },
  {
   "cell_type": "code",
   "execution_count": 5,
   "metadata": {},
   "outputs": [
    {
     "name": "stdout",
     "output_type": "stream",
     "text": [
      "   Unnamed: 0                 date datatype            station attributes  \\\n",
      "0           0  1996-01-01T00:00:00     DX70  GHCND:AEM00041218          S   \n",
      "1           1  1996-01-01T00:00:00     DX90  GHCND:AEM00041218          S   \n",
      "2           2  1996-01-01T00:00:00     EMXT  GHCND:AEM00041218   S,0706,    \n",
      "3           3  1996-01-01T00:00:00     TMAX  GHCND:AEM00041218          S   \n",
      "4           0  2004-01-01T00:00:00     DP10  GHCND:AEM00041194          S   \n",
      "\n",
      "   value country  \n",
      "0  339.0      AE  \n",
      "1  218.0      AE  \n",
      "2  119.0      AE  \n",
      "3   96.7      AE  \n",
      "4    4.0      AE  \n"
     ]
    }
   ],
   "source": [
    "# Step 1: Load data from csv file\n",
    "file_path = r'Resources\\weather_all_country_codes3.csv' \n",
    "weather_country_data_df = pd.read_csv(file_path)\n",
    "\n",
    "# Step 2: Display the first few rows of the DataFrame to verify loading\n",
    "print(weather_country_data_df.head())"
   ]
  },
  {
   "cell_type": "code",
   "execution_count": 7,
   "metadata": {},
   "outputs": [
    {
     "name": "stdout",
     "output_type": "stream",
     "text": [
      "   Unnamed: 0                 date datatype            station attributes  \\\n",
      "0           0  1996-01-01T00:00:00     DX70  GHCND:AEM00041218          S   \n",
      "1           1  1996-01-01T00:00:00     DX90  GHCND:AEM00041218          S   \n",
      "2           2  1996-01-01T00:00:00     EMXT  GHCND:AEM00041218   S,0706,    \n",
      "3           3  1996-01-01T00:00:00     TMAX  GHCND:AEM00041218          S   \n",
      "4           0  2004-01-01T00:00:00     DP10  GHCND:AEM00041194          S   \n",
      "\n",
      "   value country  year country_code  \n",
      "0  339.0      AE  1996           AE  \n",
      "1  218.0      AE  1996           AE  \n",
      "2  119.0      AE  1996           AE  \n",
      "3   96.7      AE  1996           AE  \n",
      "4    4.0      AE  2004           AE  \n"
     ]
    }
   ],
   "source": [
    "# Create a new column called 'year' based on the 'date' field\n",
    "weather_country_data_df['year'] = pd.to_datetime(weather_country_data_df['date']).dt.year\n",
    "\n",
    "# Create a new column called 'country_code' by parsing out the two characters after the ':' in the 'station' field\n",
    "weather_country_data_df['country_code'] = weather_country_data_df['station'].apply(lambda x: x.split(':')[1][:2])\n",
    "\n",
    "# Step 2: Display the first few rows of the DataFrame to verify loading\n",
    "print(weather_country_data_df.head())\n"
   ]
  },
  {
   "cell_type": "code",
   "execution_count": 11,
   "metadata": {},
   "outputs": [
    {
     "name": "stdout",
     "output_type": "stream",
     "text": [
      "   Unnamed: 0                 date datatype            station  attributes  \\\n",
      "0         0.0  1996-01-01T00:00:00     DX70  GHCND:AEM00041218           S   \n",
      "1         1.0  1996-01-01T00:00:00     DX90  GHCND:AEM00041218           S   \n",
      "2         0.0  2004-01-01T00:00:00     DP10  GHCND:AEM00041194           S   \n",
      "3         1.0  2004-01-01T00:00:00     DP1X  GHCND:AEM00041194           S   \n",
      "4         2.0  2004-01-01T00:00:00     EMXP  GHCND:AEM00041194   ,S,1116,    \n",
      "\n",
      "   value country  year country_code  \n",
      "0  339.0      AE  1996           AE  \n",
      "1  218.0      AE  1996           AE  \n",
      "2    4.0      AE  2004           AE  \n",
      "3    0.0      AE  2004           AE  \n",
      "4    0.9      AE  2004           AE  \n"
     ]
    }
   ],
   "source": [
    "# Identify the datatypes of interest\n",
    "datatypes_of_interest = ['EMNT', 'EMXT', 'MNPN', 'MXPN', 'TAVG', 'TMAX']\n",
    "\n",
    "# Compute the average for each year and country code combination where there are multiple records\n",
    "averaged_df = weather_country_data_df[weather_country_data_df['datatype'].isin(datatypes_of_interest)]\n",
    "averaged_df = averaged_df.groupby(['year', 'country_code', 'datatype']).agg({'value': 'mean', 'date': 'first', 'station': 'first', 'attributes': 'first'}).reset_index()\n",
    "\n",
    "# Create a unique key for identifying records\n",
    "weather_country_data_df['unique_key'] = weather_country_data_df['year'].astype(str) + '_' + weather_country_data_df['country_code'] + '_' + weather_country_data_df['datatype']\n",
    "averaged_df['unique_key'] = averaged_df['year'].astype(str) + '_' + averaged_df['country_code'] + '_' + averaged_df['datatype']\n",
    "\n",
    "# Remove the original records that were averaged\n",
    "remaining_df = weather_country_data_df[~weather_country_data_df['unique_key'].isin(averaged_df['unique_key'])]\n",
    "\n",
    "# Append the averaged records to the remaining dataframe\n",
    "final_df = pd.concat([remaining_df, averaged_df], ignore_index=True)\n",
    "\n",
    "# Drop the unique_key column\n",
    "final_df = final_df.drop(columns=['unique_key'])\n",
    "\n",
    "# Step 2: Display the first few rows of the DataFrame to verify loading\n",
    "print(final_df.head())"
   ]
  },
  {
   "cell_type": "code",
   "execution_count": 13,
   "metadata": {},
   "outputs": [
    {
     "name": "stdout",
     "output_type": "stream",
     "text": [
      "  country_code  year  DP10  DP1X  DT32   DX70   DX90  EMNT  EMXP   EMXT  HTDD  \\\n",
      "0           AE  1996   NaN   NaN   NaN  339.0  218.0   NaN   NaN  119.0   NaN   \n",
      "1           AE  2004   4.0   0.0   NaN    NaN    NaN   NaN  0.90    NaN   NaN   \n",
      "2           AE  2006   7.0   1.0   NaN  335.0  231.0   NaN  1.77  118.0   NaN   \n",
      "3           AE  2008   NaN   NaN   NaN  330.0  247.0   NaN   NaN  120.0   NaN   \n",
      "4           AE  2009   NaN   NaN   NaN  329.0  234.0   NaN   NaN  121.0   NaN   \n",
      "\n",
      "   MNPN  MXPN  PRCP  TAVG  TMAX  \n",
      "0   NaN   NaN   NaN   NaN  96.7  \n",
      "1   NaN   NaN  2.31   NaN   NaN  \n",
      "2   NaN   NaN  4.08   NaN  97.2  \n",
      "3   NaN   NaN   NaN   NaN  97.3  \n",
      "4   NaN   NaN   NaN   NaN  97.9  \n"
     ]
    }
   ],
   "source": [
    "# Pivot the dataframe to get unique datatypes as new columns\n",
    "pivot_df = final_df.pivot_table(index=['country_code', 'year'], columns='datatype', values='value', aggfunc='first').reset_index()\n",
    "\n",
    "# Flatten the multi-level column index resulting from pivot\n",
    "pivot_df.columns.name = None\n",
    "pivot_df.columns = ['country_code', 'year'] + list(pivot_df.columns[2:])\n",
    "\n",
    "# Step 2: Display the first few rows of the DataFrame to verify loading\n",
    "print(pivot_df.head())"
   ]
  },
  {
   "cell_type": "code",
   "execution_count": 14,
   "metadata": {},
   "outputs": [],
   "source": [
    "# Export the pivoted dataframe to CSV format in the Resources folder\n",
    "# Export the DataFrame to a CSV file in the Resources folder\n",
    "output_file_path = r'Resources/country_weather_adj.csv'\n",
    "pivot_df.to_csv(output_file_path, index=False)"
   ]
  }
 ],
 "metadata": {
  "kernelspec": {
   "display_name": "Python 3",
   "language": "python",
   "name": "python3"
  },
  "language_info": {
   "codemirror_mode": {
    "name": "ipython",
    "version": 3
   },
   "file_extension": ".py",
   "mimetype": "text/x-python",
   "name": "python",
   "nbconvert_exporter": "python",
   "pygments_lexer": "ipython3",
   "version": "3.12.4"
  }
 },
 "nbformat": 4,
 "nbformat_minor": 2
}
