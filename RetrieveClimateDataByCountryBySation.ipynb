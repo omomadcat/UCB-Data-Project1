{
 "cells": [
  {
   "cell_type": "code",
   "execution_count": null,
   "metadata": {},
   "outputs": [],
   "source": [
    "import requests\n",
    "import os\n",
    "import json\n",
    "import pandas as pd\n",
    "import numpy as np\n",
    "\n",
    "from dotenv import load_dotenv\n",
    "\n",
    "# Load environment variables from .env file\n",
    "load_dotenv()"
   ]
  },
  {
   "cell_type": "code",
   "execution_count": null,
   "metadata": {},
   "outputs": [],
   "source": [
    "# Get the API key\n",
    "api_key = os.getenv('NOAA_CLIMATE_DATA')\n",
    "token = api_key"
   ]
  },
  {
   "cell_type": "code",
   "execution_count": null,
   "metadata": {},
   "outputs": [],
   "source": [
    "# Load country codes to data frame\n",
    "codes_path = 'Resources/ghcnd_country_codes_copy.csv'\n",
    "code_country_df = pd.read_csv(codes_path, sep=',', header=0)\n",
    "country_codes = code_country_df['Code'].tolist()\n",
    "\n",
    "# List of dates\n",
    "start_dates = [\n",
    "    '1995-01-01', '2005-01-01', '2015-01-01'\n",
    "]\n",
    "end_dates = [\n",
    "    '2004-12-31', '2014-12-31', '2023-12-31'\n",
    "]\n",
    "\n",
    "# Data types to get\n",
    "data_types = [\"DP10\", \"DP01\", \"DP1X\", \"DT32\", \"DT00\", \"DX70\", \"DX90\", \"PRCP\", \"RHAV\", \"TAVG\", \"TMAX\", \"TMIN\", \"EMXT\", \"EMNT\", \"HTDD\", \"EMXP\", \"MNPN\", \"MXPN\", \"HXyz\", \"HNyz\"]\n"
   ]
  },
  {
   "cell_type": "code",
   "execution_count": null,
   "metadata": {},
   "outputs": [],
   "source": [
    "# Function to get station IDs for a country\n",
    "def get_stations_for_country(token, country_code):\n",
    "    url = \"https://www.ncdc.noaa.gov/cdo-web/api/v2/stations\"\n",
    "    headers = {'token': token}\n",
    "    params = {'locationid': f'FIPS:{country_code}', 'limit': 1000}\n",
    "    response = requests.get(url, headers=headers, params=params)\n",
    "    if response.status_code == 200:\n",
    "        return response.json().get(\"results\", [])\n",
    "    else:\n",
    "        return []"
   ]
  },
  {
   "cell_type": "code",
   "execution_count": null,
   "metadata": {},
   "outputs": [],
   "source": [
    "# Function to get weather data for a station\n",
    "def get_weather_data(token, station_id, start_date, end_date, data_types):\n",
    "    url = \"https://www.ncdc.noaa.gov/cdo-web/api/v2/data\"\n",
    "    headers = {'token': token}\n",
    "    params = {\n",
    "        'datasetid': 'GSOY',\n",
    "        'stationid': station_id,\n",
    "        'startdate': start_date,\n",
    "        'enddate': end_date,\n",
    "        'datatypeid': ','.join(data_types),\n",
    "        'units': 'standard',\n",
    "        'limit': 1000\n",
    "    }\n",
    "    response = requests.get(url, headers=headers, params=params)\n",
    "    if response.status_code == 200:\n",
    "        return response.json().get(\"results\", [])\n",
    "    else:\n",
    "        return []"
   ]
  },
  {
   "cell_type": "code",
   "execution_count": null,
   "metadata": {},
   "outputs": [],
   "source": [
    "# Ensure output directory exists\n",
    "os.makedirs('ClimateData', exist_ok=True)\n",
    "\n",
    "# Iterate over each country code\n",
    "for country_code in country_codes:\n",
    "    # Get station IDs for the country\n",
    "    stations = get_stations_for_country(token, country_code)\n",
    "    if not stations:\n",
    "        continue\n",
    "    \n",
    "    # Create an empty DataFrame\n",
    "    columns = [\"station\", \"date\"] + data_types\n",
    "    df = pd.DataFrame(columns=columns)\n",
    "    \n",
    "    # Iterate over each station\n",
    "    for station in stations:\n",
    "        station_id = station[\"id\"]\n",
    "        \n",
    "        # Iterate over each date range\n",
    "        for start_date, end_date in zip(start_dates, end_dates):\n",
    "            # Get weather data for the station and date range\n",
    "            weather_data = get_weather_data(token, station_id, start_date, end_date, data_types)\n",
    "            \n",
    "            # Process each result\n",
    "            for result in weather_data:\n",
    "                date = result[\"date\"][:10]  # Extract date portion\n",
    "                datatype = result[\"datatype\"]\n",
    "                value = result[\"value\"]\n",
    "                station = result[\"station\"]\n",
    "                \n",
    "                # Initialize row data\n",
    "                row_data = {\"station\": station, \"date\": date}\n",
    "                row_data[datatype] = value\n",
    "                \n",
    "                # Append to DataFrame\n",
    "                df = pd.concat([df, pd.DataFrame([row_data])], ignore_index=True)\n",
    "    \n",
    "    # Export DataFrame to CSV file\n",
    "    output_path = f'ClimateData/{country_code}_climate_data.csv'\n",
    "    df.to_csv(output_path, index=False)"
   ]
  }
 ],
 "metadata": {
  "kernelspec": {
   "display_name": "class_env",
   "language": "python",
   "name": "python3"
  },
  "language_info": {
   "codemirror_mode": {
    "name": "ipython",
    "version": 3
   },
   "file_extension": ".py",
   "mimetype": "text/x-python",
   "name": "python",
   "nbconvert_exporter": "python",
   "pygments_lexer": "ipython3",
   "version": "3.12.3"
  }
 },
 "nbformat": 4,
 "nbformat_minor": 2
}
