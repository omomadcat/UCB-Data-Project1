{
 "cells": [
  {
   "cell_type": "code",
   "execution_count": 17,
   "metadata": {},
   "outputs": [],
   "source": [
    "# Import necessary libraries\n",
    "import pandas as pd\n",
    "import matplotlib.pyplot as plt\n",
    "from matplotlib.ticker import FuncFormatter\n",
    "import seaborn as sns\n",
    "import numpy as np\n",
    "from scipy import stats"
   ]
  },
  {
   "cell_type": "code",
   "execution_count": 18,
   "metadata": {},
   "outputs": [
    {
     "name": "stdout",
     "output_type": "stream",
     "text": [
      "date          201347\n",
      "station       201347\n",
      "attributes    201347\n",
      "country       201347\n",
      "DP10           22143\n",
      "DP1X           22130\n",
      "DT32           11896\n",
      "DX70           17164\n",
      "DX90           17152\n",
      "EMNT           11866\n",
      "EMXP           22089\n",
      "EMXT           17137\n",
      "HTDD            9941\n",
      "MNPN              13\n",
      "MXPN              13\n",
      "PRCP           22202\n",
      "TAVG           10487\n",
      "TMAX           17114\n",
      "dtype: int64\n"
     ]
    },
    {
     "data": {
      "text/html": [
       "<div>\n",
       "<style scoped>\n",
       "    .dataframe tbody tr th:only-of-type {\n",
       "        vertical-align: middle;\n",
       "    }\n",
       "\n",
       "    .dataframe tbody tr th {\n",
       "        vertical-align: top;\n",
       "    }\n",
       "\n",
       "    .dataframe thead th {\n",
       "        text-align: right;\n",
       "    }\n",
       "</style>\n",
       "<table border=\"1\" class=\"dataframe\">\n",
       "  <thead>\n",
       "    <tr style=\"text-align: right;\">\n",
       "      <th></th>\n",
       "      <th>date</th>\n",
       "      <th>station</th>\n",
       "      <th>attributes</th>\n",
       "      <th>country</th>\n",
       "      <th>DP10</th>\n",
       "      <th>DP1X</th>\n",
       "      <th>DT32</th>\n",
       "      <th>DX70</th>\n",
       "      <th>DX90</th>\n",
       "      <th>EMNT</th>\n",
       "      <th>EMXP</th>\n",
       "      <th>EMXT</th>\n",
       "      <th>HTDD</th>\n",
       "      <th>MNPN</th>\n",
       "      <th>MXPN</th>\n",
       "      <th>PRCP</th>\n",
       "      <th>TAVG</th>\n",
       "      <th>TMAX</th>\n",
       "    </tr>\n",
       "  </thead>\n",
       "  <tbody>\n",
       "    <tr>\n",
       "      <th>0</th>\n",
       "      <td>1996-01-01</td>\n",
       "      <td>GHCND:AEM00041218</td>\n",
       "      <td>S</td>\n",
       "      <td>AE</td>\n",
       "      <td>NaN</td>\n",
       "      <td>NaN</td>\n",
       "      <td>NaN</td>\n",
       "      <td>339.0</td>\n",
       "      <td>NaN</td>\n",
       "      <td>NaN</td>\n",
       "      <td>NaN</td>\n",
       "      <td>NaN</td>\n",
       "      <td>NaN</td>\n",
       "      <td>NaN</td>\n",
       "      <td>NaN</td>\n",
       "      <td>NaN</td>\n",
       "      <td>NaN</td>\n",
       "      <td>NaN</td>\n",
       "    </tr>\n",
       "    <tr>\n",
       "      <th>1</th>\n",
       "      <td>1996-01-01</td>\n",
       "      <td>GHCND:AEM00041218</td>\n",
       "      <td>S</td>\n",
       "      <td>AE</td>\n",
       "      <td>NaN</td>\n",
       "      <td>NaN</td>\n",
       "      <td>NaN</td>\n",
       "      <td>NaN</td>\n",
       "      <td>218.0</td>\n",
       "      <td>NaN</td>\n",
       "      <td>NaN</td>\n",
       "      <td>NaN</td>\n",
       "      <td>NaN</td>\n",
       "      <td>NaN</td>\n",
       "      <td>NaN</td>\n",
       "      <td>NaN</td>\n",
       "      <td>NaN</td>\n",
       "      <td>NaN</td>\n",
       "    </tr>\n",
       "    <tr>\n",
       "      <th>2</th>\n",
       "      <td>1996-01-01</td>\n",
       "      <td>GHCND:AEM00041218</td>\n",
       "      <td>S,0706,</td>\n",
       "      <td>AE</td>\n",
       "      <td>NaN</td>\n",
       "      <td>NaN</td>\n",
       "      <td>NaN</td>\n",
       "      <td>NaN</td>\n",
       "      <td>NaN</td>\n",
       "      <td>NaN</td>\n",
       "      <td>NaN</td>\n",
       "      <td>119.0</td>\n",
       "      <td>NaN</td>\n",
       "      <td>NaN</td>\n",
       "      <td>NaN</td>\n",
       "      <td>NaN</td>\n",
       "      <td>NaN</td>\n",
       "      <td>NaN</td>\n",
       "    </tr>\n",
       "    <tr>\n",
       "      <th>3</th>\n",
       "      <td>1996-01-01</td>\n",
       "      <td>GHCND:AEM00041218</td>\n",
       "      <td>S</td>\n",
       "      <td>AE</td>\n",
       "      <td>NaN</td>\n",
       "      <td>NaN</td>\n",
       "      <td>NaN</td>\n",
       "      <td>NaN</td>\n",
       "      <td>NaN</td>\n",
       "      <td>NaN</td>\n",
       "      <td>NaN</td>\n",
       "      <td>NaN</td>\n",
       "      <td>NaN</td>\n",
       "      <td>NaN</td>\n",
       "      <td>NaN</td>\n",
       "      <td>NaN</td>\n",
       "      <td>NaN</td>\n",
       "      <td>96.7</td>\n",
       "    </tr>\n",
       "    <tr>\n",
       "      <th>4</th>\n",
       "      <td>2004-01-01</td>\n",
       "      <td>GHCND:AEM00041194</td>\n",
       "      <td>S</td>\n",
       "      <td>AE</td>\n",
       "      <td>4.0</td>\n",
       "      <td>NaN</td>\n",
       "      <td>NaN</td>\n",
       "      <td>NaN</td>\n",
       "      <td>NaN</td>\n",
       "      <td>NaN</td>\n",
       "      <td>NaN</td>\n",
       "      <td>NaN</td>\n",
       "      <td>NaN</td>\n",
       "      <td>NaN</td>\n",
       "      <td>NaN</td>\n",
       "      <td>NaN</td>\n",
       "      <td>NaN</td>\n",
       "      <td>NaN</td>\n",
       "    </tr>\n",
       "  </tbody>\n",
       "</table>\n",
       "</div>"
      ],
      "text/plain": [
       "         date            station attributes country  DP10  DP1X  DT32   DX70  \\\n",
       "0  1996-01-01  GHCND:AEM00041218          S      AE   NaN   NaN   NaN  339.0   \n",
       "1  1996-01-01  GHCND:AEM00041218          S      AE   NaN   NaN   NaN    NaN   \n",
       "2  1996-01-01  GHCND:AEM00041218   S,0706,       AE   NaN   NaN   NaN    NaN   \n",
       "3  1996-01-01  GHCND:AEM00041218          S      AE   NaN   NaN   NaN    NaN   \n",
       "4  2004-01-01  GHCND:AEM00041194          S      AE   4.0   NaN   NaN    NaN   \n",
       "\n",
       "    DX90  EMNT  EMXP   EMXT  HTDD  MNPN  MXPN  PRCP  TAVG  TMAX  \n",
       "0    NaN   NaN   NaN    NaN   NaN   NaN   NaN   NaN   NaN   NaN  \n",
       "1  218.0   NaN   NaN    NaN   NaN   NaN   NaN   NaN   NaN   NaN  \n",
       "2    NaN   NaN   NaN  119.0   NaN   NaN   NaN   NaN   NaN   NaN  \n",
       "3    NaN   NaN   NaN    NaN   NaN   NaN   NaN   NaN   NaN  96.7  \n",
       "4    NaN   NaN   NaN    NaN   NaN   NaN   NaN   NaN   NaN   NaN  "
      ]
     },
     "execution_count": 18,
     "metadata": {},
     "output_type": "execute_result"
    }
   ],
   "source": [
    "weather_all_stations_df = pd.read_csv(\"Resources/weather_datatype_separated.csv\")\n",
    "print(weather_all_stations_df.count())\n",
    "weather_all_stations_df.head()"
   ]
  },
  {
   "cell_type": "code",
   "execution_count": 19,
   "metadata": {},
   "outputs": [
    {
     "data": {
      "text/plain": [
       "country\n",
       "AE    337.500000\n",
       "AF    148.421053\n",
       "AG    211.389831\n",
       "AJ    160.685714\n",
       "AL    179.600000\n",
       "         ...    \n",
       "UY    225.470588\n",
       "UZ    191.771160\n",
       "VE    364.555556\n",
       "VM    306.963303\n",
       "WA    337.628571\n",
       "Name: DX70, Length: 127, dtype: float64"
      ]
     },
     "execution_count": 19,
     "metadata": {},
     "output_type": "execute_result"
    }
   ],
   "source": [
    "dx70_df = weather_all_stations_df[(weather_all_stations_df['DX70'].notna())]\n",
    "dx70_average = dx70_df.groupby('country')['DX70'].mean()\n",
    "dx70_average"
   ]
  },
  {
   "cell_type": "code",
   "execution_count": 20,
   "metadata": {},
   "outputs": [
    {
     "data": {
      "text/plain": [
       "country\n",
       "AE    216.400000\n",
       "AF     21.105263\n",
       "AG     77.136364\n",
       "AJ     46.114286\n",
       "AL     42.100000\n",
       "         ...    \n",
       "UY     27.294118\n",
       "UZ     93.040752\n",
       "VE    144.027778\n",
       "VM     93.330275\n",
       "WA    106.742857\n",
       "Name: DX90, Length: 127, dtype: float64"
      ]
     },
     "execution_count": 20,
     "metadata": {},
     "output_type": "execute_result"
    }
   ],
   "source": [
    "dx90_df = weather_all_stations_df[(weather_all_stations_df['DX90'].notna())]\n",
    "dx90_average = dx90_df.groupby('country')['DX90'].mean()\n",
    "dx90_average"
   ]
  },
  {
   "cell_type": "code",
   "execution_count": 21,
   "metadata": {},
   "outputs": [
    {
     "data": {
      "text/plain": [
       "country\n",
       "AE    94.690000\n",
       "AF    60.947368\n",
       "AG    75.575000\n",
       "AJ    66.988571\n",
       "AL    70.320000\n",
       "        ...    \n",
       "UY    74.029412\n",
       "UZ    70.073354\n",
       "VE    87.313889\n",
       "VM    83.437615\n",
       "WA    84.311429\n",
       "Name: TMAX, Length: 127, dtype: float64"
      ]
     },
     "execution_count": 21,
     "metadata": {},
     "output_type": "execute_result"
    }
   ],
   "source": [
    "tmax_df = weather_all_stations_df[(weather_all_stations_df['TMAX'].notna())]\n",
    "tmax_average = tmax_df.groupby('country')['TMAX'].mean()\n",
    "tmax_average"
   ]
  },
  {
   "cell_type": "code",
   "execution_count": 22,
   "metadata": {},
   "outputs": [
    {
     "data": {
      "text/plain": [
       "country\n",
       "AE      3.476000\n",
       "AG     12.514003\n",
       "AJ    112.380667\n",
       "AL     76.542000\n",
       "AM     42.697818\n",
       "         ...    \n",
       "UY     41.040071\n",
       "UZ     11.194934\n",
       "VE     56.075529\n",
       "VM     66.113270\n",
       "WA      9.173611\n",
       "Name: PRCP, Length: 126, dtype: float64"
      ]
     },
     "execution_count": 22,
     "metadata": {},
     "output_type": "execute_result"
    }
   ],
   "source": [
    "prcp_df = weather_all_stations_df[(weather_all_stations_df['PRCP'].notna())]\n",
    "prcp_average = prcp_df.groupby('country')['PRCP'].mean()\n",
    "prcp_average"
   ]
  }
 ],
 "metadata": {
  "kernelspec": {
   "display_name": "dev",
   "language": "python",
   "name": "python3"
  },
  "language_info": {
   "codemirror_mode": {
    "name": "ipython",
    "version": 3
   },
   "file_extension": ".py",
   "mimetype": "text/x-python",
   "name": "python",
   "nbconvert_exporter": "python",
   "pygments_lexer": "ipython3",
   "version": "3.10.14"
  }
 },
 "nbformat": 4,
 "nbformat_minor": 2
}
