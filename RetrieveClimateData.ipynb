{
 "cells": [
  {
   "cell_type": "code",
   "execution_count": 6,
   "metadata": {},
   "outputs": [],
   "source": [
    "import requests\n",
    "import os\n",
    "import json\n",
    "import pandas as pd\n",
    "\n",
    "from dotenv import load_dotenv"
   ]
  },
  {
   "cell_type": "code",
   "execution_count": 7,
   "metadata": {},
   "outputs": [],
   "source": [
    " # Load environment variables from .env file\n",
    "load_dotenv()\n",
    "\n",
    "# Get the API key\n",
    "api_key = os.getenv('NOAA_CLIMATE_DATA')\n",
    "token = api_key"
   ]
  },
  {
   "cell_type": "code",
   "execution_count": 8,
   "metadata": {},
   "outputs": [],
   "source": [
    "def get_weather_data(token, location_id, start_date, end_date, data_type):\n",
    "    url = \"https://www.ncdc.noaa.gov/cdo-web/api/v2/data\"\n",
    "    headers = {\n",
    "        'token': token\n",
    "    }\n",
    "    params = {\n",
    "        'datasetid': 'GSOY',  # Global Historical Climatology Network - GSOM is monthly, GSOY is yearly\n",
    "        'locationid': f'FIPS:{location_id}',  # Location ID for country\n",
    "        'startdate': start_date,\n",
    "        'enddate': end_date,\n",
    "        'datatypeid': data_type,\n",
    "        'units': 'standard',  # Use 'standard' for Fahrenheit, inches, etc.\n",
    "        'limit': 1000  # Adjust as needed\n",
    "    }\n",
    "\n",
    "    response = requests.get(url, headers=headers, params=params)\n",
    "    print(response)\n",
    "    \n",
    "    if response.status_code == 200:\n",
    "        return response.json()\n",
    "    else:\n",
    "        return response.status_code, response.text\n",
    "\n"
   ]
  },
  {
   "cell_type": "code",
   "execution_count": 9,
   "metadata": {},
   "outputs": [],
   "source": [
    "# Get user input for location ID\n",
    "location_id = input(\"Enter location ID (FIPS code): \")\n",
    "\n",
    "# Get user input for start date\n",
    "start_date = input(\"Enter start date (YYYY-MM-DD): \")\n",
    "\n",
    "# Get user input for end date\n",
    "end_date = input(\"Enter end date (YYYY-MM-DD): \")\n",
    "\n",
    "# Date types to get\n",
    "data_types = [\"DP10\", \"DP1X\", \"DT32\", \"DX70\", \"DX90\", \"PRCP\", \"RHAV\", \"TAVG\", 'TMAX']"
   ]
  },
  {
   "cell_type": "code",
   "execution_count": 10,
   "metadata": {},
   "outputs": [
    {
     "name": "stdout",
     "output_type": "stream",
     "text": [
      "<Response [200]>\n"
     ]
    },
    {
     "ename": "AttributeError",
     "evalue": "'DataFrame' object has no attribute 'append'",
     "output_type": "error",
     "traceback": [
      "\u001b[0;31m---------------------------------------------------------------------------\u001b[0m",
      "\u001b[0;31mAttributeError\u001b[0m                            Traceback (most recent call last)",
      "\u001b[0;32m/var/folders/_d/q6dl733j0hdfhxbg883rg3xc0000gn/T/ipykernel_73012/757841231.py\u001b[0m in \u001b[0;36m?\u001b[0;34m()\u001b[0m\n\u001b[1;32m     27\u001b[0m                 \u001b[0mstation\u001b[0m \u001b[0;34m=\u001b[0m \u001b[0mresult\u001b[0m\u001b[0;34m[\u001b[0m\u001b[0;34m\"station\"\u001b[0m\u001b[0;34m]\u001b[0m\u001b[0;34m\u001b[0m\u001b[0;34m\u001b[0m\u001b[0m\n\u001b[1;32m     28\u001b[0m \u001b[0;34m\u001b[0m\u001b[0m\n\u001b[1;32m     29\u001b[0m                 \u001b[0;31m# Check if the date already exists in the DataFrame\u001b[0m\u001b[0;34m\u001b[0m\u001b[0;34m\u001b[0m\u001b[0m\n\u001b[1;32m     30\u001b[0m                 \u001b[0;32mif\u001b[0m \u001b[0mdate\u001b[0m \u001b[0;32mnot\u001b[0m \u001b[0;32min\u001b[0m \u001b[0mweather_df\u001b[0m\u001b[0;34m[\u001b[0m\u001b[0;34m'date'\u001b[0m\u001b[0;34m]\u001b[0m\u001b[0;34m.\u001b[0m\u001b[0mtolist\u001b[0m\u001b[0;34m(\u001b[0m\u001b[0;34m)\u001b[0m\u001b[0;34m:\u001b[0m\u001b[0;34m\u001b[0m\u001b[0;34m\u001b[0m\u001b[0m\n\u001b[0;32m---> 31\u001b[0;31m                     \u001b[0mweather_df\u001b[0m \u001b[0;34m=\u001b[0m \u001b[0mweather_df\u001b[0m\u001b[0;34m.\u001b[0m\u001b[0mappend\u001b[0m\u001b[0;34m(\u001b[0m\u001b[0;34m{\u001b[0m\u001b[0;34m'date'\u001b[0m\u001b[0;34m:\u001b[0m \u001b[0mdate\u001b[0m\u001b[0;34m,\u001b[0m \u001b[0;34m'station'\u001b[0m\u001b[0;34m:\u001b[0m \u001b[0mstation\u001b[0m\u001b[0;34m}\u001b[0m\u001b[0;34m,\u001b[0m \u001b[0mignore_index\u001b[0m\u001b[0;34m=\u001b[0m\u001b[0;32mTrue\u001b[0m\u001b[0;34m)\u001b[0m\u001b[0;34m\u001b[0m\u001b[0;34m\u001b[0m\u001b[0m\n\u001b[0m\u001b[1;32m     32\u001b[0m \u001b[0;34m\u001b[0m\u001b[0m\n\u001b[1;32m     33\u001b[0m                 \u001b[0;31m# Add the value to the corresponding cell\u001b[0m\u001b[0;34m\u001b[0m\u001b[0;34m\u001b[0m\u001b[0m\n\u001b[1;32m     34\u001b[0m                 \u001b[0mweather_df\u001b[0m\u001b[0;34m.\u001b[0m\u001b[0mloc\u001b[0m\u001b[0;34m[\u001b[0m\u001b[0mweather_df\u001b[0m\u001b[0;34m[\u001b[0m\u001b[0;34m'date'\u001b[0m\u001b[0;34m]\u001b[0m \u001b[0;34m==\u001b[0m \u001b[0mdate\u001b[0m\u001b[0;34m,\u001b[0m \u001b[0mdatatype\u001b[0m\u001b[0;34m]\u001b[0m \u001b[0;34m=\u001b[0m \u001b[0mvalue\u001b[0m\u001b[0;34m\u001b[0m\u001b[0;34m\u001b[0m\u001b[0m\n",
      "\u001b[0;32m/Volumes/CrazyBirdDrive/class_env/lib/python3.12/site-packages/pandas/core/generic.py\u001b[0m in \u001b[0;36m?\u001b[0;34m(self, name)\u001b[0m\n\u001b[1;32m   6295\u001b[0m             \u001b[0;32mand\u001b[0m \u001b[0mname\u001b[0m \u001b[0;32mnot\u001b[0m \u001b[0;32min\u001b[0m \u001b[0mself\u001b[0m\u001b[0;34m.\u001b[0m\u001b[0m_accessors\u001b[0m\u001b[0;34m\u001b[0m\u001b[0;34m\u001b[0m\u001b[0m\n\u001b[1;32m   6296\u001b[0m             \u001b[0;32mand\u001b[0m \u001b[0mself\u001b[0m\u001b[0;34m.\u001b[0m\u001b[0m_info_axis\u001b[0m\u001b[0;34m.\u001b[0m\u001b[0m_can_hold_identifiers_and_holds_name\u001b[0m\u001b[0;34m(\u001b[0m\u001b[0mname\u001b[0m\u001b[0;34m)\u001b[0m\u001b[0;34m\u001b[0m\u001b[0;34m\u001b[0m\u001b[0m\n\u001b[1;32m   6297\u001b[0m         \u001b[0;34m)\u001b[0m\u001b[0;34m:\u001b[0m\u001b[0;34m\u001b[0m\u001b[0;34m\u001b[0m\u001b[0m\n\u001b[1;32m   6298\u001b[0m             \u001b[0;32mreturn\u001b[0m \u001b[0mself\u001b[0m\u001b[0;34m[\u001b[0m\u001b[0mname\u001b[0m\u001b[0;34m]\u001b[0m\u001b[0;34m\u001b[0m\u001b[0;34m\u001b[0m\u001b[0m\n\u001b[0;32m-> 6299\u001b[0;31m         \u001b[0;32mreturn\u001b[0m \u001b[0mobject\u001b[0m\u001b[0;34m.\u001b[0m\u001b[0m__getattribute__\u001b[0m\u001b[0;34m(\u001b[0m\u001b[0mself\u001b[0m\u001b[0;34m,\u001b[0m \u001b[0mname\u001b[0m\u001b[0;34m)\u001b[0m\u001b[0;34m\u001b[0m\u001b[0;34m\u001b[0m\u001b[0m\n\u001b[0m",
      "\u001b[0;31mAttributeError\u001b[0m: 'DataFrame' object has no attribute 'append'"
     ]
    }
   ],
   "source": [
    "# Create a dataframe from results\n",
    "weather_df = pd.DataFrame(columns=['date', 'station'] + data_types)\n",
    "\n",
    "# Loop through each data type\n",
    "for data_type in data_types:\n",
    "    weather_data = get_weather_data(token, location_id, start_date, end_date, data_type)\n",
    "    \n",
    "    # Check if the response is successful or not\n",
    "    if isinstance(weather_data, tuple):\n",
    "        # Error case\n",
    "        print(\"Error occurred: Status Code:\", weather_data[0], \"Message:\", weather_data[1])\n",
    "    else:\n",
    "        # Success case\n",
    "        # Check if the response contains any data\n",
    "        if weather_data.get(\"results\"):\n",
    "            # Parse the JSON strings into dictionaries\n",
    "            results = weather_data[\"results\"]\n",
    "\n",
    "            # Create a dataframe from results\n",
    "            weather_df = pd.DataFrame(columns=['date', 'station'] + data_types)\n",
    "\n",
    "            # Iterate over each result\n",
    "            for result in results:\n",
    "                date = result[\"date\"][:10]  # Extract date portion\n",
    "                datatype = result[\"datatype\"]\n",
    "                value = result[\"value\"]\n",
    "                station = result[\"station\"]\n",
    "                \n",
    "                # Check if the date already exists in the DataFrame\n",
    "                if date not in weather_df['date'].tolist():\n",
    "                    weather_df = weather_df.append({'date': date, 'station': station}, ignore_index=True)\n",
    "\n",
    "                # Add the value to the corresponding cell\n",
    "                weather_df.loc[weather_df['date'] == date, datatype] = value\n",
    "\n",
    "            # Append the weather_df to the final_df\n",
    "            final_df = final_df.append(weather_df, ignore_index=True)\n",
    "\n",
    "# Constructing filename\n",
    "filename = f\"{location_id}_{start_date}_{end_date}_weather_data.csv\"\n",
    "\n",
    "# Export the final dataframe to a CSV file with the constructed filename\n",
    "final_df.to_csv(filename, index=False)\n",
    "\n",
    "print(f\"Data saved to {filename}\")"
   ]
  }
 ],
 "metadata": {
  "kernelspec": {
   "display_name": "class_env",
   "language": "python",
   "name": "python3"
  },
  "language_info": {
   "codemirror_mode": {
    "name": "ipython",
    "version": 3
   },
   "file_extension": ".py",
   "mimetype": "text/x-python",
   "name": "python",
   "nbconvert_exporter": "python",
   "pygments_lexer": "ipython3",
   "version": "3.12.3"
  }
 },
 "nbformat": 4,
 "nbformat_minor": 2
}
