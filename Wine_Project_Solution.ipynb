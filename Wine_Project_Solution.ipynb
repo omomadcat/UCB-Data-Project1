{
 "cells": [
  {
   "cell_type": "code",
   "execution_count": 1,
   "metadata": {},
   "outputs": [],
   "source": [
    "# Import necessary libraries\n",
    "import pandas as pd\n",
    "import matplotlib.pyplot as plt\n",
    "import seaborn as sns\n",
    "import numpy as np\n",
    "from scipy import stats"
   ]
  },
  {
   "cell_type": "code",
   "execution_count": 2,
   "metadata": {},
   "outputs": [
    {
     "name": "stdout",
     "output_type": "stream",
     "text": [
      "  Continent Region/Country Product     Variable  Year     Unit  Quantity  \\\n",
      "0      Asia    Afghanistan    Wine  Consumption  1995  1000 hl         0   \n",
      "1      Asia    Afghanistan    Wine      Imports  1995  1000 hl         0   \n",
      "2      Asia    Afghanistan    Wine   Production  1995  1000 hl         0   \n",
      "3      Asia    Afghanistan    Wine  Consumption  1996  1000 hl         0   \n",
      "4      Asia    Afghanistan    Wine      Imports  1996  1000 hl         0   \n",
      "\n",
      "  Country_Code  DP10  DP1X  ...  DX90  EMNT  EMXP  EMXT  HTDD  MNPN  MXPN  \\\n",
      "0           AF     0     0  ...     0   0.0   0.0   0.0     0     0     0   \n",
      "1           AF     0     0  ...     0   0.0   0.0   0.0     0     0     0   \n",
      "2           AF     0     0  ...     0   0.0   0.0   0.0     0     0     0   \n",
      "3           AF     0     0  ...     0   0.0   0.0   0.0     0     0     0   \n",
      "4           AF     0     0  ...     0   0.0   0.0   0.0     0     0     0   \n",
      "\n",
      "   PRCP  TAVG  TMAX  \n",
      "0   0.0   0.0   0.0  \n",
      "1   0.0   0.0   0.0  \n",
      "2   0.0   0.0   0.0  \n",
      "3   0.0   0.0   0.0  \n",
      "4   0.0   0.0   0.0  \n",
      "\n",
      "[5 rows x 22 columns]\n"
     ]
    }
   ],
   "source": [
    "# Step 1: Load data from Excel file\n",
    "file_path = r'Resources\\Wine_Country_Weather_Data_adj.xlsx' \n",
    "wine_country_weather_data_df = pd.read_excel(file_path, sheet_name='Table')\n",
    "\n",
    "# Step 2: Display the first few rows of the DataFrame to verify loading\n",
    "print(wine_country_weather_data_df.head())"
   ]
  },
  {
   "cell_type": "code",
   "execution_count": 3,
   "metadata": {},
   "outputs": [
    {
     "name": "stdout",
     "output_type": "stream",
     "text": [
      "   DataType                                                   Definition\n",
      "0      DP10                              Number of days with >= 0.1 inch\n",
      "1      DP1X                             Number of days with >= 1.00 inch\n",
      "2      DT32  Number of days with maximum temperature <= 32 degrees Fa...\n",
      "3      DX70  Number of days with maximum temperature >= 70 degrees Fa...\n",
      "4      DX90  Number of days with maximum temperature >= 90 degrees Fa...\n",
      "5      EMNT  Extreme minimum temperature for month. Lowest daily mini...\n",
      "6      EMXP  Highest daily total of precipitation in the month. Given...\n",
      "7      EMXT  Extreme maximum temperature for month. Highest daily max...\n",
      "8      HTDD  Heating Degree Days. Computed when daily average tempera...\n",
      "9      MNPN  Monthly Mean Minimum Temperature of evaporation pan wate...\n",
      "10     MXPN  Monthly Mean Maximum Temperature of evaporation pan wate...\n",
      "11     PRCP   Total Monthly Precipitation. Given in inches or millime...\n",
      "12     TAVG  Average Monthly Temperature. Computed by adding the unro...\n",
      "13     TMAX  Monthly Maximum Temperature. Average of daily maximum te...\n"
     ]
    }
   ],
   "source": [
    "# Load data from Excel file\n",
    "file_path = r'Resources/Wine_Country_Weather_Data_adj.xlsx' \n",
    "glossary_df = pd.read_excel(file_path, sheet_name='Glossary')\n",
    "\n",
    "# Adjust display options to show entire strings\n",
    "pd.set_option('display.max_colwidth', 60)\n",
    "\n",
    "# Display the first few rows of the glossary dataframe\n",
    "print(glossary_df)"
   ]
  },
  {
   "cell_type": "code",
   "execution_count": 9,
   "metadata": {},
   "outputs": [
    {
     "name": "stdout",
     "output_type": "stream",
     "text": [
      "  Continent Region/Country Product     Variable  Year     Unit  Quantity  \\\n",
      "0      Asia    Afghanistan    Wine  Consumption  1995  1000 hl         0   \n",
      "1      Asia    Afghanistan    Wine      Imports  1995  1000 hl         0   \n",
      "2      Asia    Afghanistan    Wine   Production  1995  1000 hl         0   \n",
      "3      Asia    Afghanistan    Wine  Consumption  1996  1000 hl         0   \n",
      "4      Asia    Afghanistan    Wine      Imports  1996  1000 hl         0   \n",
      "\n",
      "   Quantity_gallons Country_Code  DP10  ...  DX90  EMNT  EMXP  EMXT  HTDD  \\\n",
      "0               0.0           AF     0  ...     0   0.0   0.0   0.0     0   \n",
      "1               0.0           AF     0  ...     0   0.0   0.0   0.0     0   \n",
      "2               0.0           AF     0  ...     0   0.0   0.0   0.0     0   \n",
      "3               0.0           AF     0  ...     0   0.0   0.0   0.0     0   \n",
      "4               0.0           AF     0  ...     0   0.0   0.0   0.0     0   \n",
      "\n",
      "   MNPN  MXPN  PRCP  TAVG  TMAX  \n",
      "0     0     0   0.0   0.0   0.0  \n",
      "1     0     0   0.0   0.0   0.0  \n",
      "2     0     0   0.0   0.0   0.0  \n",
      "3     0     0   0.0   0.0   0.0  \n",
      "4     0     0   0.0   0.0   0.0  \n",
      "\n",
      "[5 rows x 23 columns]\n"
     ]
    }
   ],
   "source": [
    "# Convert quantity from 1000hl to gallons\n",
    "# Assuming the quantity column is named 'quantity' and it is in '1000hl'\n",
    "# 1 hectoliter (hl) is approximately 26.4172 gallons\n",
    "# Therefore, 1000 hl is 1000 * 26.4172 gallons\n",
    "\n",
    "conversion_factor = 26.4172\n",
    "wine_country_weather_data_df['Quantity_gallons'] = wine_country_weather_data_df['Quantity'].astype(float) * 1000 * conversion_factor\n",
    "\n",
    "# Reorder columns to place 'Quantity_Gallons' right after 'Quantity'\n",
    "columns = list(wine_country_weather_data_df.columns)\n",
    "quantity_index = columns.index('Quantity')\n",
    "columns.insert(quantity_index + 1, columns.pop(columns.index('Quantity_gallons')))\n",
    "wine_country_weather_data_final_df = wine_country_weather_data_df[columns]\n",
    "\n",
    "# Display the modified dataframe\n",
    "print(wine_country_weather_data_final_df.head())"
   ]
  }
 ],
 "metadata": {
  "kernelspec": {
   "display_name": "Python 3",
   "language": "python",
   "name": "python3"
  },
  "language_info": {
   "codemirror_mode": {
    "name": "ipython",
    "version": 3
   },
   "file_extension": ".py",
   "mimetype": "text/x-python",
   "name": "python",
   "nbconvert_exporter": "python",
   "pygments_lexer": "ipython3",
   "version": "3.12.4"
  }
 },
 "nbformat": 4,
 "nbformat_minor": 2
}
