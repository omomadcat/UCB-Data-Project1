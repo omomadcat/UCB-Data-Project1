{
 "cells": [
  {
   "cell_type": "code",
   "execution_count": 15,
   "metadata": {},
   "outputs": [],
   "source": [
    "# Import necessary libraries\n",
    "import pandas as pd\n",
    "import matplotlib.pyplot as plt\n",
    "import seaborn as sns\n",
    "import numpy as np\n",
    "from scipy import stats"
   ]
  },
  {
   "cell_type": "code",
   "execution_count": 16,
   "metadata": {},
   "outputs": [
    {
     "name": "stdout",
     "output_type": "stream",
     "text": [
      "  Continent Region/Country Product     Variable    Year     Unit  Quantity\n",
      "0      Asia    Afghanistan    Wine  Consumption  1995.0  1000 hl       0.0\n",
      "1      Asia    Afghanistan    Wine      Imports  1995.0  1000 hl       0.0\n",
      "2      Asia    Afghanistan    Wine   Production  1995.0  1000 hl       0.0\n",
      "3      Asia    Afghanistan    Wine  Consumption  1996.0  1000 hl       0.0\n",
      "4      Asia    Afghanistan    Wine      Imports  1996.0  1000 hl       0.0\n"
     ]
    }
   ],
   "source": [
    "# Step 1: Load data from Excel file\n",
    "file_path = r'Resources\\Wine_data_all.xlsx' \n",
    "wine_country_data_df = pd.read_excel(file_path, sheet_name='Export')\n",
    "\n",
    "# Step 2: Display the first few rows of the DataFrame to verify loading\n",
    "print(wine_country_data_df.head())"
   ]
  },
  {
   "cell_type": "code",
   "execution_count": 17,
   "metadata": {},
   "outputs": [
    {
     "name": "stdout",
     "output_type": "stream",
     "text": [
      "  Continent Region/Country Product     Variable    Year     Unit  Quantity  \\\n",
      "0      Asia    Afghanistan    Wine  Consumption  1995.0  1000 hl       0.0   \n",
      "1      Asia    Afghanistan    Wine      Imports  1995.0  1000 hl       0.0   \n",
      "2      Asia    Afghanistan    Wine   Production  1995.0  1000 hl       0.0   \n",
      "3      Asia    Afghanistan    Wine  Consumption  1996.0  1000 hl       0.0   \n",
      "4      Asia    Afghanistan    Wine      Imports  1996.0  1000 hl       0.0   \n",
      "\n",
      "   Quantity (gallons)  \n",
      "0                 0.0  \n",
      "1                 0.0  \n",
      "2                 0.0  \n",
      "3                 0.0  \n",
      "4                 0.0  \n"
     ]
    }
   ],
   "source": [
    "# Conversion factor from 1000 hl to gallons\n",
    "conversion_factor = 1000 * 26.4172\n",
    "\n",
    "# Convert the Quantity column to gallons\n",
    "wine_country_data_df['Quantity (gallons)'] = wine_country_data_df['Quantity'] * conversion_factor\n",
    "\n",
    "# Display the first few rows to verify the conversion\n",
    "print(wine_country_data_df.head())"
   ]
  },
  {
   "cell_type": "code",
   "execution_count": 18,
   "metadata": {},
   "outputs": [
    {
     "name": "stdout",
     "output_type": "stream",
     "text": [
      "  Continent Region/Country Product     Variable    Year     Unit  Quantity  \\\n",
      "0      Asia    Afghanistan    Wine  Consumption  1995.0  1000 hl       0.0   \n",
      "1      Asia    Afghanistan    Wine      Imports  1995.0  1000 hl       0.0   \n",
      "2      Asia    Afghanistan    Wine   Production  1995.0  1000 hl       0.0   \n",
      "3      Asia    Afghanistan    Wine  Consumption  1996.0  1000 hl       0.0   \n",
      "4      Asia    Afghanistan    Wine      Imports  1996.0  1000 hl       0.0   \n",
      "\n",
      "   Quantity (gallons)  \n",
      "0                   0  \n",
      "1                   0  \n",
      "2                   0  \n",
      "3                   0  \n",
      "4                   0  \n"
     ]
    }
   ],
   "source": [
    "# Replace NaN or inf values with 0\n",
    "wine_country_data_df['Quantity (gallons)'] = wine_country_data_df['Quantity (gallons)'].replace([np.inf, -np.inf], np.nan).fillna(0)\n",
    "\n",
    "# Convert Quantity (gallons) to whole numbers by rounding\n",
    "wine_country_data_df['Quantity (gallons)'] = wine_country_data_df['Quantity (gallons)'].round().astype(int)\n",
    "\n",
    "# Display the first few rows to verify the adjustment\n",
    "print(wine_country_data_df.head())\n"
   ]
  },
  {
   "cell_type": "code",
   "execution_count": 19,
   "metadata": {},
   "outputs": [
    {
     "name": "stdout",
     "output_type": "stream",
     "text": [
      "  Code               Country\n",
      "0   AC   Antigua and Barbuda\n",
      "1   AE  United Arab Emirates\n",
      "2   AF           Afghanistan\n",
      "3   AG               Algeria\n",
      "4   AJ            Azerbaijan\n"
     ]
    }
   ],
   "source": [
    "# Step 1: Load data from the CSV file\n",
    "csv_file_path = r'Resources\\ghcnd-countries.csv'  \n",
    "ghcnd_countries_df = pd.read_csv(csv_file_path)\n",
    "\n",
    "# Step 2: Display the first few rows of the DataFrame to verify loading\n",
    "print(ghcnd_countries_df.head())"
   ]
  },
  {
   "cell_type": "code",
   "execution_count": 20,
   "metadata": {},
   "outputs": [
    {
     "name": "stdout",
     "output_type": "stream",
     "text": [
      "  Continent       Region/Country Product     Variable    Year     Unit  \\\n",
      "0   America  Antigua and Barbuda    Wine  Consumption  1995.0  1000 hl   \n",
      "1   America  Antigua and Barbuda    Wine      Exports  1995.0  1000 hl   \n",
      "2   America  Antigua and Barbuda    Wine      Imports  1995.0  1000 hl   \n",
      "3   America  Antigua and Barbuda    Wine   Production  1995.0  1000 hl   \n",
      "4   America  Antigua and Barbuda    Wine  Consumption  1996.0  1000 hl   \n",
      "\n",
      "  Quantity Quantity (gallons) Code              Country  \n",
      "0      1.0            26417.0   AC  Antigua and Barbuda  \n",
      "1      0.0                0.0   AC  Antigua and Barbuda  \n",
      "2      2.0            52834.0   AC  Antigua and Barbuda  \n",
      "3      0.0                0.0   AC  Antigua and Barbuda  \n",
      "4      2.0            52834.0   AC  Antigua and Barbuda  \n"
     ]
    }
   ],
   "source": [
    "# Merge the DataFrames\n",
    "wine_country_data_code_mapping_df = pd.merge(wine_country_data_df, ghcnd_countries_df, \n",
    "                                             left_on='Region/Country', right_on='Country', \n",
    "                                             how='right')\n",
    "\n",
    "# Replace NaN values with blanks (empty strings)\n",
    "wine_country_data_code_mapping_df = wine_country_data_code_mapping_df.fillna('')\n",
    "\n",
    "# Display the first few rows of the new DataFrame to verify\n",
    "print(wine_country_data_code_mapping_df.head())"
   ]
  },
  {
   "cell_type": "code",
   "execution_count": 21,
   "metadata": {},
   "outputs": [],
   "source": [
    "# Export the DataFrame to a CSV file in the Resources folder\n",
    "output_file_path = r'Resources/wine_country_data_code_mapping.csv'\n",
    "wine_country_data_code_mapping_df.to_csv(output_file_path, index=False)\n"
   ]
  }
 ],
 "metadata": {
  "kernelspec": {
   "display_name": "Python 3",
   "language": "python",
   "name": "python3"
  },
  "language_info": {
   "codemirror_mode": {
    "name": "ipython",
    "version": 3
   },
   "file_extension": ".py",
   "mimetype": "text/x-python",
   "name": "python",
   "nbconvert_exporter": "python",
   "pygments_lexer": "ipython3",
   "version": "3.12.4"
  }
 },
 "nbformat": 4,
 "nbformat_minor": 2
}
