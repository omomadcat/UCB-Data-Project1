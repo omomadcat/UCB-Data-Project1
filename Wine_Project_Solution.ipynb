{
 "cells": [
  {
   "cell_type": "code",
   "execution_count": 1,
   "metadata": {},
   "outputs": [],
   "source": [
    "# Import necessary libraries\n",
    "import pandas as pd\n",
    "import matplotlib.pyplot as plt\n",
    "import seaborn as sns\n",
    "import numpy as np\n",
    "from scipy import stats"
   ]
  },
  {
   "cell_type": "code",
   "execution_count": 4,
   "metadata": {},
   "outputs": [
    {
     "name": "stdout",
     "output_type": "stream",
     "text": [
      "  Continent Region/Country Product     Variable    Year     Unit  Quantity\n",
      "0      Asia    Afghanistan    Wine  Consumption  1995.0  1000 hl       0.0\n",
      "1      Asia    Afghanistan    Wine      Imports  1995.0  1000 hl       0.0\n",
      "2      Asia    Afghanistan    Wine   Production  1995.0  1000 hl       0.0\n",
      "3      Asia    Afghanistan    Wine  Consumption  1996.0  1000 hl       0.0\n",
      "4      Asia    Afghanistan    Wine      Imports  1996.0  1000 hl       0.0\n"
     ]
    }
   ],
   "source": [
    "# Step 1: Load data from Excel file\n",
    "file_path = r'Resources\\Wine_data_all.xlsx' \n",
    "wine_country_data_df = pd.read_excel(file_path, sheet_name='Export')\n",
    "\n",
    "# Step 2: Display the first few rows of the DataFrame to verify loading\n",
    "print(wine_country_data_df.head())"
   ]
  },
  {
   "cell_type": "code",
   "execution_count": 5,
   "metadata": {},
   "outputs": [
    {
     "name": "stdout",
     "output_type": "stream",
     "text": [
      "  Continent Region/Country Product     Variable    Year     Unit  Quantity  \\\n",
      "0      Asia    Afghanistan    Wine  Consumption  1995.0  1000 hl       0.0   \n",
      "1      Asia    Afghanistan    Wine      Imports  1995.0  1000 hl       0.0   \n",
      "2      Asia    Afghanistan    Wine   Production  1995.0  1000 hl       0.0   \n",
      "3      Asia    Afghanistan    Wine  Consumption  1996.0  1000 hl       0.0   \n",
      "4      Asia    Afghanistan    Wine      Imports  1996.0  1000 hl       0.0   \n",
      "\n",
      "   Quantity (gallons)  \n",
      "0                 0.0  \n",
      "1                 0.0  \n",
      "2                 0.0  \n",
      "3                 0.0  \n",
      "4                 0.0  \n"
     ]
    }
   ],
   "source": [
    "# Conversion factor from 1000 hl to gallons\n",
    "conversion_factor = 1000 * 26.4172\n",
    "\n",
    "# Convert the Quantity column to gallons\n",
    "wine_country_data_df['Quantity (gallons)'] = wine_country_data_df['Quantity'] * conversion_factor\n",
    "\n",
    "# Display the first few rows to verify the conversion\n",
    "print(wine_country_data_df.head())"
   ]
  },
  {
   "cell_type": "code",
   "execution_count": 6,
   "metadata": {},
   "outputs": [
    {
     "name": "stdout",
     "output_type": "stream",
     "text": [
      "  Continent Region/Country Product     Variable    Year     Unit  Quantity  \\\n",
      "0      Asia    Afghanistan    Wine  Consumption  1995.0  1000 hl       0.0   \n",
      "1      Asia    Afghanistan    Wine      Imports  1995.0  1000 hl       0.0   \n",
      "2      Asia    Afghanistan    Wine   Production  1995.0  1000 hl       0.0   \n",
      "3      Asia    Afghanistan    Wine  Consumption  1996.0  1000 hl       0.0   \n",
      "4      Asia    Afghanistan    Wine      Imports  1996.0  1000 hl       0.0   \n",
      "\n",
      "   Quantity (gallons)  \n",
      "0                   0  \n",
      "1                   0  \n",
      "2                   0  \n",
      "3                   0  \n",
      "4                   0  \n"
     ]
    }
   ],
   "source": [
    "# Replace NaN or inf values with 0\n",
    "wine_country_data_df['Quantity (gallons)'] = wine_country_data_df['Quantity (gallons)'].replace([np.inf, -np.inf], np.nan).fillna(0)\n",
    "\n",
    "# Convert Quantity (gallons) to whole numbers by rounding\n",
    "wine_country_data_df['Quantity (gallons)'] = wine_country_data_df['Quantity (gallons)'].round().astype(int)\n",
    "\n",
    "# Display the first few rows to verify the adjustment\n",
    "print(wine_country_data_df.head())\n"
   ]
  },
  {
   "cell_type": "code",
   "execution_count": null,
   "metadata": {},
   "outputs": [],
   "source": []
  }
 ],
 "metadata": {
  "kernelspec": {
   "display_name": "Python 3",
   "language": "python",
   "name": "python3"
  },
  "language_info": {
   "codemirror_mode": {
    "name": "ipython",
    "version": 3
   },
   "file_extension": ".py",
   "mimetype": "text/x-python",
   "name": "python",
   "nbconvert_exporter": "python",
   "pygments_lexer": "ipython3",
   "version": "3.12.4"
  }
 },
 "nbformat": 4,
 "nbformat_minor": 2
}
